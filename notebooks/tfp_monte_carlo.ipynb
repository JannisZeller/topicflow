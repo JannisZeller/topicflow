{
 "cells": [
  {
   "attachments": {},
   "cell_type": "markdown",
   "metadata": {},
   "source": [
    "# LDA with `tfp` built-in Hamiltonian Markov-Chain-Monte-Carlo (HMC) Methods\n",
    "\n",
    "This Notebook presents how TensorFlow Probability's builtin HMC sampling tools can be applied to Latent Dirichlet Allocation. Tested with `tf 2.10` alongside `tfp 0.18.0` on GPU and `tf 2.11` alongside `tfp 0.19.0` on CPU (both Windows).\n",
    "\n",
    "---"
   ]
  },
  {
   "attachments": {},
   "cell_type": "markdown",
   "metadata": {},
   "source": [
    "## Setup"
   ]
  },
  {
   "cell_type": "code",
   "execution_count": 69,
   "metadata": {},
   "outputs": [],
   "source": [
    "import tensorflow_probability as tfp\n",
    "import tensorflow as tf\n",
    "tfd = tfp.distributions\n",
    "tfb = tfp.bijectors\n",
    "import numpy as np\n",
    "import seaborn as sns\n",
    "\n",
    "np.random.seed(42)\n",
    "tf.random.set_seed(42)"
   ]
  },
  {
   "cell_type": "code",
   "execution_count": 70,
   "metadata": {},
   "outputs": [],
   "source": [
    "## from ../src\n",
    "import sys\n",
    "if \"../\" not in sys.path: sys.path.append(\"../\")\n",
    "\n",
    "import src.utils   as tpc_utils # `tpc` abbreviates \"topic\"\n",
    "import src.data    as tpc_data\n",
    "import src.sampler as tpc_sampler"
   ]
  },
  {
   "attachments": {},
   "cell_type": "markdown",
   "metadata": {},
   "source": [
    "---"
   ]
  },
  {
   "attachments": {},
   "cell_type": "markdown",
   "metadata": {},
   "source": [
    "## Data Generation\n",
    "Configurations of the dataset"
   ]
  },
  {
   "cell_type": "code",
   "execution_count": 71,
   "metadata": {},
   "outputs": [],
   "source": [
    "N_docs       = 300\n",
    "sqrt_N_vocab = 3\n",
    "N_words      = 50\n",
    "\n",
    "## Variable Document Lengths?\n",
    "uniform_doclengths = False\n",
    "\n",
    "N_topics = int(2*sqrt_N_vocab)\n",
    "N_vocab  = int(sqrt_N_vocab**2)"
   ]
  },
  {
   "attachments": {},
   "cell_type": "markdown",
   "metadata": {},
   "source": [
    "Sampling a dataset with fixed document length or with varying document lengths"
   ]
  },
  {
   "cell_type": "code",
   "execution_count": 72,
   "metadata": {},
   "outputs": [],
   "source": [
    "data = tpc_data.squareLDDocuments(\n",
    "    N_docs=N_docs, \n",
    "    sqrt_N_vocab=sqrt_N_vocab, \n",
    "    N_words=N_words,\n",
    "    uniform_doclengths=uniform_doclengths)"
   ]
  },
  {
   "cell_type": "code",
   "execution_count": 73,
   "metadata": {},
   "outputs": [],
   "source": [
    "Theta, Pi, C_DId, C_DIdK, words = data.extract_params()"
   ]
  },
  {
   "cell_type": "code",
   "execution_count": 74,
   "metadata": {},
   "outputs": [
    {
     "data": {
      "image/png": "[encoded data removed]",
      "text/plain": [
       "<Figure size 900x600 with 6 Axes>"
      ]
     },
     "metadata": {},
     "output_type": "display_data"
    }
   ],
   "source": [
    "_ = tpc_utils.visualize_topics(Theta, N_row=2, N_col=3)"
   ]
  },
  {
   "attachments": {},
   "cell_type": "markdown",
   "metadata": {},
   "source": [
    "#### Preprocessing the Data\n",
    "\n",
    "If the document length is variable, `tfp` methods are not properly applicable, because it lacks capabilities for processing `tf.RaggedTensor`s (as far as I can tell, 2022-11-15). Thus no (joint)-distribution can be defined which samples variable-length documents. The idea is, to pad each document to the size of the longest document base on the observed frequency of each token in the document in a catrgorical-distributed manner:\n",
    "\n",
    "$$\n",
    "    X_{\\textsf{pad}}^{(j)} \\overset{\\textsf{iid}}{\\sim} \\textsf{Categorcial}\\left( \\frac{\\textsf{count}(x_i)}{\\textsf{len}(\\textsf{doc}_j)}; \\ i =1,\\dots, V \\right)\n",
    "$$\n",
    "\n",
    "This should work becaus topic models are bag-of-words models where only the (relative) frequency of token occurances matter. This approach will improve in performace the more word per document are used."
   ]
  },
  {
   "cell_type": "code",
   "execution_count": 75,
   "metadata": {},
   "outputs": [],
   "source": [
    "if not uniform_doclengths:\n",
    "    pad_token = N_vocab + 1\n",
    "    single_doclengths = words.nested_row_lengths()[0].numpy()\n",
    "    N_words = tf.reduce_max(single_doclengths)\n",
    "\n",
    "    words_ragged = words.to_tensor(N_vocab+1).numpy() # Renaming the previous words object.\n",
    "    words = []\n",
    "\n",
    "    def pad_single_doc(doc, length, N_words_max=N_words):\n",
    "        pad_size    = N_words_max - length\n",
    "        doc_padded  = doc\n",
    "        doc         = doc[doc != pad_token]\n",
    "        idx, freq   = np.unique(doc, return_counts=True)\n",
    "        freq        = freq / np.sum(freq)\n",
    "        pad         = np.random.choice(idx, size=pad_size, p=freq)\n",
    "        doc_padded[doc_padded == pad_token] = pad\n",
    "        return doc_padded\n",
    "\n",
    "    for doc, length in zip(words_ragged, single_doclengths):\n",
    "        words.append(pad_single_doc(doc, length))\n",
    "    \n",
    "    words = tf.constant(words, dtype=tf.int32)"
   ]
  },
  {
   "attachments": {},
   "cell_type": "markdown",
   "metadata": {},
   "source": [
    "---"
   ]
  },
  {
   "attachments": {},
   "cell_type": "markdown",
   "metadata": {},
   "source": [
    "## Defining the Joint\n",
    "\n",
    "Orientation was provided by https://www.tensorflow.org/probability/examples/A_Tour_of_TensorFlow_Probability. Let $V$ be the size of the vocabulary, $D$ be the number of documents, $N$ be the (maximum) document size and $K$ be the number of topics. In this toy model which provides practical visualization capabilities we have $\\sqrt{V} \\in \\mathbb N$ and $K=2*\\sqrt{V} \\in \\mathbb N$.\n",
    "\n",
    "The \"$C$-step\" can be \"integrated out\" using `tfp`'s `MixtureSameFamily`-distribution-class (see for gaussian mixture model in https://www.tensorflow.org/probability/examples/Bayesian_Gaussian_Mixture_Model).\n",
    "\n",
    "`tfp` provides multiple ways of defining joints. We use 2 of them (choose by setting the `auto_bached` setting upfront)."
   ]
  },
  {
   "cell_type": "code",
   "execution_count": 76,
   "metadata": {},
   "outputs": [],
   "source": [
    "## Priors:\n",
    "alphas = tf.ones((N_docs, N_topics),  dtype=tf.float32)\n",
    "betas  = tf.ones((N_topics, N_vocab), dtype=tf.float32)      \n",
    "## Joint\n",
    "joint = tfd.JointDistributionNamed(\n",
    "    dict(\n",
    "        Pi    = tfd.Dirichlet(alphas),\n",
    "        Theta = tfd.Dirichlet(betas),\n",
    "        W     = lambda Pi, Theta: tfd.Sample(  \n",
    "            tfd.MixtureSameFamily(\n",
    "                mixture_distribution=tfd.Categorical(probs=Pi),\n",
    "                components_distribution=tfd.Categorical(probs=Theta)),\n",
    "            sample_shape=N_words)),\n",
    "    batch_ndims=0,\n",
    "    use_vectorized_map=True)"
   ]
  },
  {
   "attachments": {},
   "cell_type": "markdown",
   "metadata": {},
   "source": [
    "Testing the Joint"
   ]
  },
  {
   "cell_type": "code",
   "execution_count": 77,
   "metadata": {},
   "outputs": [
    {
     "name": "stdout",
     "output_type": "stream",
     "text": [
      "Joint Sample Shape Theta: (6, 9)\n",
      "Joint Sample Shape Pi: (300, 6)\n",
      "Joint Sample Shape W: (300, 74)\n",
      "Log-Probability of the observed data: -43816.58203125\n",
      "Log-Probability of the sample from the joint: -45987.359375\n"
     ]
    }
   ],
   "source": [
    "## Sampling behavior \n",
    "sample = joint.sample()\n",
    "for key, val in sample.items():\n",
    "    print(f\"Joint Sample Shape {key}: {val.shape}\")\n",
    "## Log-probability of observed (possibly padded data) assuming the joint\n",
    "p = joint.log_prob(W=words, Pi=Pi, Theta=Theta).numpy()\n",
    "p_sample = joint.log_prob(W=sample['W'], Pi=sample['Pi'], Theta=sample['Theta']).numpy()\n",
    "print(f\"Log-Probability of the observed data: {p}\")\n",
    "print(f\"Log-Probability of the sample from the joint: {p_sample}\")"
   ]
  },
  {
   "cell_type": "code",
   "execution_count": 78,
   "metadata": {},
   "outputs": [
    {
     "name": "stdout",
     "output_type": "stream",
     "text": [
      "Presenting documents [147 180 290 132  76 118   4  67 254  92]\n"
     ]
    },
    {
     "data": {
      "image/png": "[encoded data removed]",
      "text/plain": [
       "<Figure size 1500x600 with 10 Axes>"
      ]
     },
     "metadata": {},
     "output_type": "display_data"
    }
   ],
   "source": [
    "## Visualize documents from the prior-joint\n",
    "_ = tpc_utils.visualize_random_docs(words, sqrt_V=sqrt_N_vocab)"
   ]
  },
  {
   "cell_type": "markdown",
   "metadata": {},
   "source": [
    "### Defining the unnormalized Posterior by introducing the Data:"
   ]
  },
  {
   "cell_type": "code",
   "execution_count": 79,
   "metadata": {},
   "outputs": [],
   "source": [
    "def unnormalized_posterior(Pi, Theta):\n",
    "    return joint.log_prob(W=words, Pi=Pi, Theta=Theta) # Incorporate data with \"words\""
   ]
  },
  {
   "attachments": {},
   "cell_type": "markdown",
   "metadata": {},
   "source": [
    "---"
   ]
  },
  {
   "attachments": {},
   "cell_type": "markdown",
   "metadata": {},
   "source": [
    "## HMC-Chain\n",
    "\n",
    "Orientation was provided here: https://www.tensorflow.org/probability/api_docs/python/tfp/mcmc/HamiltonianMonteCarlo."
   ]
  },
  {
   "cell_type": "code",
   "execution_count": 80,
   "metadata": {},
   "outputs": [],
   "source": [
    "## tf-magic\n",
    "tf.config.experimental.enable_tensor_float_32_execution(False)"
   ]
  },
  {
   "cell_type": "code",
   "execution_count": 81,
   "metadata": {},
   "outputs": [],
   "source": [
    "## Constraining the Dirichlet-Samples to discrete probability vectors\n",
    "unconstraining_bijectors = [\n",
    "    tfb.SoftmaxCentered(),\n",
    "    tfb.SoftmaxCentered()]"
   ]
  },
  {
   "cell_type": "code",
   "execution_count": 82,
   "metadata": {},
   "outputs": [],
   "source": [
    "# Create an HMC TransitionKernel\n",
    "kernel = tfp.mcmc.SimpleStepSizeAdaptation(\n",
    "    tfp.mcmc.TransformedTransitionKernel(\n",
    "        inner_kernel=tfp.mcmc.HamiltonianMonteCarlo(\n",
    "            target_log_prob_fn=unnormalized_posterior,\n",
    "            step_size=0.065,\n",
    "            num_leapfrog_steps=5),\n",
    "    bijector=unconstraining_bijectors),\n",
    "    num_adaptation_steps=400)"
   ]
  },
  {
   "cell_type": "code",
   "execution_count": 83,
   "metadata": {},
   "outputs": [],
   "source": [
    "# We wrap sample_chain in tf.function\n",
    "@tf.function\n",
    "def run_chain(initial_state, num_results=1000, num_burnin_steps=1000):\n",
    "    return tfp.mcmc.sample_chain(\n",
    "        num_results=num_results,\n",
    "        num_burnin_steps=num_burnin_steps,\n",
    "        current_state=initial_state,\n",
    "        kernel=kernel,\n",
    "        trace_fn=lambda _, pkr: pkr.inner_results.inner_results.is_accepted)"
   ]
  },
  {
   "cell_type": "code",
   "execution_count": 84,
   "metadata": {},
   "outputs": [],
   "source": [
    "init_pis    = tf.ones_like(Pi, dtype=tf.float32)\n",
    "init_thetas = tf.ones_like(Theta, dtype=tf.float32)\n",
    "initial_state = [init_pis, init_thetas]\n",
    "\n",
    "samples, is_accepted = run_chain(initial_state)"
   ]
  },
  {
   "cell_type": "code",
   "execution_count": 85,
   "metadata": {},
   "outputs": [
    {
     "name": "stdout",
     "output_type": "stream",
     "text": [
      "Acceptance rate: 0.547\n"
     ]
    }
   ],
   "source": [
    "print(\"Acceptance rate:\", tf.reduce_sum(tf.cast(is_accepted, dtype=tf.int16)/is_accepted.shape[0]).numpy())"
   ]
  },
  {
   "cell_type": "code",
   "execution_count": 86,
   "metadata": {},
   "outputs": [],
   "source": [
    "Pi_fit    = tf.reduce_mean(samples[0], axis=0)\n",
    "Theta_fit = tf.reduce_mean(samples[1], axis=0)"
   ]
  },
  {
   "cell_type": "code",
   "execution_count": 87,
   "metadata": {},
   "outputs": [
    {
     "data": {
      "image/png": "[encoded data removed]",
      "text/plain": [
       "<Figure size 900x600 with 6 Axes>"
      ]
     },
     "metadata": {},
     "output_type": "display_data"
    }
   ],
   "source": [
    "_ = tpc_utils.visualize_topics(Theta_fit, N_row=2, N_col=3)"
   ]
  },
  {
   "cell_type": "code",
   "execution_count": 88,
   "metadata": {},
   "outputs": [
    {
     "data": {
      "image/png": "[encoded data removed]",
      "text/plain": [
       "<Figure size 500x500 with 1 Axes>"
      ]
     },
     "metadata": {},
     "output_type": "display_data"
    }
   ],
   "source": [
    "Theta_00 = samples[1][:, 0, 0].numpy()\n",
    "_ = sns.displot(\n",
    "    Theta_00, \n",
    "    kind=\"kde\"\n",
    ").set(\n",
    "    title=\"$\\Theta_{00}$ sample density\"\n",
    ")"
   ]
  },
  {
   "cell_type": "code",
   "execution_count": 89,
   "metadata": {},
   "outputs": [
    {
     "data": {
      "image/png": "[encoded data removed]",
      "text/plain": [
       "<Figure size 900x600 with 6 Axes>"
      ]
     },
     "metadata": {},
     "output_type": "display_data"
    }
   ],
   "source": [
    "## Is is also possible to train on after initial training by setting the initial\n",
    "#  state:\n",
    "initial_state = [Pi_fit, Theta_fit]\n",
    "samples, is_accepted = run_chain(initial_state, num_results=1000, num_burnin_steps=500)\n",
    "\n",
    "Pi_fit    = tf.reduce_mean(samples[0], axis=0)\n",
    "Theta_fit = tf.reduce_mean(samples[1], axis=0)\n",
    "_ = tpc_utils.visualize_topics(samples[1][-1, :], N_row=2, N_col=3)"
   ]
  },
  {
   "cell_type": "code",
   "execution_count": 90,
   "metadata": {},
   "outputs": [
    {
     "data": {
      "image/png": "[encoded data removed]",
      "text/plain": [
       "<Figure size 500x500 with 1 Axes>"
      ]
     },
     "metadata": {},
     "output_type": "display_data"
    }
   ],
   "source": [
    "Theta_00 = samples[1][:, 0, 0].numpy()\n",
    "_ = sns.displot(\n",
    "    Theta_00, \n",
    "    kind=\"kde\"\n",
    ").set(\n",
    "    title=\"$\\Theta_{00}$ sample density after additional training steps\"\n",
    ")"
   ]
  }
 ],
 "metadata": {
  "kernelspec": {
   "display_name": "Python 3",
   "language": "python",
   "name": "python3"
  },
  "language_info": {
   "codemirror_mode": {
    "name": "ipython",
    "version": 3
   },
   "file_extension": ".py",
   "mimetype": "text/x-python",
   "name": "python",
   "nbconvert_exporter": "python",
   "pygments_lexer": "ipython3",
   "version": "3.10.9"
  },
  "orig_nbformat": 4,
  "vscode": {
   "interpreter": {
    "hash": "9f06f88ee041b9b0b31305506aa49a7f3cd8b43bf938c8dda0c9714d567e8242"
   }
  }
 },
 "nbformat": 4,
 "nbformat_minor": 2
}
