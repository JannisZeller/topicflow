{
 "cells": [
  {
   "attachments": {},
   "cell_type": "markdown",
   "metadata": {},
   "source": [
    "# Topic Modelling with `tfp` built-in Variational Inference Methods\n",
    "\n",
    "This notebook presents TensorFlow Probability-VI application to LDA. Orientation: https://colab.research.google.com/github/tensorflow/probability/blob/main/tensorflow_probability/examples/jupyter_notebooks/Variational_Inference_and_Joint_Distributions.ipynb\n",
    "\n",
    "---"
   ]
  },
  {
   "attachments": {},
   "cell_type": "markdown",
   "metadata": {},
   "source": [
    "## Setup"
   ]
  },
  {
   "cell_type": "code",
   "execution_count": 1,
   "metadata": {},
   "outputs": [],
   "source": [
    "import tensorflow_probability as tfp\n",
    "import tensorflow as tf\n",
    "tfd = tfp.distributions\n",
    "tfb = tfp.bijectors\n",
    "import numpy as np\n",
    "import seaborn as sns\n",
    "import matplotlib.pyplot as plt\n",
    "\n",
    "np.random.seed(42)\n",
    "tf.random.set_seed(42)"
   ]
  },
  {
   "cell_type": "code",
   "execution_count": 2,
   "metadata": {},
   "outputs": [],
   "source": [
    "## from ../src\n",
    "import sys\n",
    "if \"../\" not in sys.path: sys.path.append(\"../\")\n",
    "\n",
    "import src.utils   as tpc_utils # `tpc` abbreviates \"topic\"\n",
    "import src.data    as tpc_data\n",
    "import src.sampler as tpc_sampler"
   ]
  },
  {
   "attachments": {},
   "cell_type": "markdown",
   "metadata": {},
   "source": [
    "---"
   ]
  },
  {
   "attachments": {},
   "cell_type": "markdown",
   "metadata": {},
   "source": [
    "## Data Generation\n",
    "Configurations of the dataset"
   ]
  },
  {
   "cell_type": "code",
   "execution_count": 3,
   "metadata": {},
   "outputs": [],
   "source": [
    "N_docs       = 1000\n",
    "sqrt_N_vocab = 3\n",
    "N_words      = 100\n",
    "\n",
    "## Variable Document Lengths?\n",
    "uniform_doclengths = False\n",
    "## Surrogate Posterior dist-class\n",
    "use_build_factored_surrogate_posterior = True \n",
    "## Unconstraining Bijectors\n",
    "use_softmax = True # Else softplus is used\n",
    "\n",
    "N_topics = int(2*sqrt_N_vocab)\n",
    "N_vocab  = int(sqrt_N_vocab**2)"
   ]
  },
  {
   "cell_type": "markdown",
   "metadata": {},
   "source": [
    "## Generating Data"
   ]
  },
  {
   "cell_type": "code",
   "execution_count": 4,
   "metadata": {},
   "outputs": [],
   "source": [
    "data = tpc_data.squareLDDocuments(\n",
    "    N_docs=N_docs, \n",
    "    sqrt_N_vocab=sqrt_N_vocab, \n",
    "    N_words=N_words,\n",
    "    uniform_doclengths=uniform_doclengths)"
   ]
  },
  {
   "cell_type": "code",
   "execution_count": 5,
   "metadata": {},
   "outputs": [],
   "source": [
    "Theta, Pi, C_DId, C_DIdK, words = data.extract_params()"
   ]
  },
  {
   "cell_type": "code",
   "execution_count": 6,
   "metadata": {},
   "outputs": [
    {
     "data": {
      "image/png": "[encoded data removed]",
      "text/plain": [
       "<Figure size 900x600 with 6 Axes>"
      ]
     },
     "metadata": {},
     "output_type": "display_data"
    }
   ],
   "source": [
    "_ = tpc_utils.visualize_topics(Theta, N_row=2, N_col=3)"
   ]
  },
  {
   "attachments": {},
   "cell_type": "markdown",
   "metadata": {},
   "source": [
    "---"
   ]
  },
  {
   "cell_type": "markdown",
   "metadata": {},
   "source": [
    "## Inference"
   ]
  },
  {
   "cell_type": "markdown",
   "metadata": {},
   "source": [
    "### Preprocessing the Data\n",
    "\n",
    "If the document length is variable, `tfp` methods are not properly applicable, because as of 2022-11-15 it lacks capabilities for processing `tf.RaggedTensor`'s. Thus no (joint)-distribution can be defined which samples variable-length documents. The idea is, to pad each document to the size of the longest document base on the observed frequency of each token in the document in a catrgorical-distributed manner:\n",
    "\n",
    "$$\n",
    "    X_{\\textsf{pad}}^{(j)} \\overset{\\textsf{iid}}{\\sim} \\textsf{Categorcial}\\left( \\frac{\\textsf{count}(x_i)}{\\textsf{len}(\\textsf{doc}_j)}; \\ i =1,\\dots, V \\right)\n",
    "$$\n",
    "\n",
    "This should work becaus topic models are bag-of-words models where only the (relative) frequency of token occurances matter."
   ]
  },
  {
   "cell_type": "code",
   "execution_count": 7,
   "metadata": {},
   "outputs": [],
   "source": [
    "if not uniform_doclengths:\n",
    "    pad_token = N_vocab + 1\n",
    "    single_doclengths = words.nested_row_lengths()[0].numpy()\n",
    "    N_words = tf.reduce_max(single_doclengths)\n",
    "\n",
    "    words_ragged = words.to_tensor(N_vocab+1).numpy() # Renaming the previous words object.\n",
    "    words = []\n",
    "\n",
    "    def pad_single_doc(doc, length, N_words_max=N_words):\n",
    "        pad_size    = N_words_max - length\n",
    "        doc_padded  = doc\n",
    "        doc         = doc[doc != pad_token]\n",
    "        idx, freq   = np.unique(doc, return_counts=True)\n",
    "        freq        = freq / np.sum(freq)\n",
    "        pad         = np.random.choice(idx, size=pad_size, p=freq)\n",
    "        doc_padded[doc_padded == pad_token] = pad\n",
    "        return doc_padded\n",
    "\n",
    "    for doc, length in zip(words_ragged, single_doclengths):\n",
    "        words.append(pad_single_doc(doc, length))\n",
    "    \n",
    "    words = tf.constant(words, dtype=tf.int32)"
   ]
  },
  {
   "attachments": {},
   "cell_type": "markdown",
   "metadata": {},
   "source": [
    "---"
   ]
  },
  {
   "attachments": {},
   "cell_type": "markdown",
   "metadata": {},
   "source": [
    "## Defining the Joint\n",
    "\n",
    "Orientation was provided by https://www.tensorflow.org/probability/examples/A_Tour_of_TensorFlow_Probability. Let $V$ be the size of the vocabulary, $D$ be the number of documents, $N$ be the (maximum) document size and $K$ be the number of topics. In this toy model which provides practical visualization capabilities we have $\\sqrt{V} \\in \\mathbb N$ and $K=2*\\sqrt{V} \\in \\mathbb N$.\n",
    "\n",
    "The Joint Model then is:"
   ]
  },
  {
   "cell_type": "code",
   "execution_count": 8,
   "metadata": {},
   "outputs": [],
   "source": [
    "## Priors:\n",
    "alphas = tf.ones((N_docs, N_topics),  dtype=tf.float32)\n",
    "betas  = tf.ones((N_topics, N_vocab), dtype=tf.float32)      \n",
    "## Joint\n",
    "joint = tfd.JointDistributionNamed(\n",
    "    dict(\n",
    "        Pi    = tfd.Dirichlet(alphas),\n",
    "        Theta = tfd.Dirichlet(betas),\n",
    "        W     = lambda Pi, Theta: tfd.Sample(  \n",
    "            tfd.MixtureSameFamily(\n",
    "                mixture_distribution=tfd.Categorical(probs=Pi),\n",
    "                components_distribution=tfd.Categorical(probs=Theta)),\n",
    "            sample_shape=N_words)),\n",
    "    batch_ndims=0,\n",
    "    use_vectorized_map=True)"
   ]
  },
  {
   "cell_type": "markdown",
   "metadata": {},
   "source": [
    "Testing the joint:"
   ]
  },
  {
   "cell_type": "code",
   "execution_count": 9,
   "metadata": {},
   "outputs": [
    {
     "name": "stdout",
     "output_type": "stream",
     "text": [
      "Joint Sample Shape Theta: (6, 9)\n",
      "Joint Sample Shape Pi: (1000, 6)\n",
      "Joint Sample Shape W: (1000, 135)\n",
      "Log-Probability of the observed data: -272105.625\n",
      "Log-Probability of the sample from the joint: -282902.0\n"
     ]
    }
   ],
   "source": [
    "## Sampling behavior \n",
    "sample = joint.sample()\n",
    "for key, val in sample.items():\n",
    "    print(f\"Joint Sample Shape {key}: {val.shape}\")\n",
    "## Log-probability of observed (possibly padded data) assuming the joint\n",
    "p = joint.log_prob(W=words, Pi=Pi, Theta=Theta).numpy()\n",
    "p_sample = joint.log_prob(W=sample['W'], Pi=sample['Pi'], Theta=sample['Theta']).numpy()\n",
    "print(f\"Log-Probability of the observed data: {p}\")\n",
    "print(f\"Log-Probability of the sample from the joint: {p_sample}\")"
   ]
  },
  {
   "cell_type": "code",
   "execution_count": 10,
   "metadata": {},
   "outputs": [
    {
     "name": "stdout",
     "output_type": "stream",
     "text": [
      "Presenting documents [182 422 738 428 603  37 333 933 543 468]\n"
     ]
    },
    {
     "data": {
      "image/png": "[encoded data removed]",
      "text/plain": [
       "<Figure size 1500x600 with 10 Axes>"
      ]
     },
     "metadata": {},
     "output_type": "display_data"
    }
   ],
   "source": [
    "## Visualize documents from the prior-joint\n",
    "_ = tpc_utils.visualize_random_docs(joint.sample()['W'], sqrt_V=sqrt_N_vocab)"
   ]
  },
  {
   "cell_type": "markdown",
   "metadata": {},
   "source": [
    "### Defining the \"observed\" posterior:"
   ]
  },
  {
   "cell_type": "code",
   "execution_count": 11,
   "metadata": {},
   "outputs": [],
   "source": [
    "def unnormalized_posterior(Pi, Theta):\n",
    "    return joint.log_prob(W=words, Pi=Pi, Theta=Theta) # Incorporate data with \"words\""
   ]
  },
  {
   "attachments": {},
   "cell_type": "markdown",
   "metadata": {},
   "source": [
    "---"
   ]
  },
  {
   "attachments": {},
   "cell_type": "markdown",
   "metadata": {},
   "source": [
    "### Defining & fitting surrogate posterior ($q$)\n",
    "\n",
    "Actually the calculation of the variational inference just in math (see the [lecture](https://youtu.be/TcgeofQJYyM?t=4661)) would result in Dirichlet-Posteriors for $\\Pi$ and $\\Theta$ like\n",
    "```python\n",
    "    ## Priors:\n",
    "    alphas = tf.Variable(2.*tf.ones((N_docs,  N_topics), dtype=tf.float32), name=\"alphas_Pi\")\n",
    "    betas  = tf.Variable(2.*tf.ones((N_topics, N_vocab), dtype=tf.float32), name=\"betas_Theta\")\n",
    "\n",
    "    ## Surrogate posterior\n",
    "    surrogate_posterior = tfd.JointDistributionNamed(\n",
    "        dict(\n",
    "            Pi    = tfd.Dirichlet(alphas),\n",
    "            Theta = tfd.Dirichlet(betas)),\n",
    "        batch_ndims=0,\n",
    "        use_vectorized_map=True,\n",
    "        name=\"JointDirichlet\")\n",
    "```\n",
    "Choosing this posterior works numerically really badly and is not presented here.\n",
    "\n",
    "TensorFlow Probability provides an experimental utility [`tfp.experimental.vi.build_factored_surrogate_posterior`](https://www.tensorflow.org/probability/api_docs/python/tfp/experimental/vi/build_factored_surrogate_posterior) which by default assumes normal-distributed individual factors and therefore needs unconstraining bijectors because $\\Theta$ and $\\Pi$ are constrained to be positive. one could also try setting the `base_distribution_cls` to `tfd.Dirichlet` but this is as bad as constructing the posterior as presented above. Apart from that when using normal distributions the `vi.build_factored_surrogate_posterior` yields good results and seems to be really robust."
   ]
  },
  {
   "cell_type": "code",
   "execution_count": 12,
   "metadata": {},
   "outputs": [
    {
     "name": "stdout",
     "output_type": "stream",
     "text": [
      "tfp.distributions._TransformedDistribution(\"jointmap_of_softmax_centered_and_softmax_centeredJointDistributionNamedAutoBatched\", batch_shape=[], event_shape={Pi: [1000, 6], Theta: [6, 9]}, dtype={Pi: float32, Theta: float32})\n"
     ]
    }
   ],
   "source": [
    "## Constraints\n",
    "if use_softmax:\n",
    "    unconstraining_bijectors = {\n",
    "        'Pi':    tfb.SoftmaxCentered(),\n",
    "        'Theta': tfb.SoftmaxCentered()}\n",
    "\n",
    "## Similar but with other bijectors\n",
    "if not use_softmax:\n",
    "    unconstraining_bijectors = {\n",
    "        'Pi':    tfb.Softplus(),\n",
    "        'Theta': tfb.Softplus()}\n",
    "\n",
    "## Using tfp.experimental.vi.build_factored_surrogate_posterior\n",
    "if use_build_factored_surrogate_posterior:\n",
    "    ## Event shapes (Omitting W)\n",
    "    event_shape = {key: joint.event_shape_tensor()[key] for key in ('Pi', 'Theta')}\n",
    "    surrogate_posterior = tfp.experimental.vi.build_factored_surrogate_posterior(\n",
    "        event_shape=event_shape, \n",
    "        bijector=unconstraining_bijectors)\n",
    "\n",
    "\n",
    "## Manually constructed Posterior\n",
    "if not use_build_factored_surrogate_posterior:\n",
    "    ## Priors:\n",
    "    if use_softmax:\n",
    "        Pi_dim2    = N_topics-1\n",
    "        Theta_dim2 = N_vocab-1\n",
    "    if not use_softmax:\n",
    "        Pi_dim2    = N_topics\n",
    "        Theta_dim2 = N_vocab\n",
    "    means_Pi  = tf.Variable(tf.random.normal((N_docs,  Pi_dim2), dtype=tf.float32), name=\"means_Pi\")\n",
    "    scales_Pi = tf.Variable(tf.ones((N_docs,  Pi_dim2), dtype=tf.float32), name=\"scales_Pi\")\n",
    "    means_Theta  = tf.Variable(tf.random.normal((N_topics, Theta_dim2), dtype=tf.float32), name=\"means_Theta\")\n",
    "    scales_Theta = tf.Variable(tf.ones((N_topics, Theta_dim2), dtype=tf.float32), name=\"scales_Theta\")\n",
    "    ## Defining the joint\n",
    "    surrogate_posterior_base = tfd.JointDistributionNamed(\n",
    "        dict(\n",
    "            Pi    = tfd.Normal(means_Pi, scales_Pi),\n",
    "            Theta = tfd.Normal(means_Theta, scales_Theta)),\n",
    "        batch_ndims=0,\n",
    "        use_vectorized_map=True,\n",
    "        name=\"JointNormal\")\n",
    "    ## Constraining to correct domains\n",
    "    surrogate_posterior = tfd.TransformedDistribution(\n",
    "        distribution=surrogate_posterior_base,\n",
    "        bijector=tfb.JointMap(unconstraining_bijectors))\n",
    "\n",
    "print(surrogate_posterior)"
   ]
  },
  {
   "cell_type": "code",
   "execution_count": 13,
   "metadata": {},
   "outputs": [],
   "source": [
    "## Setting training loop parameters\n",
    "if use_build_factored_surrogate_posterior:\n",
    "    learning_rate = 0.03\n",
    "    N_steps = 500\n",
    "    sample_size = 32\n",
    "\n",
    "if not use_build_factored_surrogate_posterior:\n",
    "    learning_rate = 0.01\n",
    "    N_steps = 500\n",
    "    sample_size = 64\n",
    "\n",
    "@tf.function\n",
    "def run_fit(surrogate_posterior):\n",
    "    losses = tfp.vi.fit_surrogate_posterior(\n",
    "        unnormalized_posterior,\n",
    "        surrogate_posterior=surrogate_posterior,\n",
    "        num_steps=N_steps,\n",
    "        optimizer=tf.optimizers.Adam(learning_rate),\n",
    "        sample_size=sample_size)\n",
    "    return losses\n",
    "\n",
    "losses = run_fit(surrogate_posterior)"
   ]
  },
  {
   "attachments": {},
   "cell_type": "markdown",
   "metadata": {},
   "source": [
    "---"
   ]
  },
  {
   "attachments": {},
   "cell_type": "markdown",
   "metadata": {},
   "source": [
    "## Assessing results \n",
    "\n",
    "Note that after the fit-process the surrogate posterior actually approximates the true posterior."
   ]
  },
  {
   "cell_type": "code",
   "execution_count": 14,
   "metadata": {},
   "outputs": [
    {
     "data": {
      "image/png": "[encoded data removed]",
      "text/plain": [
       "<Figure size 640x480 with 1 Axes>"
      ]
     },
     "metadata": {},
     "output_type": "display_data"
    }
   ],
   "source": [
    "_ = sns.lineplot(\n",
    "    x=np.arange(0, len(losses)), \n",
    "    y=losses\n",
    ").set(\n",
    "    title=\"Loss vs. VI-fit step\"\n",
    ")"
   ]
  },
  {
   "cell_type": "code",
   "execution_count": 15,
   "metadata": {},
   "outputs": [],
   "source": [
    "sample = surrogate_posterior.sample(1000)\n",
    "Thetas_sample = sample['Theta']\n",
    "if not use_softmax:\n",
    "    Thetas_sample = tf.nn.softmax(Thetas_sample) # For normalization"
   ]
  },
  {
   "cell_type": "code",
   "execution_count": 16,
   "metadata": {},
   "outputs": [
    {
     "data": {
      "image/png": "[encoded data removed]",
      "text/plain": [
       "<Figure size 900x600 with 6 Axes>"
      ]
     },
     "metadata": {},
     "output_type": "display_data"
    }
   ],
   "source": [
    "_ = tpc_utils.visualize_topics(tf.reduce_mean(Thetas_sample, axis=0), N_row=2, N_col=3)"
   ]
  },
  {
   "cell_type": "code",
   "execution_count": 17,
   "metadata": {},
   "outputs": [
    {
     "data": {
      "text/plain": [
       "Text(0.5, 1.0, '$\\\\Theta_{07}$ Sample Distribution')"
      ]
     },
     "execution_count": 17,
     "metadata": {},
     "output_type": "execute_result"
    },
    {
     "data": {
      "image/png": "[encoded data removed]",
      "text/plain": [
       "<Figure size 640x480 with 1 Axes>"
      ]
     },
     "metadata": {},
     "output_type": "display_data"
    }
   ],
   "source": [
    "from scipy.stats import gaussian_kde, norm\n",
    "\n",
    "theta_kv_sample = Thetas_sample[:, 0, 7].numpy()\n",
    "density = gaussian_kde(theta_kv_sample)\n",
    "xx = np.linspace(min(theta_kv_sample), max(theta_kv_sample), 200)\n",
    "\n",
    "fig, ax = plt.subplots()\n",
    "ax.hist(theta_kv_sample, bins=20, density=True, label=\"Histogram of sample\")\n",
    "ax.plot(xx, density(xx), label=\"KDE of sample\")\n",
    "ax.set_title(\"$\\Theta_{07}$ Sample Distribution\")"
   ]
  }
 ],
 "metadata": {
  "kernelspec": {
   "display_name": "Python 3.10.4 ('tfa-gpu')",
   "language": "python",
   "name": "python3"
  },
  "language_info": {
   "codemirror_mode": {
    "name": "ipython",
    "version": 3
   },
   "file_extension": ".py",
   "mimetype": "text/x-python",
   "name": "python",
   "nbconvert_exporter": "python",
   "pygments_lexer": "ipython3",
   "version": "3.10.4"
  },
  "orig_nbformat": 4,
  "vscode": {
   "interpreter": {
    "hash": "fdc28786647f1dee919f363d51b8389bceae882853328a0ce8271b28d8b29113"
   }
  }
 },
 "nbformat": 4,
 "nbformat_minor": 2
}
