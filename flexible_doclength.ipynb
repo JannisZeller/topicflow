{
 "cells": [
  {
   "cell_type": "markdown",
   "metadata": {},
   "source": [
    "# Toy Model\n",
    "\n",
    "Trying toy model inspired by [Griffiths & Steyvers, 2004](https://doi.org/10.1073/pnas.0307752101)."
   ]
  },
  {
   "cell_type": "markdown",
   "metadata": {},
   "source": [
    "### TODO:\n",
    "\n",
    "- Use `tf.ragged_constant`, i. e. `tf`'s ragged tensor capability to efficiently\n",
    "pad $C$ and $N$ an transform from $C_T$ to $C_{DN_{\\mathrm{max}}}$ or $W_T$ and \n",
    "$W_{DN_{\\mathrm{max}}}$. Construct with `tf.RaggedTensor.from_row_lengths()`.\n",
    "- Use `tf.sparse` to operate with $C_{DN_{\\mathrm{max}}K}$ and $C_{TK}$"
   ]
  },
  {
   "cell_type": "code",
   "execution_count": 940,
   "metadata": {},
   "outputs": [],
   "source": [
    "from collections.abc import Sequence\n",
    "import tensorflow_probability as tfp\n",
    "import tensorflow as tf\n",
    "tfd = tfp.distributions\n",
    "import numpy as np\n",
    "import matplotlib.pyplot as plt\n",
    "from tqdm import tqdm\n",
    "\n",
    "from timeit import timeit\n",
    "\n",
    "np.random.seed(42)\n",
    "tf.random.set_seed(42)"
   ]
  },
  {
   "cell_type": "code",
   "execution_count": 941,
   "metadata": {},
   "outputs": [],
   "source": [
    "from importlib import reload  \n",
    "\n",
    "import topicflow.utils as tp_utils\n",
    "import topicflow.data as tp_data\n",
    "\n",
    "tp_utils = reload(tp_utils)\n",
    "tp_data = reload(tp_data)\n"
   ]
  },
  {
   "cell_type": "markdown",
   "metadata": {},
   "source": [
    "### **Sampling Behaviour of `tfp.Distributions`**"
   ]
  },
  {
   "cell_type": "code",
   "execution_count": 942,
   "metadata": {},
   "outputs": [
    {
     "name": "stdout",
     "output_type": "stream",
     "text": [
      "(2, 3)\n"
     ]
    },
    {
     "data": {
      "text/plain": [
       "array([[2, 0],\n",
       "       [2, 0],\n",
       "       [2, 0],\n",
       "       [2, 0]])"
      ]
     },
     "execution_count": 942,
     "metadata": {},
     "output_type": "execute_result"
    }
   ],
   "source": [
    "## tfd.Categorical sampling behaviour:\n",
    "probs = tf.constant([[0., 0., 1.], \n",
    "                     [1., 0., 0.]])\n",
    "print(probs.shape)\n",
    "tfd.Categorical(probs=probs).sample(4).numpy()"
   ]
  },
  {
   "cell_type": "code",
   "execution_count": 943,
   "metadata": {},
   "outputs": [
    {
     "data": {
      "text/plain": [
       "array([[0.02140409, 0.01427036, 0.9643255 ],\n",
       "       [0.38862276, 0.16176145, 0.44961584]], dtype=float32)"
      ]
     },
     "execution_count": 943,
     "metadata": {},
     "output_type": "execute_result"
    }
   ],
   "source": [
    "## tfd.Dirichlet sampling behaviour:\n",
    "conc = tf.constant([[0.1, 0.1, 0.1], \n",
    "                    [  2.,  2.,  2.]])\n",
    "tfd.Dirichlet(conc).sample().numpy()"
   ]
  },
  {
   "cell_type": "markdown",
   "metadata": {},
   "source": [
    "$\\rightarrow$ Samples come in by row. For Categorical the sample size is flexible. For Dirichlet the sample cise is bounded to the concentrations."
   ]
  },
  {
   "cell_type": "markdown",
   "metadata": {},
   "source": [
    "## **Setting up Topics and Data**\n",
    "\n",
    "### Understand The indices in this Notebook\n",
    "\n",
    "- $K$ is the number of topics \n",
    "- $D$ is the number of documents\n",
    "- $I_d$ is the number of words in document $d$\n",
    "- $N_{\\mathrm{max}}$ is the maximum number of words per doument, i. e. $N_{\\mathrm{max}} = \\max_d \\{I_d\\}$\n",
    "- $T$ is the total number of words, i. e. $T = \\sum_d I_d$\n",
    "- $V$ is the vocabulary size which should be a square of an integer for the visualization purposes of this notebook"
   ]
  },
  {
   "cell_type": "markdown",
   "metadata": {},
   "source": [
    "### **1. Specify global parameters**"
   ]
  },
  {
   "cell_type": "code",
   "execution_count": 944,
   "metadata": {},
   "outputs": [],
   "source": [
    "sqrtV = 5    # Square Root of the Number of \"Vocabulary\" (must be sqrt such that pictorial interpretation is possible)\n",
    "D     = 1000  # Number of documents\n",
    "N     = 100  \n",
    "V = int(sqrtV**2)\n",
    "K = 2*sqrtV\n",
    "alpha = 1."
   ]
  },
  {
   "cell_type": "markdown",
   "metadata": {},
   "source": [
    "### **2. Generating Data**"
   ]
  },
  {
   "cell_type": "code",
   "execution_count": 945,
   "metadata": {},
   "outputs": [],
   "source": [
    "data = tp_data.squareLDDocuments(D, sqrtV, N_words_fixed=N, alpha=alpha)\n",
    "Theta, Pi, C_DId, C_DIdK, W_DId = data.extract_params()"
   ]
  },
  {
   "cell_type": "code",
   "execution_count": 946,
   "metadata": {},
   "outputs": [
    {
     "data": {
      "text/plain": [
       "24"
      ]
     },
     "execution_count": 946,
     "metadata": {},
     "output_type": "execute_result"
    }
   ],
   "source": [
    "int(tf.reduce_max(W_DId))"
   ]
  },
  {
   "cell_type": "code",
   "execution_count": 892,
   "metadata": {},
   "outputs": [
    {
     "data": {
      "text/plain": [
       "TensorShape([1000, None, 10])"
      ]
     },
     "execution_count": 892,
     "metadata": {},
     "output_type": "execute_result"
    }
   ],
   "source": [
    "C_DIdK.shape"
   ]
  },
  {
   "cell_type": "code",
   "execution_count": 893,
   "metadata": {},
   "outputs": [
    {
     "name": "stdout",
     "output_type": "stream",
     "text": [
      "Topics for the Words in Document d=11:\n",
      "tf.Tensor(\n",
      "[8 8 1 8 8 8 3 8 1 1 8 4 0 6 3 1 9 8 8 4 8 1 9 1 7 3 0 3 8 8 4 3 8 9 3 9 6\n",
      " 1 3 8 9 2 3 8 3 8 8 5 9 6 3 1 5 0 0 9 3 1 1 4 3 8 0 9 5 8 1 0 9 0 1 1 3 8\n",
      " 3 3 8 3 0 3 0 7 3 3 0 8 9 8 0 5 9 3 3 7 5 2 0 8 5 0 1 3 5 1 5 0 5 8 5 8 3\n",
      " 9 8 3 8 8 8 3 0 6 3], shape=(121,), dtype=int32)\n",
      "\n",
      "Words in Document d=11:\n",
      "tf.Tensor(\n",
      "[23 18  8 18 18 13 18 23  9  9 18 21  3  1 19  7 19  3 18 20  8  5 19  8\n",
      "  2 18  0 18 13 18 20 18  3 19 16  9 16  9 18 18  9 12 15  8 16  8 23 10\n",
      " 24 21 19  8  5  2  2  9 17  5  5 20 17  8  2 19  0  8  6  3  4  2  8  5\n",
      " 16 23 15 18 18 17  1 18  2  2 18 17  0 13  4  8  0 15 14 16 16 22 20 10\n",
      "  1  8  0  1  5 18  0  5  0  0 20 13 20  3 16  4  3 18  3  3 23 16  4 16\n",
      " 16], shape=(121,), dtype=int32)\n"
     ]
    }
   ],
   "source": [
    "## To extract topic-word assignments and document-words for a \n",
    "print(\"Topics for the Words in Document d=11:\")\n",
    "print(C_DId[11])\n",
    "print(\"\\nWords in Document d=11:\")\n",
    "print(W_DId[11])"
   ]
  },
  {
   "cell_type": "markdown",
   "metadata": {},
   "source": [
    "### **3. Checking Shapes**"
   ]
  },
  {
   "cell_type": "code",
   "execution_count": 894,
   "metadata": {},
   "outputs": [],
   "source": [
    "## For development purposes:\n",
    "def print_all_shapes():\n",
    "    print(\"Π-Shape (D docs x K topics)\")\n",
    "    print(Pi.shape)\n",
    "    print(\"\\nΘ-Shape (K topic x V vocab)\")\n",
    "    print(Theta.shape)\n",
    "    print(\"\\nC_DIdK-Shape (Topic for each word T=sum_d I_d)\")\n",
    "    print(C_DId.shape)\n",
    "    print(\"\\nC_DIdK-Shape (one-hot for each topic k in {1, K})\")\n",
    "    print(C_DIdK.shape)\n",
    "    print(\"\\nW-Shape (sum_d I_d words)\")\n",
    "    print(W_DId.shape)"
   ]
  },
  {
   "cell_type": "code",
   "execution_count": 895,
   "metadata": {},
   "outputs": [
    {
     "name": "stdout",
     "output_type": "stream",
     "text": [
      "Π-Shape (D docs x K topics)\n",
      "(1000, 10)\n",
      "\n",
      "Θ-Shape (K topic x V vocab)\n",
      "(10, 25)\n",
      "\n",
      "C_DIdK-Shape (Topic for each word T=sum_d I_d)\n",
      "(1000, None)\n",
      "\n",
      "C_DIdK-Shape (one-hot for each topic k in {1, K})\n",
      "(1000, None, 10)\n",
      "\n",
      "W-Shape (sum_d I_d words)\n",
      "(1000, None)\n"
     ]
    }
   ],
   "source": [
    "print_all_shapes()"
   ]
  },
  {
   "cell_type": "markdown",
   "metadata": {},
   "source": [
    "## **Visualization**"
   ]
  },
  {
   "cell_type": "code",
   "execution_count": 896,
   "metadata": {},
   "outputs": [
    {
     "data": {
      "image/png": "[encoded data removed]",
      "text/plain": [
       "<Figure size 1500x600 with 10 Axes>"
      ]
     },
     "metadata": {},
     "output_type": "display_data"
    }
   ],
   "source": [
    "fig = tp_utils.visualize_topics(Theta, 2, int(Theta.shape[0] / 2))"
   ]
  },
  {
   "cell_type": "code",
   "execution_count": 897,
   "metadata": {},
   "outputs": [
    {
     "name": "stdout",
     "output_type": "stream",
     "text": [
      "Presenting documents [102 435 860 270 106  71 700  20 614 121]\n"
     ]
    },
    {
     "data": {
      "image/png": "[encoded data removed]",
      "text/plain": [
       "<Figure size 1500x600 with 10 Axes>"
      ]
     },
     "metadata": {},
     "output_type": "display_data"
    }
   ],
   "source": [
    "fig = tp_utils.visualize_random_docs(W_DId, sqrt_V=sqrtV)"
   ]
  },
  {
   "cell_type": "markdown",
   "metadata": {},
   "source": [
    "## **Gibbs Sampler**"
   ]
  },
  {
   "cell_type": "markdown",
   "metadata": {},
   "source": [
    "### **N-Tensor**\n",
    "One efficiency crtitical step is to vectorize \n",
    "$$\n",
    "    n_{dkv} =  \\{i \\, \\vert \\, w_{di} == v \\ \\& \\ c_{idk} ==1\\}\n",
    "$$\n",
    "as much as possible. Due to the fact, that the document lengths are variable there is the choice between looping over the number of documents or padding the documents to a unique length. The padding does not need a word-token, it can be done by padding the $C$ matrix with $0$, therefore it will not affect $N$. Then the counting can be realized by stacking $W$ $K$ times along the last axis to match the shape of $C$."
   ]
  },
  {
   "cell_type": "markdown",
   "metadata": {},
   "source": [
    "#### 1. Multiloop over all Dimensions\n",
    "\n",
    "Mainly for test purposes. Horribly slow."
   ]
  },
  {
   "cell_type": "code",
   "execution_count": 898,
   "metadata": {},
   "outputs": [],
   "source": [
    "def multiloop_N_tensor(W_DId, C_DIdK, V=V, verbose=False):\n",
    "\n",
    "    ragged = any([x==None for x in W_DId.shape.as_list()])\n",
    "    print(f\"Is ragged? - {ragged}\")\n",
    "\n",
    "    K = C_DIdK.shape[-1]\n",
    "    D = C_DIdK.shape[0]\n",
    "    N_DKV = np.zeros(shape=(D, K, V))\n",
    "\n",
    "    if ragged:\n",
    "        W_DId  = W_DId.to_list() \n",
    "        C_DIdK = C_DIdK.to_list() \n",
    "    else:\n",
    "        W_DId  = W_DId.numpy() \n",
    "        C_DIdK = C_DIdK.numpy() \n",
    "\n",
    "    if verbose:\n",
    "        iterator = tqdm(range(D))\n",
    "    else:\n",
    "        iterator = range(D)\n",
    "    \n",
    "    for d in iterator:\n",
    "        for k in range(K):\n",
    "            for v in range(V):\n",
    "                if ragged:\n",
    "                    zip_it = zip(W_DId[d], np.array(C_DIdK[d])[:, k])\n",
    "                else:\n",
    "                    zip_it = zip(W_DId[d], np.array(C_DIdK[d, :, k]))\n",
    "                for w_di, c_dik in zip_it:\n",
    "                    if w_di == v and c_dik == 1:\n",
    "                        N_DKV[d, k, v] += 1\n",
    "\n",
    "    return N_DKV"
   ]
  },
  {
   "cell_type": "markdown",
   "metadata": {},
   "source": [
    "##### Test and Benchmark"
   ]
  },
  {
   "cell_type": "code",
   "execution_count": 899,
   "metadata": {},
   "outputs": [],
   "source": [
    "# N_test1 = multiloop_N_tensor(W_DId, C_DIdK)"
   ]
  },
  {
   "cell_type": "code",
   "execution_count": 900,
   "metadata": {},
   "outputs": [],
   "source": [
    "# %timeit multiloop_N_tensor(W_DId, C_DIdK, verbose=False)"
   ]
  },
  {
   "cell_type": "markdown",
   "metadata": {},
   "source": [
    "#### 2. Vectorized with Padding using `tf`"
   ]
  },
  {
   "cell_type": "code",
   "execution_count": 901,
   "metadata": {},
   "outputs": [
    {
     "data": {
      "text/plain": [
       "TensorShape([1000, None, 10])"
      ]
     },
     "execution_count": 901,
     "metadata": {},
     "output_type": "execute_result"
    }
   ],
   "source": [
    "C_DIdK.shape"
   ]
  },
  {
   "cell_type": "code",
   "execution_count": 902,
   "metadata": {},
   "outputs": [],
   "source": [
    "## Actual n-Tensor\n",
    "@tf.function\n",
    "def tf_N_tensor(W_DId, C_DIdK, V=V):\n",
    "\n",
    "    if any([x==None for x in C_DIdK.shape]):\n",
    "        if C_DIdK.row_splits.dtype != tf.int32:\n",
    "            C_DIdK = C_DIdK.with_row_splits_dtype(tf.int32)\n",
    "\n",
    "    ## Extracting shapes\n",
    "    D = W_DId.shape[0]\n",
    "    K = C_DIdK.shape[-1]\n",
    "    \n",
    "    ## Preparing W-stacking by shifting all entries one \"up\" s. t. v is counted \n",
    "    #  from 1 to V+1 instead from 0 to V. This enables to collapse the \"&\" in the\n",
    "    #  set to be collapsed to a matrix product\n",
    "    Wp1 = W_DId + 1\n",
    "    W_stacked = tf.stack(K*[Wp1], axis=-1)    \n",
    "\n",
    "    ## Elementwise product combines logical & in condition.\n",
    "    #  Choosing int32 as product dtype for efficiency.\n",
    "    C_DIdK_int = tf.cast(C_DIdK, dtype=tf.int32)\n",
    "    C_Dot_W = tf.math.multiply(W_stacked, C_DIdK_int)\n",
    "\n",
    "    ## The v-dimension of N is a one-hot encoding for the vocabulary:\n",
    "    N_DIdKVp1 = tf.one_hot(C_Dot_W, V+1, dtype=tf.int32)\n",
    "\n",
    "    ## Reverting the v-shift by dropping the 0 one-hot dimension\n",
    "    N_DIdKV = N_DIdKVp1[:, :, :, 1:]\n",
    "\n",
    "    ## Summing along v-dimension\n",
    "    N_DKV = tf.reduce_sum(N_DIdKV, axis=1)\n",
    "\n",
    "    ## Turn to float for gibbs sampler\n",
    "    N_DKV = tf.cast(N_DKV, dtype=tf.float32)\n",
    "\n",
    "    return N_DKV"
   ]
  },
  {
   "cell_type": "code",
   "execution_count": 903,
   "metadata": {},
   "outputs": [],
   "source": [
    "N_test2 = tf_N_tensor(W_DId, C_DIdK)\n",
    "# np.all(N_test2 == N_test1)"
   ]
  },
  {
   "cell_type": "markdown",
   "metadata": {},
   "source": [
    "##### Test and Benchmark"
   ]
  },
  {
   "cell_type": "code",
   "execution_count": 904,
   "metadata": {},
   "outputs": [],
   "source": [
    "# %timeit tf_N_tensor(W_DId, C_DIdK)"
   ]
  },
  {
   "cell_type": "code",
   "execution_count": 905,
   "metadata": {},
   "outputs": [
    {
     "name": "stdout",
     "output_type": "stream",
     "text": [
      "For D=1000, V=25 and I_d~100 The tf Version is about a factor 20.2 more efficient than the list version.\n"
     ]
    }
   ],
   "source": [
    "print(f\"For D={D}, V={V} and I_d~{N} The tf Version is about a factor {round(101./5., 1)} more efficient than the list version.\")"
   ]
  },
  {
   "cell_type": "markdown",
   "metadata": {},
   "source": [
    "### **Sampling $C$**\n",
    "\n",
    "Sampling $\\Theta$ and $\\Pi$ is not very problematic because they are just dirichlet distributed (below). Sampling $C$ is sampling from \n",
    "$$\n",
    "    p(C\\vert \\Theta, \\Pi, W)=\\prod_{d=1}^D \\prod_{i=1}^{I_d} \\frac{\\prod_{k=1}^K \\left(\\pi_{dk}\\theta_{kw_{di}}\\right)^{c_{dik}}}{\\sum_{k'=1}^K\\left(\\pi_{dk'}\\theta_{k'w_{di}}\\right)}\n",
    "$$ \n",
    "which is a categorical distribution. The dependence of $I_d$ is somewhat entangled in the $w_{di}$ index of $\\Theta_{kw_{di}}$. A fully vectorized solution without loop over $D$ therefore again needs padding.\n",
    "\n",
    "https://youtu.be/z2q7LhsnWNg?t=3878"
   ]
  },
  {
   "cell_type": "code",
   "execution_count": 906,
   "metadata": {},
   "outputs": [],
   "source": [
    "try:\n",
    "    Nmax = int(tf.reduce_max(W_DId.nested_row_lengths()[0]))\n",
    "except:\n",
    "    Nmax = N"
   ]
  },
  {
   "cell_type": "code",
   "execution_count": 907,
   "metadata": {},
   "outputs": [],
   "source": [
    "## Vectorized C-Sampling (W_DNmax must be padded!)\n",
    "@tf.function\n",
    "def sample_C(Theta, Pi, W_DId, Nmax: int):\n",
    "    ## Extracting shapes\n",
    "    ragged = any([x==None for x in W_DId.shape])\n",
    "    K = Pi.shape[-1]\n",
    "    V = Theta.shape[1]\n",
    "\n",
    "    # Padding\n",
    "    if ragged:\n",
    "        W_DNmax = W_DId.to_tensor(0)\n",
    "        mask = W_DId.to_tensor(V+1) != V+1\n",
    "    if not ragged:\n",
    "        W_DNmax = W_DId\n",
    "\n",
    "    ## Numerator\n",
    "    Theta_DNmaxK = tf.gather(tf.transpose(Theta), W_DNmax) \n",
    "    Pi_block  = tf.stack(Nmax * [Pi], axis=1)\n",
    "    numerator = tf.math.multiply(Pi_block, Theta_DNmaxK)\n",
    "\n",
    "    ## Dividing by Denominator\n",
    "    # denominator = tf.reduce_sum(numerator, axis=-1)\n",
    "\n",
    "    ## Sampling\n",
    "    C_DNmax_dist = tfd.Categorical(probs=numerator)\n",
    "    C_DNmax      = C_DNmax_dist.sample()\n",
    "    if ragged:\n",
    "        C_DId = tf.ragged.boolean_mask(C_DNmax, mask)\n",
    "        C_DId = C_DId.with_row_splits_dtype(tf.int32)\n",
    "    if not ragged:\n",
    "        C_DId = C_DNmax\n",
    "\n",
    "    # ## One-Hot-Encoding\n",
    "    C_DIdK = tf.one_hot(C_DId, K, axis=-1)\n",
    "\n",
    "    return C_DIdK"
   ]
  },
  {
   "cell_type": "code",
   "execution_count": 908,
   "metadata": {},
   "outputs": [
    {
     "data": {
      "text/plain": [
       "TensorShape([1000, None, 10])"
      ]
     },
     "execution_count": 908,
     "metadata": {},
     "output_type": "execute_result"
    }
   ],
   "source": [
    "sample_C(Theta, Pi, W_DId, Nmax).shape"
   ]
  },
  {
   "cell_type": "markdown",
   "metadata": {},
   "source": [
    "#### Test"
   ]
  },
  {
   "cell_type": "code",
   "execution_count": 909,
   "metadata": {},
   "outputs": [],
   "source": [
    "# W_temp      = W_DId.to_tensor(0)\n",
    "# mask_temp   = W_DId.to_tensor(V+1) != V+1\n",
    "# W_temp      = W_temp.numpy()\n",
    "# Pi_temp     = tf.stack(Nmax * [Pi], axis=1)"
   ]
  },
  {
   "cell_type": "code",
   "execution_count": 910,
   "metadata": {},
   "outputs": [],
   "source": [
    "# Theta_1 = tf.gather(tf.transpose(Theta), W_temp)\n",
    "# numerator_1 = tf.math.multiply(Pi_temp, Theta_1)"
   ]
  },
  {
   "cell_type": "code",
   "execution_count": 911,
   "metadata": {},
   "outputs": [],
   "source": [
    "## For Tets purposes: Calculate Theta_KW in loop\n",
    "# Theta_DNmaxK_loop = np.zeros(shape=(D, Nmax, K))\n",
    "# for d in tqdm(range(D)):\n",
    "#     for i in range(Nmax):\n",
    "#         for k in range(K):\n",
    "#             Theta_DNmaxK_loop[d, i, k] = Theta[k, W_temp[d, i]]\n",
    "\n",
    "# assert np.all(Theta_DNmaxK_loop == Theta_1)\n",
    "# numerator_loop = tf.math.multiply(Pi_temp, Theta_DNmaxK_loop)\n",
    "# assert np.all(numerator_loop == numerator_1)"
   ]
  },
  {
   "cell_type": "code",
   "execution_count": 912,
   "metadata": {},
   "outputs": [],
   "source": [
    "# C_temp_dist = tfd.Categorical(probs=numerator_1)\n",
    "# C_temp      = C_temp_dist.sample()"
   ]
  },
  {
   "cell_type": "markdown",
   "metadata": {},
   "source": [
    "### **Sampling $\\Theta$ and $\\Pi$**\n",
    "\n",
    "Sampling $\\Theta$ and $\\Pi$:\n",
    "$$\n",
    "    \\begin{align*}\n",
    "        p(\\Theta\\vert C, W) &= \\prod_{k=1}^K \\mathcal D(\\theta_k; \\ \\beta_{k:} + n_{\\cdot k:}) \\\\\n",
    "        p(\\Pi\\vert C, W)    &= \\prod_{d=1}^D \\mathcal D(\\pi_d; \\ \\alpha_{d:} + n_{d:\\cdot}) \\, .\n",
    "    \\end{align*}\n",
    "$$\n",
    "$\\Theta$ and $\\Pi$ are neither dependent on the number of words per document nor do they have an $I_d$ dimension. Therefore it is much easier to sample them:"
   ]
  },
  {
   "cell_type": "code",
   "execution_count": 913,
   "metadata": {},
   "outputs": [],
   "source": [
    "@tf.function\n",
    "def sample_Theta(N_DKV, beta):\n",
    "    dist_Theta = tfd.Dirichlet(beta + tf.reduce_sum(N_DKV, axis=0))\n",
    "    Theta      = dist_Theta.sample()\n",
    "    return Theta\n",
    "\n",
    "@tf.function\n",
    "def sample_Pi(N_DKV, alpha):\n",
    "    dist_Pi = tfd.Dirichlet(alpha + tf.reduce_sum(N_DKV, axis=-1))\n",
    "    Pi      = dist_Pi.sample()\n",
    "    return Pi"
   ]
  },
  {
   "cell_type": "markdown",
   "metadata": {},
   "source": [
    "#### Test"
   ]
  },
  {
   "cell_type": "code",
   "execution_count": 914,
   "metadata": {},
   "outputs": [],
   "source": [
    "# ## Random Initialization of Prior Alpha and Beta.\n",
    "# #  They do not acutally matter much but could be optimized by Type II MAP or MLE.\n",
    "# beta  = tf.constant(np.random.normal(size=(K, V)), dtype=tf.float32)\n",
    "# alpha = tf.constant(np.random.normal(size=(D, K)), dtype=tf.float32)\n",
    "\n",
    "# ## Calculate one N_DKV for test purposes\n",
    "# W_DNmax, C_DNmaxK = padd_CW(W_T, C_TK, N_idx)\n",
    "# N_test = tf_N_tensor(W_DNmax, C_DNmaxK)"
   ]
  },
  {
   "cell_type": "code",
   "execution_count": 915,
   "metadata": {},
   "outputs": [],
   "source": [
    "# test_Theta = sample_Theta(N_test, beta)\n",
    "# test_Pi    = sample_Pi(N_test, alpha)\n",
    "\n",
    "# assert test_Theta.shape == Theta.shape\n",
    "# assert test_Pi.shape == Pi.shape"
   ]
  },
  {
   "cell_type": "markdown",
   "metadata": {},
   "source": [
    "### **Main Loop**\n",
    "\n",
    "Later: Add `@tf.function` decorator to `drop_pad_C` and replace `padd_CW` with `tf_padd_CW` in main loop."
   ]
  },
  {
   "cell_type": "code",
   "execution_count": 916,
   "metadata": {},
   "outputs": [],
   "source": [
    "Nmax = int(np.max(data.get_doc_lengths()))\n",
    "Ntotal = int(np.sum(data.get_doc_lengths()))"
   ]
  },
  {
   "cell_type": "code",
   "execution_count": 936,
   "metadata": {},
   "outputs": [],
   "source": [
    "N_iter = 200\n",
    "\n",
    "C_Ntotal  = tf.constant(np.random.randint(0, K, size=Ntotal))\n",
    "C_DId_ = tf.RaggedTensor.from_row_lengths(\n",
    "    values=C_Ntotal,\n",
    "    row_lengths=W_DId.nested_row_lengths()[0])\n",
    "C_DIdK_ = tf.one_hot(C_DId_, K, axis=-1)\n",
    "\n",
    "beta  = tf.ones(shape=(K, V), dtype=tf.float32)\n",
    "alpha = tf.ones(shape=(D, K), dtype=tf.float32)"
   ]
  },
  {
   "cell_type": "markdown",
   "metadata": {},
   "source": [
    "Note that `W_T` and `N_idx` are fixed since they are observable from the data and do therefore not have to be initialized."
   ]
  },
  {
   "cell_type": "markdown",
   "metadata": {},
   "source": [
    "First iteration takes a while brcause of tracing of `drop_pad_C` and `tf_pad_CW`:"
   ]
  },
  {
   "cell_type": "code",
   "execution_count": 918,
   "metadata": {},
   "outputs": [],
   "source": [
    "if data.uniform_doclengths:\n",
    "    C_DIdK_ = C_DIdK_.to_tensor()"
   ]
  },
  {
   "cell_type": "code",
   "execution_count": 919,
   "metadata": {},
   "outputs": [
    {
     "name": "stderr",
     "output_type": "stream",
     "text": [
      "100%|██████████| 200/200 [00:08<00:00, 22.33it/s]\n"
     ]
    }
   ],
   "source": [
    "Theta_store = []\n",
    "for iter in tqdm(range(N_iter)):\n",
    "\n",
    "    ## Calculate N_DKV_ from W_DNmax and C_DNmaxK\n",
    "    N_DKV_ = tf_N_tensor(W_DId, C_DIdK_)\n",
    "    \n",
    "    ## Sample Theta_ and Pi_ from N_DKV_ and priors\n",
    "    Theta_ = sample_Theta(N_DKV_, beta)\n",
    "    Pi_    = sample_Pi(N_DKV_, alpha)\n",
    "\n",
    "    ## Sample C_DNmaxK from Theta, Pi and N_DKV_\n",
    "    C_DIdK_ = sample_C(Theta_, Pi_, W_DId, Nmax)\n",
    "    \n",
    "    Theta_store.append(Theta_)"
   ]
  },
  {
   "cell_type": "code",
   "execution_count": 920,
   "metadata": {},
   "outputs": [],
   "source": [
    "Theta_store = tf.stack(Theta_store, axis=-1)"
   ]
  },
  {
   "cell_type": "code",
   "execution_count": 921,
   "metadata": {},
   "outputs": [
    {
     "data": {
      "image/png": "[encoded data removed]",
      "text/plain": [
       "<Figure size 1500x600 with 10 Axes>"
      ]
     },
     "metadata": {},
     "output_type": "display_data"
    }
   ],
   "source": [
    "fig = tp_utils.visualize_topics(Theta_, 2, int(Theta.shape[0] / 2))"
   ]
  }
 ],
 "metadata": {
  "kernelspec": {
   "display_name": "Python 3.10.4 ('tfa-gpu')",
   "language": "python",
   "name": "python3"
  },
  "language_info": {
   "codemirror_mode": {
    "name": "ipython",
    "version": 3
   },
   "file_extension": ".py",
   "mimetype": "text/x-python",
   "name": "python",
   "nbconvert_exporter": "python",
   "pygments_lexer": "ipython3",
   "version": "3.10.4"
  },
  "orig_nbformat": 4,
  "vscode": {
   "interpreter": {
    "hash": "b28dcc1f87ebe436630d7ecff3a3c61833e6c22febb81b1e7cd0d34da649d2b8"
   }
  }
 },
 "nbformat": 4,
 "nbformat_minor": 2
}
