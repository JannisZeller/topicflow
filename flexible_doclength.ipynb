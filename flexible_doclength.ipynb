{
 "cells": [
  {
   "cell_type": "markdown",
   "metadata": {},
   "source": [
    "# Toy Model\n",
    "\n",
    "Trying toy model inspired by [Griffiths & Steyvers, 2004](https://doi.org/10.1073/pnas.0307752101)."
   ]
  },
  {
   "cell_type": "code",
   "execution_count": 334,
   "metadata": {},
   "outputs": [],
   "source": [
    "from collections.abc import Sequence\n",
    "import tensorflow_probability as tfp\n",
    "import tensorflow as tf\n",
    "tfd = tfp.distributions\n",
    "import numpy as np\n",
    "import matplotlib.pyplot as plt\n",
    "from tqdm import tqdm\n",
    "\n",
    "from timeit import timeit\n",
    "\n",
    "np.random.seed(42)\n",
    "tf.random.set_seed(42)"
   ]
  },
  {
   "cell_type": "code",
   "execution_count": 335,
   "metadata": {},
   "outputs": [],
   "source": [
    "## One hot for numpy\n",
    "def np_one_hot(targets, nb_classes):\n",
    "    res = np.eye(nb_classes)[np.array(targets).reshape(-1)]\n",
    "    return res.reshape(list(targets.shape)+[nb_classes])"
   ]
  },
  {
   "cell_type": "markdown",
   "metadata": {},
   "source": [
    "## **Sampling Behaviour of `tfp.Distributions`**"
   ]
  },
  {
   "cell_type": "code",
   "execution_count": 336,
   "metadata": {},
   "outputs": [
    {
     "name": "stdout",
     "output_type": "stream",
     "text": [
      "(2, 3)\n"
     ]
    },
    {
     "data": {
      "text/plain": [
       "array([[2, 0],\n",
       "       [2, 0],\n",
       "       [2, 0],\n",
       "       [2, 0]])"
      ]
     },
     "execution_count": 336,
     "metadata": {},
     "output_type": "execute_result"
    }
   ],
   "source": [
    "## tfd.Categorical sampling behaviour:\n",
    "probs = tf.constant([[0., 0., 1.], \n",
    "                     [1., 0., 0.]])\n",
    "print(probs.shape)\n",
    "tfd.Categorical(probs=probs).sample(4).numpy()"
   ]
  },
  {
   "cell_type": "code",
   "execution_count": 337,
   "metadata": {},
   "outputs": [
    {
     "data": {
      "text/plain": [
       "array([[0.02140409, 0.01427036, 0.9643255 ],\n",
       "       [0.38862276, 0.16176145, 0.44961584]], dtype=float32)"
      ]
     },
     "execution_count": 337,
     "metadata": {},
     "output_type": "execute_result"
    }
   ],
   "source": [
    "## tfd.Dirichlet sampling behavious:\n",
    "conc = tf.constant([[0.1, 0.1, 0.1], \n",
    "                    [  2.,  2.,  2.]])\n",
    "tfd.Dirichlet(conc).sample().numpy()"
   ]
  },
  {
   "cell_type": "markdown",
   "metadata": {},
   "source": [
    "$\\rightarrow$ Samples come in by row. For Categorical the sample size is flexible. For Dirichlet the sample cise is bounded to the concentrations."
   ]
  },
  {
   "cell_type": "markdown",
   "metadata": {},
   "source": [
    "## **Setting up Topics and Data**\n",
    "\n",
    "1. Specify global parameters"
   ]
  },
  {
   "cell_type": "code",
   "execution_count": 338,
   "metadata": {},
   "outputs": [],
   "source": [
    "## Constructing iterator for single documents N's\n",
    "class sliceConverter(Sequence):\n",
    "    def __init__(self, N_D: tf.Tensor):\n",
    "        assert N_D.ndim == 1\n",
    "        N_idx = tf.cumsum(N_D)\n",
    "        N_idx = tf.repeat(N_idx, 2)\n",
    "        self.N_idx = tf.concat([[0], N_idx], axis=0).numpy()\n",
    "        self.single_lengths = N_D\n",
    "\n",
    "    def __len__(self):\n",
    "        return int((self.N_idx.shape[0] - 1) / 2)\n",
    "\n",
    "    def __getitem__(self, k):\n",
    "        # if type(k) == int:\n",
    "        #     if k >= 0:\n",
    "        #         return tf.range(self.N_idx[2*k], self.N_idx[2*k + 1])\n",
    "        #     if k < 0:\n",
    "        #         i = len(self) + k\n",
    "        #         return tf.range(self.N_idx[2*i], self.N_idx[2*i + 1])\n",
    "        # elif type(k) == slice:\n",
    "        #     start, stop, step = k.indices(len(self))\n",
    "        #     return [self[i] for i in range(start, stop, step)]\n",
    "        if type(k) == int:\n",
    "            if k >= 0:\n",
    "                return slice(self.N_idx[2*k], self.N_idx[2*k + 1], 1)\n",
    "            if k < 0:\n",
    "                i = len(self) + k\n",
    "                return slice(self.N_idx[2*i], self.N_idx[2*i + 1], 1)\n",
    "        elif type(k) == slice:\n",
    "            start, stop, step = k.indices(len(self))\n",
    "            return [self[i] for i in range(start, stop, step)]\n",
    "        else:\n",
    "            raise TypeError(\"Index must be integer or slice.\")\n",
    "\n",
    "    def __iter__(self):\n",
    "        self.idx = 0\n",
    "        self.maxiter = len(self)\n",
    "        return self\n",
    "\n",
    "    def __next__(self):\n",
    "        if self.idx < self.maxiter:\n",
    "            ret = self.__getitem__(self.idx)\n",
    "            self.idx += 1\n",
    "            return ret\n",
    "        else:\n",
    "            raise StopIteration"
   ]
  },
  {
   "cell_type": "code",
   "execution_count": 339,
   "metadata": {},
   "outputs": [],
   "source": [
    "## Number of Topics\n",
    "K = 10\n",
    "\n",
    "## Square Root of the Number of \"Vocabulary\" (must be sqrt such that pictorial interpretation is possible)\n",
    "sqrtV = 5\n",
    "\n",
    "## Number of documents\n",
    "D = 1000\n",
    "\n",
    "## Number of words per document\n",
    "N_D_dist = tfd.Poisson(rate=100)\n",
    "N_D     = tf.cast(N_D_dist.sample(D), dtype=tf.int32)\n",
    "N_total = tf.reduce_sum(N_D)\n",
    "N_max   = tf.reduce_max(N_D)\n",
    "N_idx = sliceConverter(N_D)"
   ]
  },
  {
   "cell_type": "code",
   "execution_count": 340,
   "metadata": {},
   "outputs": [
    {
     "data": {
      "image/png": "[encoded data removed]",
      "text/plain": [
       "<Figure size 400x250 with 1 Axes>"
      ]
     },
     "metadata": {},
     "output_type": "display_data"
    }
   ],
   "source": [
    "plt.figure(figsize=(4, 2.5))\n",
    "plt.hist(N_D)\n",
    "plt.show()"
   ]
  },
  {
   "cell_type": "markdown",
   "metadata": {},
   "source": [
    "2. Generating Data"
   ]
  },
  {
   "cell_type": "code",
   "execution_count": 341,
   "metadata": {},
   "outputs": [],
   "source": [
    "## Word grid\n",
    "V = int(sqrtV**2)\n",
    "V_grid = np.reshape(np.arange(0, V), newshape=(sqrtV, sqrtV))\n",
    "\n",
    "## Topic-Word Distribution\n",
    "#  Words belonging to a topic are rows and columns\n",
    "Theta_idx = [row for row in V_grid] + [col for col in V_grid.T]\n",
    "Theta = np.zeros((K, V))\n",
    "for k, idx in enumerate(Theta_idx):\n",
    "    Theta[k, idx] = 1. / sqrtV\n",
    "Theta = tf.constant(Theta, dtype=tf.float32)"
   ]
  },
  {
   "cell_type": "code",
   "execution_count": 342,
   "metadata": {},
   "outputs": [],
   "source": [
    "## Document-Topic Distribution\n",
    "Alpha = 1\n",
    "dist_Pi = tfd.Dirichlet(K*[Alpha])\n",
    "Pi      = dist_Pi.sample(D)"
   ]
  },
  {
   "cell_type": "code",
   "execution_count": 343,
   "metadata": {},
   "outputs": [],
   "source": [
    "## Topic Assignments of word c_{dik} of word w_{di}\n",
    "dist_C  = tfd.Categorical(probs=Pi)\n",
    "C_NmaxD = dist_C.sample(N_max)\n",
    "\n",
    "C = []\n",
    "for d in range(D):\n",
    "    C_col = C_NmaxD[:N_D[d], d]\n",
    "    C.append(C_col)\n",
    "\n",
    "C = tf.concat(C, axis=0)\n",
    "assert C.ndim == 1 and C.shape[0] == N_total\n",
    "\n",
    "C_one_hot = tf.one_hot(C, depth=K, axis=-1)\n",
    "assert tf.reduce_all(tf.reduce_sum(C_one_hot, axis=-1) == 1)"
   ]
  },
  {
   "cell_type": "code",
   "execution_count": 344,
   "metadata": {},
   "outputs": [],
   "source": [
    "## Draw words w_{di}\n",
    "dist_W = tfd.Categorical(tf.gather(Theta, C))\n",
    "W = dist_W.sample()"
   ]
  },
  {
   "cell_type": "code",
   "execution_count": 345,
   "metadata": {},
   "outputs": [
    {
     "name": "stdout",
     "output_type": "stream",
     "text": [
      "Topics for the Words in Document d=11:\n",
      "tf.Tensor(\n",
      "[8 8 1 8 8 8 3 8 1 1 8 4 0 6 3 1 9 8 8 4 8 1 9 1 7 3 0 3 8 8 4 3 8 9 3 9 6\n",
      " 1 3 8 9 2 3 8 3 8 8 5 9 6 3 1 5 0 0 9 3 1 1 4 3 8 0 9 5 8 1 0 9 0 1 1 3 8\n",
      " 3 3 8 3 0 3 0 7 3 3 0 8 9 8 0 5 9 3 3 7 5 2 0 8 5 0 1 3 5 1 5 0 5 8 5 8 3\n",
      " 9 8 3 8 8 8 3 0 6 3], shape=(121,), dtype=int32)\n",
      "\n",
      "Words in Document d=11:\n",
      "tf.Tensor(\n",
      "[ 1  7  8 12  6  6 23 23 10  1 16 21 18 14 21 10  7  3 15 15  8 22 22 12\n",
      " 24 18 13  8 13 20  9 18 15 22  0 21  0 10 22 15 10 12  0  2 16  2 23 10\n",
      "  5 21 21 16  8 16  6 21  6 14  1 18  3 22 17 19  0  1  6  3 16 15 10 16\n",
      " 21 19  5 20 24 17 11 13 21  8 18 13 15 11  4 14 19 15 21 10 23 24  8 22\n",
      " 17  2  0 19  5  6  7 23  2  0 20  9 16 14  5 11  4 11  5  3  0 14  4 19\n",
      " 16], shape=(121,), dtype=int32)\n"
     ]
    }
   ],
   "source": [
    "## To extract topic-word assignments and document-words for a \n",
    "#  specific document, use the slice converter:\n",
    "doc_slice = N_idx[11]\n",
    "\n",
    "print(\"Topics for the Words in Document d=11:\")\n",
    "print(C[doc_slice])\n",
    "print(\"\\nWords in Document d=11:\")\n",
    "print(W[doc_slice])"
   ]
  },
  {
   "cell_type": "code",
   "execution_count": 346,
   "metadata": {},
   "outputs": [],
   "source": [
    "## For development purposes:\n",
    "def print_all_shapes():\n",
    "    print(\"Π-Shape\")\n",
    "    print(Pi.shape)\n",
    "    print(\"\\nΘ-Shape\")\n",
    "    print(Theta.shape)\n",
    "    print(\"\\nC-Shape\")\n",
    "    print(C.shape)\n",
    "    print(\"\\nC_one_hot-Shape\")\n",
    "    print(C_one_hot.shape)\n",
    "    print(\"\\nW-Shape\")\n",
    "    print(W.shape)"
   ]
  },
  {
   "cell_type": "markdown",
   "metadata": {},
   "source": [
    "## Visualization"
   ]
  },
  {
   "cell_type": "code",
   "execution_count": 347,
   "metadata": {},
   "outputs": [],
   "source": [
    "def format_to_img(arr, sqrtV=5):\n",
    "    vals = dict(zip(*np.unique(arr, return_counts=True)))\n",
    "    img = []\n",
    "\n",
    "    for i in range(V):\n",
    "        if i in vals:\n",
    "            img.append(vals[i])\n",
    "        else:\n",
    "            img.append(0)\n",
    "\n",
    "    img = np.array(img).reshape(sqrtV, sqrtV)\n",
    "\n",
    "    return img"
   ]
  },
  {
   "cell_type": "code",
   "execution_count": 348,
   "metadata": {},
   "outputs": [
    {
     "data": {
      "text/plain": [
       "<matplotlib.image.AxesImage at 0x1966e7f1b40>"
      ]
     },
     "execution_count": 348,
     "metadata": {},
     "output_type": "execute_result"
    },
    {
     "data": {
      "image/png": "[encoded data removed]",
      "text/plain": [
       "<Figure size 640x480 with 1 Axes>"
      ]
     },
     "metadata": {},
     "output_type": "display_data"
    }
   ],
   "source": [
    "plt.imshow(format_to_img(W[N_idx[10]]), cmap=\"Greys\")"
   ]
  },
  {
   "cell_type": "markdown",
   "metadata": {},
   "source": [
    "## Gibbs Sampler"
   ]
  },
  {
   "cell_type": "markdown",
   "metadata": {},
   "source": [
    "#### N-Tensor\n",
    "One efficiency crtitical step is to vectorize \n",
    "$$\n",
    "    n_{dkv} =  \\{i \\, \\vert \\, w_{di} == v \\ \\& \\ c_{idk} ==1\\}\n",
    "$$\n",
    "as much as possible. Due to the fact, that the document lengths are variable there is the choice between looping over the number of documents or padding the documents to a unique length. The padding does not need a word-token, it can be done by padding the $C$ matrix with $0$, therefore it will not affect $N$. Then the counting can be realized by stacking $W$ $K$ times along the last axis to match the shape of $C$."
   ]
  },
  {
   "cell_type": "code",
   "execution_count": 349,
   "metadata": {},
   "outputs": [],
   "source": [
    "def multiloop_N_tensor(W, C_one_hot, N_idx, D=1000, V=25):\n",
    "    K = C_one_hot.shape[1]\n",
    "    W         = W.numpy()\n",
    "    C_one_hot = C_one_hot.numpy()\n",
    "    N_DKV = np.zeros(shape=(D, K, V))\n",
    "    \n",
    "    for d in tqdm(range(D)):\n",
    "        di = N_idx[d]\n",
    "        for k in range(K):\n",
    "            for v in range(V):\n",
    "                for w_di, c_dik in zip(W[di], C_one_hot[di, k]):\n",
    "                    if w_di == v and c_dik == 1:\n",
    "                        N_DKV[d, k, v] += 1\n",
    "\n",
    "    return N_DKV"
   ]
  },
  {
   "cell_type": "code",
   "execution_count": 350,
   "metadata": {},
   "outputs": [],
   "source": [
    "# N_test1 = multiloop_N_tensor(W, C_one_hot, N_idx)"
   ]
  },
  {
   "cell_type": "code",
   "execution_count": 351,
   "metadata": {},
   "outputs": [],
   "source": [
    "# %timeit multiloop_N_tensor(W, C_one_hot, N_idx)"
   ]
  },
  {
   "cell_type": "code",
   "execution_count": 352,
   "metadata": {},
   "outputs": [],
   "source": [
    "def singleloop_N_tensor(W, C_one_hot, N_idx, D=1000, V=25, verbose=False):\n",
    "    K = C_one_hot.shape[1]\n",
    "    W         = W.numpy()\n",
    "    C_one_hot = C_one_hot.numpy()\n",
    "    N_DKV = np.zeros(shape=(D, K, V))\n",
    "\n",
    "    ## Preparing W-stacking by shifting all entries one \"up\" s. t. v is counted \n",
    "    #  from 1 to 25 instead from 0 to 24. This enables to collapse the \"&\" in the\n",
    "    #  set to be collapsed to a matrix product\n",
    "    Wp1 = W + 1\n",
    "    \n",
    "    if verbose:\n",
    "        iter = tqdm(range(D))  \n",
    "    if not verbose:\n",
    "        iter = range(D)\n",
    "\n",
    "    for d in iter:\n",
    "        di = N_idx[d]\n",
    "        W_ = Wp1[di]\n",
    "        C_one_hot_ = C_one_hot[di]\n",
    "\n",
    "        Nd = len(W_)\n",
    "\n",
    "        ## Stacking W\n",
    "        W_stacked = np.stack(K*[W_], axis=-1)\n",
    "\n",
    "        ## Elementwise product combines logical & in conditio\n",
    "        #  Choosing int32 as product dtype for efficiency.\n",
    "        C_Dot_W = np.multiply(W_stacked, C_one_hot_)\n",
    "\n",
    "        ## The v-dimension of N is a one-hot encoding for the vocabulary:\n",
    "        N_dNdKVp1 = np_one_hot(C_Dot_W.astype(np.int32), V+1)\n",
    "\n",
    "        ## Reverting the v-shift by dropping the 0 one-hot dimension\n",
    "        N_dNdKV = N_dNdKVp1[:, :, 1:]\n",
    "\n",
    "        ## Summing along v-dimension\n",
    "        assert N_dNdKV.shape[0] == Nd\n",
    "        N_dKV = np.sum(N_dNdKV, axis=0)\n",
    "\n",
    "        ## Append to full tensor\n",
    "        N_DKV[d, :, :] = N_dKV\n",
    "\n",
    "    return N_DKV"
   ]
  },
  {
   "cell_type": "code",
   "execution_count": 353,
   "metadata": {},
   "outputs": [],
   "source": [
    "N_test2 = singleloop_N_tensor(W, C_one_hot, N_idx)"
   ]
  },
  {
   "cell_type": "code",
   "execution_count": 354,
   "metadata": {},
   "outputs": [],
   "source": [
    "# %timeit singleloop_N_tensor(W, C_one_hot, N_idx)"
   ]
  },
  {
   "cell_type": "code",
   "execution_count": 355,
   "metadata": {},
   "outputs": [
    {
     "name": "stdout",
     "output_type": "stream",
     "text": [
      "Numpy implementation which avoides all loops but the loop over documents is about a factor 63.2 more efficient as multiloop version.\n"
     ]
    }
   ],
   "source": [
    "print(f\"Numpy implementation which avoides all loops but the loop over documents is about a factor {round(8150./129., 1)} more efficient as multiloop version.\")"
   ]
  },
  {
   "cell_type": "code",
   "execution_count": 356,
   "metadata": {},
   "outputs": [],
   "source": [
    "def fungen_pad_CW(N_idx):\n",
    "    \n",
    "    @tf.function\n",
    "    def padd_CW(W, C_one_hot):\n",
    "        K = C_one_hot.shape[1]\n",
    "\n",
    "        ## Reshaping C to C_DNmaxK and\n",
    "        #            W to W_DNmax\n",
    "        C_DNmaxK_list = []\n",
    "        W_DNmax_list  = []\n",
    "        N_max = tf.reduce_max(N_idx.single_lengths)\n",
    "\n",
    "        for di in N_idx:\n",
    "            CdiK = C_one_hot[di, :]\n",
    "            Wdi  = W[di]\n",
    "            Nd   = CdiK.shape[0]\n",
    "\n",
    "            N_pad = N_max - Nd\n",
    "\n",
    "            ## C\n",
    "            pad = tf.zeros(shape=(N_pad, K), dtype=CdiK.dtype)\n",
    "            CdiK_pad = tf.concat([CdiK, pad], axis=0)\n",
    "            C_DNmaxK_list.append(CdiK_pad)\n",
    "\n",
    "            ## W\n",
    "            pad = tf.zeros(shape=(N_pad), dtype=Wdi.dtype)\n",
    "            Wdi_pad = tf.concat([Wdi, pad], axis=0)\n",
    "            W_DNmax_list.append(Wdi_pad)\n",
    "\n",
    "        C_DNmaxK = tf.stack(C_DNmaxK_list, axis=0)\n",
    "        W_DNmax  = tf.stack(W_DNmax_list, axis=0)\n",
    "\n",
    "        return W_DNmax, C_DNmaxK\n",
    "\n",
    "    return padd_CW\n",
    "\n",
    "## Using a tf.function decorator causes the creation to take pretty long because a graph\n",
    "#  is built which has to take the document lengths into account. This might be only \n",
    "#  useful if the function itself takes long to run without a tf.function... Maybe\n",
    "#  Better use just the plain-non tf.function-converted:\n",
    "\n",
    "def padd_CW(W, C_one_hot, N_idx):\n",
    "    K = C_one_hot.shape[1]\n",
    "\n",
    "    ## Reshaping C to C_DNmaxK and\n",
    "    #            W to W_DNmax\n",
    "    C_DNmaxK_list = []\n",
    "    W_DNmax_list  = []\n",
    "    N_max = tf.reduce_max(N_idx.single_lengths)\n",
    "\n",
    "    for di in N_idx:\n",
    "        CdiK = C_one_hot[di, :]\n",
    "        Wdi  = W[di]\n",
    "        Nd   = CdiK.shape[0]\n",
    "\n",
    "        N_pad = N_max - Nd\n",
    "\n",
    "        ## C\n",
    "        pad = tf.zeros(shape=(N_pad, K), dtype=CdiK.dtype)\n",
    "        CdiK_pad = tf.concat([CdiK, pad], axis=0)\n",
    "        C_DNmaxK_list.append(CdiK_pad)\n",
    "\n",
    "        ## W\n",
    "        pad = tf.zeros(shape=(N_pad), dtype=Wdi.dtype)\n",
    "        Wdi_pad = tf.concat([Wdi, pad], axis=0)\n",
    "        W_DNmax_list.append(Wdi_pad)\n",
    "\n",
    "    C_DNmaxK = tf.stack(C_DNmaxK_list, axis=0)\n",
    "    W_DNmax  = tf.stack(W_DNmax_list, axis=0)\n",
    "\n",
    "    return W_DNmax, C_DNmaxK\n",
    "\n"
   ]
  },
  {
   "cell_type": "code",
   "execution_count": 357,
   "metadata": {},
   "outputs": [],
   "source": [
    "# %timeit tf_padd_CW(W, C_one_hot)"
   ]
  },
  {
   "cell_type": "code",
   "execution_count": 358,
   "metadata": {},
   "outputs": [],
   "source": [
    "# %timeit padd_CW(W, C_one_hot, N_idx)"
   ]
  },
  {
   "cell_type": "code",
   "execution_count": 359,
   "metadata": {},
   "outputs": [
    {
     "name": "stdout",
     "output_type": "stream",
     "text": [
      "With a tf.function the padding is about a factor 15.4 more efficient, when the graph is already constructed. Yet constructing the graph takes a while.\n"
     ]
    }
   ],
   "source": [
    "print(f\"With a tf.function the padding is about a factor {round(970./63., 1)} more efficient, when the graph is already constructed. Yet constructing the graph takes a while.\")"
   ]
  },
  {
   "cell_type": "code",
   "execution_count": 360,
   "metadata": {},
   "outputs": [],
   "source": [
    "W_DNmax, C_DNmaxK = padd_CW(W, C_one_hot, N_idx)\n",
    "# tf_padd_CW = fungen_pad_CW(N_idx)\n",
    "# W_DNmax, C_DNmaxK = tf_padd_CW(W, C_one_hot)"
   ]
  },
  {
   "cell_type": "code",
   "execution_count": 361,
   "metadata": {},
   "outputs": [],
   "source": [
    "@tf.function\n",
    "def tf_N_tensor(W_DNmax, C_DNmaxK, V=25):\n",
    "\n",
    "    ## Extracting shapes\n",
    "    D = C_DNmaxK.shape[0]\n",
    "    N = C_DNmaxK.shape[1]\n",
    "    K = C_DNmaxK.shape[2]\n",
    "    \n",
    "    ## Preparing W-stacking by shifting all entries one \"up\" s. t. v is counted \n",
    "    #  from 1 to 25 instead from 0 to 24. This enables to collapse the \"&\" in the\n",
    "    #  set to be collapsed to a matrix product\n",
    "    Wp1 = W_DNmax + 1\n",
    "    W_stacked = tf.stack(K*[Wp1], axis=-1)    \n",
    "\n",
    "    ## Elementwise product combines logical & in condition.\n",
    "    #  Choosing int32 as product dtype for efficiency.\n",
    "    C_DNmaxK_int = tf.cast(C_DNmaxK, dtype=tf.int32)\n",
    "    C_Dot_W = tf.math.multiply(W_stacked, C_DNmaxK_int)\n",
    "\n",
    "    ## The v-dimension of N is a one-hot encoding for the vocabulary:\n",
    "    N_DNKVp1 = tf.one_hot(C_Dot_W, V+1, dtype=tf.int32)\n",
    "\n",
    "    ## Reverting the v-shift by dropping the 0 one-hot dimension\n",
    "    N_DNKV = N_DNKVp1[:, :, :, 1:]\n",
    "\n",
    "    ## Summing along v-dimension\n",
    "    assert N_DNKV.shape[1] == N\n",
    "    N_DKV = tf.reduce_sum(N_DNKV, axis=1)\n",
    "\n",
    "    ## Turn to float for gibbs sampler\n",
    "    N_DKV = tf.cast(N_DKV, dtype=tf.float32)\n",
    "\n",
    "    return N_DKV"
   ]
  },
  {
   "cell_type": "code",
   "execution_count": 362,
   "metadata": {},
   "outputs": [],
   "source": [
    "# %timeit tf_N_tensor(W_DNmax, C_DNmaxK)"
   ]
  },
  {
   "cell_type": "code",
   "execution_count": 363,
   "metadata": {},
   "outputs": [
    {
     "name": "stdout",
     "output_type": "stream",
     "text": [
      "The padded tf Version is about a factor 3.5 more efficient than the numpy-vectorized version.\n"
     ]
    }
   ],
   "source": [
    "print(f\"The padded tf Version is about a factor {round(129./37, 1)} more efficient than the numpy-vectorized version.\")"
   ]
  },
  {
   "cell_type": "code",
   "execution_count": 364,
   "metadata": {},
   "outputs": [
    {
     "data": {
      "text/plain": [
       "<tf.Tensor: shape=(), dtype=bool, numpy=True>"
      ]
     },
     "execution_count": 364,
     "metadata": {},
     "output_type": "execute_result"
    }
   ],
   "source": [
    "N_test3 = tf_N_tensor(W_DNmax, C_DNmaxK)\n",
    "tf.reduce_all(N_test3 == N_test2)"
   ]
  },
  {
   "cell_type": "markdown",
   "metadata": {},
   "source": [
    "### **Sampling $C$**\n",
    "\n",
    "Sampling $\\Theta$ and $\\Pi$ is not very problematic because they are just dirichlet distributed (below). Sampling $C$ is sampling from \n",
    "$$\n",
    "    p(C\\vert \\Theta, \\Pi, W)=\\prod_{d=1}^D \\prod_{i=1}^{I_d} \\frac{\\prod_{k=1}^K \\left(\\pi_{dk}\\theta_{kw_{di}}\\right)^{c_{dik}}}{\\sum_{k'=1}^K\\left(\\pi_{dk'}\\theta_{k'w_{di}}\\right)}\n",
    "$$ \n",
    "which is a categorical distribution. The dependence of $I_d$ is somewhat entangled in the $w_{di}$ index of $\\Theta_{kw_{di}}$. A fully vectorized solution without loop over $D$ therefore again needs padding.\n",
    "\n",
    "https://youtu.be/z2q7LhsnWNg?t=3878"
   ]
  },
  {
   "cell_type": "code",
   "execution_count": 365,
   "metadata": {},
   "outputs": [
    {
     "name": "stdout",
     "output_type": "stream",
     "text": [
      "Π-Shape\n",
      "(1000, 10)\n",
      "\n",
      "Θ-Shape\n",
      "(10, 25)\n",
      "\n",
      "C-Shape\n",
      "(100174,)\n",
      "\n",
      "C_one_hot-Shape\n",
      "(100174, 10)\n",
      "\n",
      "W-Shape\n",
      "(100174,)\n",
      "\n",
      "C_one_hot_padded-Shape\n",
      "(1000, 135, 10)\n",
      "\n",
      "W_padded-Shape\n",
      "(1000, 135)\n"
     ]
    }
   ],
   "source": [
    "W_DNmax, C_DNmaxK = padd_CW(W, C_one_hot, N_idx)\n",
    "print_all_shapes()\n",
    "print(\"\\nC_one_hot_padded-Shape\")\n",
    "print(C_DNmaxK.shape)\n",
    "print(\"\\nW_padded-Shape\")\n",
    "print(W_DNmax.shape)"
   ]
  },
  {
   "cell_type": "code",
   "execution_count": 366,
   "metadata": {},
   "outputs": [],
   "source": [
    "def singleloop_sample_C(Theta, Pi, W):\n",
    "    for d in range(D):\n",
    "        pass"
   ]
  },
  {
   "cell_type": "code",
   "execution_count": 367,
   "metadata": {},
   "outputs": [],
   "source": [
    "def sample_C(Theta, Pi, W_DNmax):\n",
    "\n",
    "    ## Numerator\n",
    "    # Theta_block = tf.cast(tf.stack(D*[Theta]), dtype=tf.float32)\n",
    "    # Pi_block = tf.cast(tf.stack(V*[Pi], axis=-1), dtype=tf.float32)\n",
    "    # numerator = tf.math.multiply(Pi_block, Theta_block)\n",
    "    Theta_KDNmax = tf.gather(Theta, W_DNmax, axis=-1) \n",
    "    Pi_block = tf.stack(Theta_KDNmax.shape[2]*[tf.transpose(Pi)], axis=-1)\n",
    "    numerator = tf.math.multiply(Pi_block, Theta_KDNmax)\n",
    "\n",
    "    ## Denominator\n",
    "    # denominator = tf.reduce_sum(numerator, axis=1)\n",
    "\n",
    "    ## Sampling\n",
    "    C_dist = tfd.Categorical(numerator)\n",
    "    C = C_dist.sample()\n",
    "\n",
    "    return C"
   ]
  },
  {
   "cell_type": "code",
   "execution_count": 368,
   "metadata": {},
   "outputs": [],
   "source": [
    "## For Tets purposes: Calculate Theta_KW in loop once.\n",
    "# Theta_KW_1 = np.zeros(shape=(K, len(W)))\n",
    "\n",
    "# Theta_temp = Theta.numpy()\n",
    "# W_temp = W.numpy()\n",
    "# for k in tqdm(range(K)):\n",
    "#     for i, w in enumerate(W_temp):\n",
    "#         Theta_KW_1[k, i] = Theta[k, w]"
   ]
  },
  {
   "cell_type": "code",
   "execution_count": 371,
   "metadata": {},
   "outputs": [
    {
     "data": {
      "text/plain": [
       "TensorShape([10, 1000])"
      ]
     },
     "execution_count": 371,
     "metadata": {},
     "output_type": "execute_result"
    }
   ],
   "source": [
    "# TODO:\n",
    "test = sample_C(Theta, Pi, W_DNmax)\n",
    "test.shape"
   ]
  },
  {
   "cell_type": "code",
   "execution_count": 323,
   "metadata": {},
   "outputs": [
    {
     "data": {
      "text/plain": [
       "TensorShape([10, 1000, 135])"
      ]
     },
     "execution_count": 323,
     "metadata": {},
     "output_type": "execute_result"
    }
   ],
   "source": [
    "Theta_KDNmax = tf.gather(Theta, W_DNmax, axis=-1) \n",
    "Theta_KDNmax.shape"
   ]
  },
  {
   "cell_type": "code",
   "execution_count": 328,
   "metadata": {},
   "outputs": [],
   "source": [
    "Pi_block = tf.stack(Theta_KDNmax.shape[2]*[tf.transpose(Pi)], axis=-1)"
   ]
  },
  {
   "cell_type": "code",
   "execution_count": 330,
   "metadata": {},
   "outputs": [
    {
     "data": {
      "text/plain": [
       "TensorShape([10, 1000, 135])"
      ]
     },
     "execution_count": 330,
     "metadata": {},
     "output_type": "execute_result"
    }
   ],
   "source": [
    "numerator = tf.math.multiply(Pi_block, Theta_KDNmax)\n",
    "numerator.shape"
   ]
  },
  {
   "cell_type": "code",
   "execution_count": 331,
   "metadata": {},
   "outputs": [],
   "source": [
    "denominator = tf.reduce_sum(numerator, axis=0)"
   ]
  },
  {
   "cell_type": "code",
   "execution_count": 246,
   "metadata": {},
   "outputs": [
    {
     "data": {
      "text/plain": [
       "TensorShape([1000, 10, 25])"
      ]
     },
     "execution_count": 246,
     "metadata": {},
     "output_type": "execute_result"
    }
   ],
   "source": [
    "Theta_block = tf.cast(tf.stack(D*[Theta]), dtype=tf.float32)\n",
    "Pi_block = tf.cast(tf.stack(V*[Pi], axis=-1), dtype=tf.float32)\n",
    "numerator = tf.math.multiply(Pi_block, Theta_block)\n",
    "numerator.shape"
   ]
  },
  {
   "cell_type": "code",
   "execution_count": 197,
   "metadata": {},
   "outputs": [],
   "source": [
    "# test_tensor = tf.cast(Theta[:, W], dtype=tf.float32)\n",
    "# Theta = tf.cast(Theta, dtype=tf.float32)\n",
    "\n",
    "# d = np.random.randint(0, 1000, 1000)\n",
    "# k = np.random.randint(0, 10,   1000)\n",
    "# v = np.random.randint(0, 25,   1000)\n",
    "\n",
    "# for i, j, l in zip(d, k, v):\n",
    "#     test_element = Theta[: W[d, i]]"
   ]
  },
  {
   "cell_type": "markdown",
   "metadata": {},
   "source": [
    "### **Sampling $\\Theta$ and $\\Pi$**\n",
    "\n",
    "Sampling $\\Theta$ and $\\Pi$:\n",
    "$$\n",
    "    \\begin{align*}\n",
    "        p(\\Theta\\vert C, W) &= \\prod_{k=1}^K \\mathcal D(\\theta_k; \\ \\beta_{k:} + n_{\\cdot k:}) \\\\\n",
    "        p(\\Pi\\vert C, W)    &= \\prod_{d=1}^D \\mathcal D(\\pi_d; \\ \\alpha_{d:} + n_{d:\\cdot}) \\, .\n",
    "    \\end{align*}\n",
    "$$\n",
    "$\\Theta$ and $\\Pi$ are neither dependent on the number of words per document nor do they have an $I_d$ dimension. Therefore it is much easier to sample them:"
   ]
  },
  {
   "cell_type": "code",
   "execution_count": 204,
   "metadata": {},
   "outputs": [],
   "source": [
    "@tf.function\n",
    "def sample_Theta(N_DKV, beta):\n",
    "    dist_Theta = tfd.Dirichlet(beta + tf.reduce_sum(N_DKV, axis=0))\n",
    "    Theta      = dist_Theta.sample()\n",
    "    return Theta\n",
    "\n",
    "@tf.function\n",
    "def sample_Pi(N_DKV, alpha):\n",
    "    dist_Pi = tfd.Dirichlet(alpha + tf.reduce_sum(N_DKV, axis=-1))\n",
    "    Pi      = dist_Pi.sample()\n",
    "    return Pi"
   ]
  },
  {
   "cell_type": "code",
   "execution_count": 205,
   "metadata": {},
   "outputs": [],
   "source": [
    "## Random Initialization of Prior Alpha and Beta.\n",
    "#  They do not acutally matter much but could be optimized by Type II MAP or MLE.\n",
    "beta  = tf.constant(np.random.normal(size=(K, V)), dtype=tf.float32)\n",
    "alpha = tf.constant(np.random.normal(size=(D, K)), dtype=tf.float32)\n",
    "\n",
    "## Calculate one N_DKV for test purposes\n",
    "W_DNmax, C_DNmaxK = padd_CW(W, C_one_hot, N_idx)\n",
    "N_test = tf_N_tensor(W_DNmax, C_DNmaxK)"
   ]
  },
  {
   "cell_type": "code",
   "execution_count": 206,
   "metadata": {},
   "outputs": [],
   "source": [
    "test_Theta = sample_Theta(N_test, beta)\n",
    "test_Pi    = sample_Pi(N_test, alpha)\n",
    "\n",
    "assert test_Theta.shape == Theta.shape\n",
    "assert test_Pi.shape == Pi.shape"
   ]
  },
  {
   "cell_type": "markdown",
   "metadata": {},
   "source": [
    "#### Main Loop"
   ]
  },
  {
   "cell_type": "code",
   "execution_count": 439,
   "metadata": {},
   "outputs": [],
   "source": [
    "N_iter = 200\n",
    "Theta_store = []\n",
    "W_ = W\n",
    "\n",
    "C0         = np.random.randint(0, 10,  size=(D, N))\n",
    "C0_one_hot = tf.one_hot(C0, depth=K, axis=-1)\n",
    "\n",
    "alpha0 = np.random.randint(0, 10,  size=(D, N))\n",
    "beta0  = np.random.normal(size=(D, K))"
   ]
  },
  {
   "cell_type": "code",
   "execution_count": null,
   "metadata": {},
   "outputs": [],
   "source": [
    "# for iter in  tqdm(range(N_iter)):\n",
    "#     Ndkv = \n",
    "#     Theta_it = tfd.Dirichlet()"
   ]
  }
 ],
 "metadata": {
  "kernelspec": {
   "display_name": "Python 3.10.4 ('tfa-gpu')",
   "language": "python",
   "name": "python3"
  },
  "language_info": {
   "codemirror_mode": {
    "name": "ipython",
    "version": 3
   },
   "file_extension": ".py",
   "mimetype": "text/x-python",
   "name": "python",
   "nbconvert_exporter": "python",
   "pygments_lexer": "ipython3",
   "version": "3.10.4"
  },
  "orig_nbformat": 4,
  "vscode": {
   "interpreter": {
    "hash": "b28dcc1f87ebe436630d7ecff3a3c61833e6c22febb81b1e7cd0d34da649d2b8"
   }
  }
 },
 "nbformat": 4,
 "nbformat_minor": 2
}
