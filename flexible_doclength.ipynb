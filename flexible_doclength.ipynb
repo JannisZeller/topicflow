{
 "cells": [
  {
   "cell_type": "markdown",
   "metadata": {},
   "source": [
    "# Toy Model\n",
    "\n",
    "Trying toy model inspired by [Griffiths & Steyvers, 2004](https://doi.org/10.1073/pnas.0307752101)."
   ]
  },
  {
   "cell_type": "code",
   "execution_count": 523,
   "metadata": {},
   "outputs": [],
   "source": [
    "from collections.abc import Sequence\n",
    "import tensorflow_probability as tfp\n",
    "import tensorflow as tf\n",
    "tfd = tfp.distributions\n",
    "import numpy as np\n",
    "import matplotlib.pyplot as plt\n",
    "from tqdm import tqdm\n",
    "\n",
    "from timeit import timeit\n",
    "\n",
    "np.random.seed(42)\n",
    "tf.random.set_seed(42)"
   ]
  },
  {
   "cell_type": "code",
   "execution_count": 524,
   "metadata": {},
   "outputs": [],
   "source": [
    "## One hot for numpy\n",
    "def np_one_hot(targets, nb_classes):\n",
    "    res = np.eye(nb_classes)[np.array(targets).reshape(-1)]\n",
    "    return res.reshape(list(targets.shape)+[nb_classes])"
   ]
  },
  {
   "cell_type": "markdown",
   "metadata": {},
   "source": [
    "### **Sampling Behaviour of `tfp.Distributions`**"
   ]
  },
  {
   "cell_type": "code",
   "execution_count": 525,
   "metadata": {},
   "outputs": [
    {
     "name": "stdout",
     "output_type": "stream",
     "text": [
      "(2, 3)\n"
     ]
    },
    {
     "data": {
      "text/plain": [
       "array([[2, 0],\n",
       "       [2, 0],\n",
       "       [2, 0],\n",
       "       [2, 0]])"
      ]
     },
     "execution_count": 525,
     "metadata": {},
     "output_type": "execute_result"
    }
   ],
   "source": [
    "## tfd.Categorical sampling behaviour:\n",
    "probs = tf.constant([[0., 0., 1.], \n",
    "                     [1., 0., 0.]])\n",
    "print(probs.shape)\n",
    "tfd.Categorical(probs=probs).sample(4).numpy()"
   ]
  },
  {
   "cell_type": "code",
   "execution_count": 526,
   "metadata": {},
   "outputs": [
    {
     "data": {
      "text/plain": [
       "array([[0.02140409, 0.01427036, 0.9643255 ],\n",
       "       [0.38862276, 0.16176145, 0.44961584]], dtype=float32)"
      ]
     },
     "execution_count": 526,
     "metadata": {},
     "output_type": "execute_result"
    }
   ],
   "source": [
    "## tfd.Dirichlet sampling behaviour:\n",
    "conc = tf.constant([[0.1, 0.1, 0.1], \n",
    "                    [  2.,  2.,  2.]])\n",
    "tfd.Dirichlet(conc).sample().numpy()"
   ]
  },
  {
   "cell_type": "markdown",
   "metadata": {},
   "source": [
    "$\\rightarrow$ Samples come in by row. For Categorical the sample size is flexible. For Dirichlet the sample cise is bounded to the concentrations."
   ]
  },
  {
   "cell_type": "markdown",
   "metadata": {},
   "source": [
    "## **Setting up Topics and Data**\n",
    "\n",
    "### Understand The indices in this Notebook\n",
    "\n",
    "- $K$ is the number of topics \n",
    "- $D$ is the number of documents\n",
    "- $I_d$ is the number of words in document $d$\n",
    "- $N_{\\mathrm{max}}$ is the maximum number of words per doument, i. e. $N_{\\mathrm{max}} = \\max_d \\{I_d\\}$\n",
    "- $T$ is the total number of words, i. e. $T = \\sum_d I_d$\n",
    "- $V$ is the vocabulary size which should be a square of an integer for the visualization purposes of this notebook"
   ]
  },
  {
   "cell_type": "markdown",
   "metadata": {},
   "source": [
    "### **1. Specify global parameters**"
   ]
  },
  {
   "cell_type": "code",
   "execution_count": 527,
   "metadata": {},
   "outputs": [],
   "source": [
    "## Constructing iterator for single documents N's\n",
    "class sliceConverter(Sequence):\n",
    "    def __init__(self, N_D: tf.Tensor):\n",
    "        assert N_D.ndim == 1\n",
    "        N_idx = tf.cumsum(N_D)\n",
    "        N_idx = tf.repeat(N_idx, 2)\n",
    "        self.N_idx   = tf.concat([[0], N_idx], axis=0).numpy()\n",
    "        self.N_max   = tf.reduce_mean(N_D).numpy()\n",
    "        self.N_total = N_idx[-1].numpy()\n",
    "        self.single_lengths = N_D\n",
    "\n",
    "    def __len__(self):\n",
    "        return int((self.N_idx.shape[0] - 1) / 2)\n",
    "\n",
    "    def __getitem__(self, k):\n",
    "        # if type(k) == int:\n",
    "        #     if k >= 0:\n",
    "        #         return tf.range(self.N_idx[2*k], self.N_idx[2*k + 1])\n",
    "        #     if k < 0:\n",
    "        #         i = len(self) + k\n",
    "        #         return tf.range(self.N_idx[2*i], self.N_idx[2*i + 1])\n",
    "        # elif type(k) == slice:\n",
    "        #     start, stop, step = k.indices(len(self))\n",
    "        #     return [self[i] for i in range(start, stop, step)]\n",
    "        if type(k) == int:\n",
    "            if k >= 0:\n",
    "                return slice(self.N_idx[2*k], self.N_idx[2*k + 1], 1)\n",
    "            if k < 0:\n",
    "                i = len(self) + k\n",
    "                return slice(self.N_idx[2*i], self.N_idx[2*i + 1], 1)\n",
    "        elif type(k) == slice:\n",
    "            start, stop, step = k.indices(len(self))\n",
    "            return [self[i] for i in range(start, stop, step)]\n",
    "        else:\n",
    "            raise TypeError(\"Index must be integer or slice.\")\n",
    "\n",
    "    def __iter__(self):\n",
    "        self.idx = 0\n",
    "        self.maxiter = len(self)\n",
    "        return self\n",
    "\n",
    "    def __next__(self):\n",
    "        if self.idx < self.maxiter:\n",
    "            ret = self.__getitem__(self.idx)\n",
    "            self.idx += 1\n",
    "            return ret\n",
    "        else:\n",
    "            raise StopIteration"
   ]
  },
  {
   "cell_type": "code",
   "execution_count": 528,
   "metadata": {},
   "outputs": [],
   "source": [
    "K       = 10    # Number of Topics\n",
    "sqrtV   = 5     # Square Root of the Number of \"Vocabulary\" (must be sqrt such that pictorial interpretation is possible)\n",
    "D       = 1000  # Number of documents\n",
    "N_rate  = None   # Number of words per document (either as rate for Poisson Distribution\n",
    "N_fixed = 100  #   or as fixed value)\n",
    "\n",
    "V = int(sqrtV**2)"
   ]
  },
  {
   "cell_type": "markdown",
   "metadata": {},
   "source": [
    "### **2. Generating Data**"
   ]
  },
  {
   "cell_type": "code",
   "execution_count": 529,
   "metadata": {},
   "outputs": [],
   "source": [
    "def generate_LDA(D: int, K: int, sqrtV: int, N_fixed: int=None, N_rate: int=None) -> tuple():\n",
    "    \"\"\"\n",
    "    Generates LDA-Data from the LDA generative Process. \n",
    "    Thetas get constructed as rows and columns of a quadratic sqrtV-grid.\n",
    "    Either N_fixed ot N_rate has to be passed\n",
    "    \"\"\"\n",
    "    assert (N_fixed is None) != (N_rate is None), \"Exactly one of N_fixed and N_rate must be passed.\"\n",
    "\n",
    "\n",
    "    ## Number of words per document\n",
    "    if N_rate is not None:\n",
    "        N_D_dist = tfd.Poisson(rate=100)\n",
    "        N_D      = tf.cast(N_D_dist.sample(D), dtype=tf.int32)\n",
    "    if N_fixed is not None:\n",
    "        N_D = np.array(D*[N_fixed])\n",
    "    N_idx    = sliceConverter(N_D)\n",
    "    \n",
    "\n",
    "    ## Word grid\n",
    "    V = int(sqrtV**2)\n",
    "    V_grid = np.reshape(np.arange(0, V), newshape=(sqrtV, sqrtV))\n",
    "\n",
    "\n",
    "    ## Topic-Word Distribution\n",
    "    #  Words belonging to a topic are rows and columns\n",
    "    Theta_idx = [row for row in V_grid] + [col for col in V_grid.T]\n",
    "    Theta = np.zeros((K, V))\n",
    "    for k, idx in enumerate(Theta_idx):\n",
    "        Theta[k, idx] = 1. / sqrtV\n",
    "    Theta = tf.constant(Theta, dtype=tf.float32)\n",
    "\n",
    "\n",
    "    ## Document-Topic Distribution\n",
    "    #  Initializing Alpha manually to 1.\n",
    "    Alpha = 1\n",
    "    dist_Pi = tfd.Dirichlet(K*[Alpha])\n",
    "    Pi      = dist_Pi.sample(D)\n",
    "\n",
    "\n",
    "    ## Topic Assignments of word c_{dik} of word w_{di}\n",
    "    dist_C  = tfd.Categorical(probs=Pi)\n",
    "    C_NmaxD = dist_C.sample(tf.reduce_max(N_D))\n",
    "\n",
    "    C_T = []\n",
    "    for d in range(D):\n",
    "        C_T_col = C_NmaxD[:N_D[d], d]\n",
    "        C_T.append(C_T_col)\n",
    "    C_T = tf.concat(C_T, axis=0)\n",
    "    C_TK = tf.one_hot(C_T, depth=K, axis=-1)\n",
    "\n",
    "\n",
    "    ## Draw words w_{di}\n",
    "    dist_W_T = tfd.Categorical(tf.gather(Theta, C_T))\n",
    "    W_T      = dist_W_T.sample()\n",
    "\n",
    "\n",
    "    return Theta, Pi, C_T, C_TK, W_T, N_idx"
   ]
  },
  {
   "cell_type": "code",
   "execution_count": 530,
   "metadata": {},
   "outputs": [],
   "source": [
    "Theta, Pi, C_T, C_TK, W_T, N_idx = generate_LDA(D, K, sqrtV, N_fixed=N_fixed, N_rate=N_rate)"
   ]
  },
  {
   "cell_type": "code",
   "execution_count": 531,
   "metadata": {},
   "outputs": [
    {
     "name": "stdout",
     "output_type": "stream",
     "text": [
      "Topics for the Words in Document d=11:\n",
      "tf.Tensor(\n",
      "[1 6 1 5 8 8 8 6 4 1 6 4 5 3 6 5 9 6 4 5 2 3 5 5 1 5 9 4 5 4 8 6 1 4 9 8 3\n",
      " 5 5 8 3 5 8 5 6 5 3 9 1 9 4 6 6 8 9 5 4 6 4 3 5 9 6 7 9 8 5 2 4 4 7 9 9 4\n",
      " 5 7 6 5 5 8 3 9 4 5 8 6 8 3 5 4 5 7 9 3 5 6 5 6 3 4], shape=(100,), dtype=int32)\n",
      "\n",
      "Words in Document d=11:\n",
      "tf.Tensor(\n",
      "[20 13 11 19  3 18 14  7 12 14  6 19  1  1  7 13 18 21 10  5 23  4  0 15\n",
      " 18  4  9 11  5 19 18 18  9 20  3 21 12 17 19 23 17  1 10 11 19 16  2 17\n",
      " 19  6  6 21  2 16 11  6  8 18 15 17  2  6 16  8  0 23  4  1 13  5  7 19\n",
      " 17 23 20 18 21  0  3 15 19 11  8 20  8 21  7 20 13  0  9 17 12  7 10 21\n",
      " 13  8 16  5], shape=(100,), dtype=int32)\n"
     ]
    }
   ],
   "source": [
    "## To extract topic-word assignments and document-words for a \n",
    "#  specific document, use the slice converter:\n",
    "doc_slice = N_idx[11]\n",
    "\n",
    "print(\"Topics for the Words in Document d=11:\")\n",
    "print(C_T[doc_slice])\n",
    "print(\"\\nWords in Document d=11:\")\n",
    "print(W_T[doc_slice])"
   ]
  },
  {
   "cell_type": "code",
   "execution_count": 532,
   "metadata": {},
   "outputs": [],
   "source": [
    "## For development purposes:\n",
    "def print_all_shapes():\n",
    "    print(\"Π-Shape (D docs x K topics)\")\n",
    "    print(Pi.shape)\n",
    "    print(\"\\nΘ-Shape (K topic x V vocab)\")\n",
    "    print(Theta.shape)\n",
    "    print(\"\\nC_T-Shape (Topic for each word T=sum_d I_d)\")\n",
    "    print(C_T.shape)\n",
    "    print(\"\\nC_TK-Shape (one-hot for each topic k in {1, K})\")\n",
    "    print(C_TK.shape)\n",
    "    print(\"\\nW-Shape (sum_d I_d words)\")\n",
    "    print(W_T.shape)"
   ]
  },
  {
   "cell_type": "markdown",
   "metadata": {},
   "source": [
    "### **3. Checking Shapes**"
   ]
  },
  {
   "cell_type": "code",
   "execution_count": 533,
   "metadata": {},
   "outputs": [
    {
     "name": "stdout",
     "output_type": "stream",
     "text": [
      "Π-Shape (D docs x K topics)\n",
      "(1000, 10)\n",
      "\n",
      "Θ-Shape (K topic x V vocab)\n",
      "(10, 25)\n",
      "\n",
      "C_T-Shape (Topic for each word T=sum_d I_d)\n",
      "(100000,)\n",
      "\n",
      "C_TK-Shape (one-hot for each topic k in {1, K})\n",
      "(100000, 10)\n",
      "\n",
      "W-Shape (sum_d I_d words)\n",
      "(100000,)\n"
     ]
    }
   ],
   "source": [
    "print_all_shapes()"
   ]
  },
  {
   "cell_type": "markdown",
   "metadata": {},
   "source": [
    "## **Visualization**"
   ]
  },
  {
   "cell_type": "code",
   "execution_count": 534,
   "metadata": {},
   "outputs": [],
   "source": [
    "def format_to_img(arr, sqrtV=5):\n",
    "    vals = dict(zip(*np.unique(arr, return_counts=True)))\n",
    "    img = []\n",
    "\n",
    "    for i in range(int(sqrtV**2)):\n",
    "        if i in vals:\n",
    "            img.append(vals[i])\n",
    "        else:\n",
    "            img.append(0)\n",
    "\n",
    "    img = np.array(img).reshape(sqrtV, sqrtV)\n",
    "\n",
    "    return img"
   ]
  },
  {
   "cell_type": "code",
   "execution_count": 535,
   "metadata": {},
   "outputs": [
    {
     "data": {
      "text/plain": [
       "<tf.Tensor: shape=(10,), dtype=float32, numpy=\n",
       "array([0.38780424, 0.18907806, 0.02911452, 0.06413591, 0.19551848,\n",
       "       0.0772825 , 0.03335454, 0.00486895, 0.01072818, 0.00811451],\n",
       "      dtype=float32)>"
      ]
     },
     "execution_count": 535,
     "metadata": {},
     "output_type": "execute_result"
    }
   ],
   "source": [
    "Pi[10,:]"
   ]
  },
  {
   "cell_type": "code",
   "execution_count": 536,
   "metadata": {},
   "outputs": [
    {
     "data": {
      "text/plain": [
       "<matplotlib.image.AxesImage at 0x177f29b1c30>"
      ]
     },
     "execution_count": 536,
     "metadata": {},
     "output_type": "execute_result"
    },
    {
     "data": {
      "image/png": "[encoded data removed]",
      "text/plain": [
       "<Figure size 640x480 with 1 Axes>"
      ]
     },
     "metadata": {},
     "output_type": "display_data"
    }
   ],
   "source": [
    "plt.imshow(format_to_img(W_T[N_idx[10]]), cmap=\"Greys\")"
   ]
  },
  {
   "cell_type": "code",
   "execution_count": 537,
   "metadata": {},
   "outputs": [
    {
     "data": {
      "text/plain": [
       "<matplotlib.image.AxesImage at 0x177f2a5b4f0>"
      ]
     },
     "execution_count": 537,
     "metadata": {},
     "output_type": "execute_result"
    },
    {
     "data": {
      "image/png": "[encoded data removed]",
      "text/plain": [
       "<Figure size 640x480 with 1 Axes>"
      ]
     },
     "metadata": {},
     "output_type": "display_data"
    }
   ],
   "source": [
    "plt.imshow(tf.reshape(Theta[0,:], (sqrtV, sqrtV)), cmap=\"Greys\")"
   ]
  },
  {
   "cell_type": "markdown",
   "metadata": {},
   "source": [
    "## **Gibbs Sampler**"
   ]
  },
  {
   "cell_type": "markdown",
   "metadata": {},
   "source": [
    "### **N-Tensor**\n",
    "One efficiency crtitical step is to vectorize \n",
    "$$\n",
    "    n_{dkv} =  \\{i \\, \\vert \\, w_{di} == v \\ \\& \\ c_{idk} ==1\\}\n",
    "$$\n",
    "as much as possible. Due to the fact, that the document lengths are variable there is the choice between looping over the number of documents or padding the documents to a unique length. The padding does not need a word-token, it can be done by padding the $C$ matrix with $0$, therefore it will not affect $N$. Then the counting can be realized by stacking $W$ $K$ times along the last axis to match the shape of $C$."
   ]
  },
  {
   "cell_type": "markdown",
   "metadata": {},
   "source": [
    "#### 1. Multiloop over all Dimensions\n",
    "\n",
    "Mainly for test purposes. Horribly slow."
   ]
  },
  {
   "cell_type": "code",
   "execution_count": 538,
   "metadata": {},
   "outputs": [],
   "source": [
    "def multiloop_N_tensor(W_T, C_TK, N_idx, D=1000, V=25):\n",
    "    K    = C_TK.shape[1]\n",
    "    W_T  = W_T.numpy()\n",
    "    C_TK = C_TK.numpy()\n",
    "    N_DKV = np.zeros(shape=(D, K, V))\n",
    "    \n",
    "    for d in tqdm(range(D)):\n",
    "        di = N_idx[d]\n",
    "        for k in range(K):\n",
    "            for v in range(V):\n",
    "                for w_di, c_dik in zip(W_T[di], C_TK[di, k]):\n",
    "                    if w_di == v and c_dik == 1:\n",
    "                        N_DKV[d, k, v] += 1\n",
    "\n",
    "    return N_DKV"
   ]
  },
  {
   "cell_type": "markdown",
   "metadata": {},
   "source": [
    "##### Test and Benchmark"
   ]
  },
  {
   "cell_type": "code",
   "execution_count": 539,
   "metadata": {},
   "outputs": [],
   "source": [
    "# N_test1 = multiloop_N_tensor(W_T, C_TK, N_idx)"
   ]
  },
  {
   "cell_type": "code",
   "execution_count": 540,
   "metadata": {},
   "outputs": [],
   "source": [
    "# %timeit multiloop_N_tensor(W_T, C_TK, N_idx)"
   ]
  },
  {
   "cell_type": "markdown",
   "metadata": {},
   "source": [
    "#### 2. Single-Loop over $D$ with numpy"
   ]
  },
  {
   "cell_type": "code",
   "execution_count": 541,
   "metadata": {},
   "outputs": [],
   "source": [
    "def singleloop_N_tensor(W_T, C_TK, N_idx, D=1000, V=25, verbose=False):\n",
    "    K = C_TK.shape[1]\n",
    "    W_T   = W_T.numpy()\n",
    "    C_TK  = C_TK.numpy()\n",
    "    N_DKV = np.zeros(shape=(D, K, V))\n",
    "\n",
    "    ## Preparing W-stacking by shifting all entries one \"up\" s. t. v is counted \n",
    "    #  from 1 to 25 instead from 0 to 24. This enables to collapse the \"&\" in the\n",
    "    #  set to be collapsed to a matrix product\n",
    "    Wp1 = W_T + 1\n",
    "    \n",
    "    if verbose:\n",
    "        iter = tqdm(range(D))  \n",
    "    if not verbose:\n",
    "        iter = range(D)\n",
    "\n",
    "    for d in iter:\n",
    "        di = N_idx[d]\n",
    "        W_ = Wp1[di]\n",
    "        C_TK_ = C_TK[di]\n",
    "\n",
    "        Nd = len(W_)\n",
    "\n",
    "        ## Stacking W\n",
    "        W_stacked = np.stack(K*[W_], axis=-1)\n",
    "\n",
    "        ## Elementwise product combines logical & in conditio\n",
    "        #  Choosing int32 as product dtype for efficiency.\n",
    "        C_Dot_W = np.multiply(W_stacked, C_TK_)\n",
    "\n",
    "        ## The v-dimension of N is a one-hot encoding for the vocabulary:\n",
    "        N_dNdKVp1 = np_one_hot(C_Dot_W.astype(np.int32), V+1)\n",
    "\n",
    "        ## Reverting the v-shift by dropping the 0 one-hot dimension\n",
    "        N_dNdKV = N_dNdKVp1[:, :, 1:]\n",
    "\n",
    "        ## Summing along v-dimension\n",
    "        assert N_dNdKV.shape[0] == Nd\n",
    "        N_dKV = np.sum(N_dNdKV, axis=0)\n",
    "\n",
    "        ## Append to full tensor\n",
    "        N_DKV[d, :, :] = N_dKV\n",
    "\n",
    "    return N_DKV"
   ]
  },
  {
   "cell_type": "markdown",
   "metadata": {},
   "source": [
    "##### Test and Benchmark"
   ]
  },
  {
   "cell_type": "code",
   "execution_count": 542,
   "metadata": {},
   "outputs": [],
   "source": [
    "N_test2 = singleloop_N_tensor(W_T, C_TK, N_idx)"
   ]
  },
  {
   "cell_type": "code",
   "execution_count": 543,
   "metadata": {},
   "outputs": [],
   "source": [
    "# %timeit singleloop_N_tensor(W, C_TK, N_idx)"
   ]
  },
  {
   "cell_type": "code",
   "execution_count": 544,
   "metadata": {},
   "outputs": [
    {
     "name": "stdout",
     "output_type": "stream",
     "text": [
      "Numpy implementation which avoides all loops but the loop over documents is about a factor 63.2 more efficient as multiloop version.\n"
     ]
    }
   ],
   "source": [
    "print(f\"Numpy implementation which avoides all loops but the loop over documents is about a factor {round(8150./129., 1)} more efficient as multiloop version.\")"
   ]
  },
  {
   "cell_type": "markdown",
   "metadata": {},
   "source": [
    "#### 3. Vectorized with Padding using `tf`"
   ]
  },
  {
   "cell_type": "code",
   "execution_count": 545,
   "metadata": {},
   "outputs": [],
   "source": [
    "## Padding Functions\n",
    "def fungen_pad_CW(N_idx):\n",
    "    \n",
    "    @tf.function\n",
    "    def padd_CW(W_T, C_TK):\n",
    "        K = C_TK.shape[1]\n",
    "\n",
    "        ## Reshaping C_TK to C_DNmaxK and\n",
    "        #            W_T  to W_DNmax\n",
    "        C_DNmaxK_list = []\n",
    "        W_DNmax_list  = []\n",
    "        N_max = tf.reduce_max(N_idx.single_lengths)\n",
    "\n",
    "        for di in N_idx:\n",
    "            CdiK = C_TK[di, :]\n",
    "            Wdi  = W_T[di]\n",
    "            Nd   = CdiK.shape[0]\n",
    "\n",
    "            N_pad = N_max - Nd\n",
    "\n",
    "            ## C\n",
    "            pad = tf.zeros(shape=(N_pad, K), dtype=CdiK.dtype)\n",
    "            CdiK_pad = tf.concat([CdiK, pad], axis=0)\n",
    "            C_DNmaxK_list.append(CdiK_pad)\n",
    "\n",
    "            ## W\n",
    "            pad = tf.zeros(shape=(N_pad), dtype=Wdi.dtype)\n",
    "            Wdi_pad = tf.concat([Wdi, pad], axis=0)\n",
    "            W_DNmax_list.append(Wdi_pad)\n",
    "\n",
    "        C_DNmaxK = tf.stack(C_DNmaxK_list, axis=0)\n",
    "        W_DNmax  = tf.stack(W_DNmax_list, axis=0)\n",
    "\n",
    "        return W_DNmax, C_DNmaxK\n",
    "\n",
    "    return padd_CW\n",
    "\n",
    "## Using a tf.function decorator causes the creation to take pretty long because a graph\n",
    "#  is built which has to take the document lengths into account. This might be only \n",
    "#  useful if the function itself takes long to run without a tf.function... Maybe\n",
    "#  Better use just the plain-non tf.function-converted:\n",
    "\n",
    "def padd_CW(W_T, C_TK, N_idx):\n",
    "    K = C_TK.shape[1]\n",
    "\n",
    "    ## Reshaping C_TK to C_DNmaxK and\n",
    "    #            W_T  to W_DNmax\n",
    "    C_DNmaxK_list = []\n",
    "    W_DNmax_list  = []\n",
    "    N_max = tf.reduce_max(N_idx.single_lengths)\n",
    "\n",
    "    for di in N_idx:\n",
    "        CdiK = C_TK[di, :]\n",
    "        Wdi  = W_T[di]\n",
    "        Nd   = CdiK.shape[0]\n",
    "\n",
    "        N_pad = N_max - Nd\n",
    "\n",
    "        ## C\n",
    "        pad = tf.zeros(shape=(N_pad, K), dtype=CdiK.dtype)\n",
    "        CdiK_pad = tf.concat([CdiK, pad], axis=0)\n",
    "        C_DNmaxK_list.append(CdiK_pad)\n",
    "\n",
    "        ## W\n",
    "        pad = tf.zeros(shape=(N_pad), dtype=Wdi.dtype)\n",
    "        Wdi_pad = tf.concat([Wdi, pad], axis=0)\n",
    "        W_DNmax_list.append(Wdi_pad)\n",
    "\n",
    "    C_DNmaxK = tf.stack(C_DNmaxK_list, axis=0)\n",
    "    W_DNmax  = tf.stack(W_DNmax_list, axis=0)\n",
    "\n",
    "    return W_DNmax, C_DNmaxK"
   ]
  },
  {
   "cell_type": "code",
   "execution_count": 546,
   "metadata": {},
   "outputs": [],
   "source": [
    "## Actual n-Tensor\n",
    "@tf.function\n",
    "def tf_N_tensor(W_DNmax, C_DNmaxK, V=25):\n",
    "\n",
    "    ## Extracting shapes\n",
    "    D = C_DNmaxK.shape[0]\n",
    "    N = C_DNmaxK.shape[1]\n",
    "    K = C_DNmaxK.shape[2]\n",
    "    \n",
    "    ## Preparing W-stacking by shifting all entries one \"up\" s. t. v is counted \n",
    "    #  from 1 to 25 instead from 0 to 24. This enables to collapse the \"&\" in the\n",
    "    #  set to be collapsed to a matrix product\n",
    "    Wp1 = W_DNmax + 1\n",
    "    W_stacked = tf.stack(K*[Wp1], axis=-1)    \n",
    "\n",
    "    ## Elementwise product combines logical & in condition.\n",
    "    #  Choosing int32 as product dtype for efficiency.\n",
    "    C_DNmaxK_int = tf.cast(C_DNmaxK, dtype=tf.int32)\n",
    "    C_Dot_W = tf.math.multiply(W_stacked, C_DNmaxK_int)\n",
    "\n",
    "    ## The v-dimension of N is a one-hot encoding for the vocabulary:\n",
    "    N_DNKVp1 = tf.one_hot(C_Dot_W, V+1, dtype=tf.int32)\n",
    "\n",
    "    ## Reverting the v-shift by dropping the 0 one-hot dimension\n",
    "    N_DNKV = N_DNKVp1[:, :, :, 1:]\n",
    "\n",
    "    ## Summing along v-dimension\n",
    "    assert N_DNKV.shape[1] == N\n",
    "    N_DKV = tf.reduce_sum(N_DNKV, axis=1)\n",
    "\n",
    "    ## Turn to float for gibbs sampler\n",
    "    N_DKV = tf.cast(N_DKV, dtype=tf.float32)\n",
    "\n",
    "    return N_DKV"
   ]
  },
  {
   "cell_type": "markdown",
   "metadata": {},
   "source": [
    "##### Test and Benchmark"
   ]
  },
  {
   "cell_type": "markdown",
   "metadata": {},
   "source": [
    "Padding"
   ]
  },
  {
   "cell_type": "code",
   "execution_count": 547,
   "metadata": {},
   "outputs": [],
   "source": [
    "# %timeit tf_padd_CW(W, C_TK)"
   ]
  },
  {
   "cell_type": "code",
   "execution_count": 548,
   "metadata": {},
   "outputs": [],
   "source": [
    "# %timeit padd_CW(W, C_TK, N_idx)"
   ]
  },
  {
   "cell_type": "code",
   "execution_count": 549,
   "metadata": {},
   "outputs": [
    {
     "name": "stdout",
     "output_type": "stream",
     "text": [
      "With a tf.function the padding is about a factor 15.4 more efficient, when the graph is already constructed. Yet constructing the graph takes a while.\n"
     ]
    }
   ],
   "source": [
    "print(f\"With a tf.function the padding is about a factor {round(970./63., 1)} more efficient, when the graph is already constructed. Yet constructing the graph takes a while.\")"
   ]
  },
  {
   "cell_type": "code",
   "execution_count": 550,
   "metadata": {},
   "outputs": [],
   "source": [
    "W_DNmax, C_DNmaxK = padd_CW(W_T, C_TK, N_idx)\n",
    "# tf_padd_CW = fungen_pad_CW(N_idx)\n",
    "# W_DNmax, C_DNmaxK = tf_padd_CW(W_T, C_TK)"
   ]
  },
  {
   "cell_type": "markdown",
   "metadata": {},
   "source": [
    "N-Tensor itself"
   ]
  },
  {
   "cell_type": "code",
   "execution_count": 551,
   "metadata": {},
   "outputs": [],
   "source": [
    "# %timeit tf_N_tensor(W_DNmax, C_DNmaxK)"
   ]
  },
  {
   "cell_type": "code",
   "execution_count": 552,
   "metadata": {},
   "outputs": [
    {
     "name": "stdout",
     "output_type": "stream",
     "text": [
      "The padded tf Version is about a factor 3.5 more efficient than the numpy-vectorized version.\n"
     ]
    }
   ],
   "source": [
    "print(f\"The padded tf Version is about a factor {round(129./37, 1)} more efficient than the numpy-vectorized version.\")"
   ]
  },
  {
   "cell_type": "code",
   "execution_count": 553,
   "metadata": {},
   "outputs": [
    {
     "data": {
      "text/plain": [
       "<tf.Tensor: shape=(), dtype=bool, numpy=True>"
      ]
     },
     "execution_count": 553,
     "metadata": {},
     "output_type": "execute_result"
    }
   ],
   "source": [
    "N_test3 = tf_N_tensor(W_DNmax, C_DNmaxK)\n",
    "tf.reduce_all(N_test3 == N_test2)"
   ]
  },
  {
   "cell_type": "markdown",
   "metadata": {},
   "source": [
    "### **Sampling $C$**\n",
    "\n",
    "Sampling $\\Theta$ and $\\Pi$ is not very problematic because they are just dirichlet distributed (below). Sampling $C$ is sampling from \n",
    "$$\n",
    "    p(C\\vert \\Theta, \\Pi, W)=\\prod_{d=1}^D \\prod_{i=1}^{I_d} \\frac{\\prod_{k=1}^K \\left(\\pi_{dk}\\theta_{kw_{di}}\\right)^{c_{dik}}}{\\sum_{k'=1}^K\\left(\\pi_{dk'}\\theta_{k'w_{di}}\\right)}\n",
    "$$ \n",
    "which is a categorical distribution. The dependence of $I_d$ is somewhat entangled in the $w_{di}$ index of $\\Theta_{kw_{di}}$. A fully vectorized solution without loop over $D$ therefore again needs padding.\n",
    "\n",
    "https://youtu.be/z2q7LhsnWNg?t=3878"
   ]
  },
  {
   "cell_type": "code",
   "execution_count": 554,
   "metadata": {},
   "outputs": [],
   "source": [
    "## Vectorized C-Sampling (W_DNmax must be padded!)\n",
    "@tf.function\n",
    "def sample_C(Theta, Pi, W_DNmax):\n",
    "    ## Extracting shapes\n",
    "    D = W_DNmax.shape[0]\n",
    "    N = W_DNmax.shape[1]\n",
    "    K = Pi.shape[-1]\n",
    "\n",
    "    ## Numerator\n",
    "    Theta_KDNmax = tf.gather(Theta, W_DNmax, axis=-1) \n",
    "    Pi_block = tf.stack(Theta_KDNmax.shape[2]*[tf.transpose(Pi)], axis=-1)\n",
    "    numerator = tf.math.multiply(Pi_block, Theta_KDNmax)\n",
    "    numerator = tf.reshape(numerator, (D, N, K))\n",
    "\n",
    "    ## Dividing by Denominator\n",
    "    denominator = tf.reduce_sum(numerator, axis=-1)\n",
    "    numerator = numerator / tf.expand_dims(denominator, axis=-1)\n",
    "\n",
    "    ## Sampling\n",
    "    C_DNmax_dist = tfd.Categorical(numerator)\n",
    "    C_DNmax      = C_DNmax_dist.sample()\n",
    "\n",
    "    ## One-Hot-Encoding\n",
    "    C_DNmaxK = tf.one_hot(C_DNmax, K, axis=-1)\n",
    "\n",
    "    return C_DNmaxK"
   ]
  },
  {
   "cell_type": "code",
   "execution_count": 555,
   "metadata": {},
   "outputs": [],
   "source": [
    "## Drop Padding\n",
    "#  Again using the drop-padding function as a tf.function is slow when building the graph but faster in later calls...\n",
    "@tf.function\n",
    "def drop_pad_C(C_DNmaxK, single_lengths):\n",
    "    ## Extracting shapes\n",
    "    D = C_DNmaxK.shape[0]\n",
    "    K = C_DNmaxK.shape[-1]\n",
    "\n",
    "    C_reshaped_list = []\n",
    "    for d in range(D):\n",
    "        C_reshaped_list.append(tf.reshape(C_DNmaxK[d, :single_lengths[d], :], (-1, 10)))\n",
    "\n",
    "    C_TK = tf.concat(C_reshaped_list, axis=0)\n",
    "\n",
    "    return C_TK"
   ]
  },
  {
   "cell_type": "markdown",
   "metadata": {},
   "source": [
    "#### Test"
   ]
  },
  {
   "cell_type": "code",
   "execution_count": 556,
   "metadata": {},
   "outputs": [],
   "source": [
    "## For Tets purposes: Calculate Theta_KW in loop once.\n",
    "# Theta_KW_1 = np.zeros(shape=(K, len(W)))\n",
    "\n",
    "# Theta_temp = Theta.numpy()\n",
    "# W_temp = W.numpy()\n",
    "# for k in tqdm(range(K)):\n",
    "#     for i, w in enumerate(W_temp):\n",
    "#         Theta_KW_1[k, i] = Theta[k, w]"
   ]
  },
  {
   "cell_type": "code",
   "execution_count": 557,
   "metadata": {},
   "outputs": [],
   "source": [
    "W_DNmax, C_DNmaxK = padd_CW(W_T, C_TK, N_idx) # tf_padd_CW(W_T, C_TK)\n",
    "C_DNmaxK    = sample_C(Theta, Pi, W_DNmax)\n",
    "C_TK_sample = drop_pad_C(C_DNmaxK, N_idx.single_lengths)"
   ]
  },
  {
   "cell_type": "code",
   "execution_count": 558,
   "metadata": {},
   "outputs": [],
   "source": [
    "assert drop_pad_C(C_DNmaxK, N_idx.single_lengths).shape == C_TK.shape"
   ]
  },
  {
   "cell_type": "markdown",
   "metadata": {},
   "source": [
    "### **Sampling $\\Theta$ and $\\Pi$**\n",
    "\n",
    "Sampling $\\Theta$ and $\\Pi$:\n",
    "$$\n",
    "    \\begin{align*}\n",
    "        p(\\Theta\\vert C, W) &= \\prod_{k=1}^K \\mathcal D(\\theta_k; \\ \\beta_{k:} + n_{\\cdot k:}) \\\\\n",
    "        p(\\Pi\\vert C, W)    &= \\prod_{d=1}^D \\mathcal D(\\pi_d; \\ \\alpha_{d:} + n_{d:\\cdot}) \\, .\n",
    "    \\end{align*}\n",
    "$$\n",
    "$\\Theta$ and $\\Pi$ are neither dependent on the number of words per document nor do they have an $I_d$ dimension. Therefore it is much easier to sample them:"
   ]
  },
  {
   "cell_type": "code",
   "execution_count": 559,
   "metadata": {},
   "outputs": [],
   "source": [
    "@tf.function\n",
    "def sample_Theta(N_DKV, beta):\n",
    "    dist_Theta = tfd.Dirichlet(beta + tf.reduce_sum(N_DKV, axis=0))\n",
    "    Theta      = dist_Theta.sample()\n",
    "    return Theta\n",
    "\n",
    "@tf.function\n",
    "def sample_Pi(N_DKV, alpha):\n",
    "    dist_Pi = tfd.Dirichlet(alpha + tf.reduce_sum(N_DKV, axis=-1))\n",
    "    Pi      = dist_Pi.sample()\n",
    "    return Pi"
   ]
  },
  {
   "cell_type": "markdown",
   "metadata": {},
   "source": [
    "#### Test"
   ]
  },
  {
   "cell_type": "code",
   "execution_count": 560,
   "metadata": {},
   "outputs": [],
   "source": [
    "## Random Initialization of Prior Alpha and Beta.\n",
    "#  They do not acutally matter much but could be optimized by Type II MAP or MLE.\n",
    "beta  = tf.constant(np.random.normal(size=(K, V)), dtype=tf.float32)\n",
    "alpha = tf.constant(np.random.normal(size=(D, K)), dtype=tf.float32)\n",
    "\n",
    "## Calculate one N_DKV for test purposes\n",
    "W_DNmax, C_DNmaxK = padd_CW(W_T, C_TK, N_idx)\n",
    "N_test = tf_N_tensor(W_DNmax, C_DNmaxK)"
   ]
  },
  {
   "cell_type": "code",
   "execution_count": 561,
   "metadata": {},
   "outputs": [],
   "source": [
    "test_Theta = sample_Theta(N_test, beta)\n",
    "test_Pi    = sample_Pi(N_test, alpha)\n",
    "\n",
    "assert test_Theta.shape == Theta.shape\n",
    "assert test_Pi.shape == Pi.shape"
   ]
  },
  {
   "cell_type": "markdown",
   "metadata": {},
   "source": [
    "### **Main Loop**\n",
    "\n",
    "Later: Add `@tf.function` decorator to `drop_pad_C` and replace `padd_CW` with `tf_padd_CW` in main loop."
   ]
  },
  {
   "cell_type": "code",
   "execution_count": 562,
   "metadata": {},
   "outputs": [],
   "source": [
    "N_iter = 200\n",
    "\n",
    "C_T_  = tf.constant(np.random.randint(0, 10, size=(N_idx.N_total)))\n",
    "C_TK_ = tf.one_hot(C_T_, K, axis=-1)\n",
    "\n",
    "# beta  = tf.constant(np.random.normal(size=(K, V)), dtype=tf.float32)\n",
    "# alpha = tf.constant(np.random.normal(size=(D, K)), dtype=tf.float32)\n",
    "beta  = tf.zeros(shape=(K, V), dtype=tf.float32)\n",
    "alpha = tf.zeros(shape=(D, K), dtype=tf.float32)"
   ]
  },
  {
   "cell_type": "markdown",
   "metadata": {},
   "source": [
    "Note that `W_T` and `N_idx` are fixed since they are observable from the data and do therefore not have to be initialized."
   ]
  },
  {
   "cell_type": "code",
   "execution_count": 563,
   "metadata": {},
   "outputs": [],
   "source": [
    "tf_padd_CW = fungen_pad_CW(N_idx)"
   ]
  },
  {
   "cell_type": "markdown",
   "metadata": {},
   "source": [
    "First iteration takes a while brcause of tracing of `drop_pad_C` and `tf_pad_CW`:"
   ]
  },
  {
   "cell_type": "code",
   "execution_count": 564,
   "metadata": {},
   "outputs": [
    {
     "name": "stderr",
     "output_type": "stream",
     "text": [
      "100%|██████████| 200/200 [00:44<00:00,  4.54it/s]\n"
     ]
    }
   ],
   "source": [
    "Theta_store = []\n",
    "\n",
    "for iter in tqdm(range(N_iter)):\n",
    "\n",
    "    ## Padd W_T and C_TK_ to Nmax\n",
    "    W_DNmax, C_DNmaxK = tf_padd_CW(W_T, C_TK_)\n",
    "\n",
    "    ## Calculate N_DKV_ from W_DNmax and C_DNmaxK\n",
    "    N_DKV_ = tf_N_tensor(W_DNmax, C_DNmaxK)\n",
    "    \n",
    "    ## Sample Theta_ and Pi_ from N_DKV_ and priors\n",
    "    Theta_ = sample_Theta(N_DKV_, beta)\n",
    "    Pi_    = sample_Pi(N_DKV_, alpha)\n",
    "\n",
    "    ## Sample C_DNmaxK from Theta, Pi and N_DKV_\n",
    "    C_DNmaxK = sample_C(Theta_, Pi_, W_DNmax)\n",
    "\n",
    "    ## Drop Padding from C_DNmaxK\n",
    "    C_TK_ = drop_pad_C(C_DNmaxK, N_idx.single_lengths)\n",
    "\n",
    "    Theta_store.append(Theta_)"
   ]
  },
  {
   "cell_type": "code",
   "execution_count": 565,
   "metadata": {},
   "outputs": [
    {
     "data": {
      "text/plain": [
       "<matplotlib.image.AxesImage at 0x1781be8fb50>"
      ]
     },
     "execution_count": 565,
     "metadata": {},
     "output_type": "execute_result"
    },
    {
     "data": {
      "image/png": "[encoded data removed]",
      "text/plain": [
       "<Figure size 640x480 with 1 Axes>"
      ]
     },
     "metadata": {},
     "output_type": "display_data"
    }
   ],
   "source": [
    "plt.imshow(tf.reshape(Theta_[3,:], (sqrtV, sqrtV)), cmap=\"Greys\")"
   ]
  },
  {
   "cell_type": "code",
   "execution_count": 566,
   "metadata": {},
   "outputs": [],
   "source": [
    "Theta_store = tf.stack(Theta_store, axis=-1)"
   ]
  },
  {
   "cell_type": "code",
   "execution_count": 567,
   "metadata": {},
   "outputs": [],
   "source": [
    "Theta_mean = tf.reduce_mean(Theta_store, axis=-1)"
   ]
  },
  {
   "cell_type": "code",
   "execution_count": 568,
   "metadata": {},
   "outputs": [
    {
     "data": {
      "text/plain": [
       "<matplotlib.image.AxesImage at 0x1781b625c30>"
      ]
     },
     "execution_count": 568,
     "metadata": {},
     "output_type": "execute_result"
    },
    {
     "data": {
      "image/png": "[encoded data removed]",
      "text/plain": [
       "<Figure size 640x480 with 1 Axes>"
      ]
     },
     "metadata": {},
     "output_type": "display_data"
    }
   ],
   "source": [
    "plt.imshow(tf.reshape(Theta_mean[3,:], (sqrtV, sqrtV)), cmap=\"Greys\")"
   ]
  },
  {
   "cell_type": "markdown",
   "metadata": {},
   "source": [
    "### TODO:\n",
    "\n",
    "- Maybe Dropping the Padding for C is not necessairy. Maybe just collapse and expand...\n",
    "- Split `tf_padd_CW` $\\rightarrow$ Padding $W$ is necessairy just once."
   ]
  }
 ],
 "metadata": {
  "kernelspec": {
   "display_name": "Python 3.10.4 ('tfa-gpu')",
   "language": "python",
   "name": "python3"
  },
  "language_info": {
   "codemirror_mode": {
    "name": "ipython",
    "version": 3
   },
   "file_extension": ".py",
   "mimetype": "text/x-python",
   "name": "python",
   "nbconvert_exporter": "python",
   "pygments_lexer": "ipython3",
   "version": "3.10.4"
  },
  "orig_nbformat": 4,
  "vscode": {
   "interpreter": {
    "hash": "b28dcc1f87ebe436630d7ecff3a3c61833e6c22febb81b1e7cd0d34da649d2b8"
   }
  }
 },
 "nbformat": 4,
 "nbformat_minor": 2
}
