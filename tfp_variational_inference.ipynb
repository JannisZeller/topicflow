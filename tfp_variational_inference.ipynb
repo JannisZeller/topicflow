{
 "cells": [
  {
   "cell_type": "markdown",
   "metadata": {},
   "source": [
    "# Topic Modelling with `tfp` built-in Variational Inference Methods\n",
    "\n",
    "Orientation: https://colab.research.google.com/github/tensorflow/probability/blob/main/tensorflow_probability/examples/jupyter_notebooks/Variational_Inference_and_Joint_Distributions.ipynb"
   ]
  },
  {
   "cell_type": "markdown",
   "metadata": {},
   "source": [
    "### Settings"
   ]
  },
  {
   "cell_type": "code",
   "execution_count": 118,
   "metadata": {},
   "outputs": [],
   "source": [
    "N_docs       = 300\n",
    "sqrt_N_vocab = 3\n",
    "N_words      = 50\n",
    "\n",
    "ragged   = True\n",
    "train_on = False\n",
    "\n",
    "N_topics = int(2*sqrt_N_vocab)\n",
    "N_vocab  = int(sqrt_N_vocab**2)"
   ]
  },
  {
   "cell_type": "markdown",
   "metadata": {},
   "source": [
    "### Setup"
   ]
  },
  {
   "cell_type": "code",
   "execution_count": 119,
   "metadata": {},
   "outputs": [],
   "source": [
    "import tensorflow_probability as tfp\n",
    "import tensorflow as tf\n",
    "tfd = tfp.distributions\n",
    "tfb = tfp.bijectors\n",
    "import numpy as np\n",
    "from tqdm import tqdm\n",
    "\n",
    "from timeit import timeit\n",
    "\n",
    "np.random.seed(42)\n",
    "tf.random.set_seed(42)"
   ]
  },
  {
   "cell_type": "code",
   "execution_count": 120,
   "metadata": {},
   "outputs": [],
   "source": [
    "from importlib import reload  \n",
    "\n",
    "import topicflow.utils  as tp_utils\n",
    "import topicflow.data   as tp_data\n",
    "import topicflow.models as tp_models\n",
    "\n",
    "tp_utils  = reload(tp_utils)\n",
    "tp_data   = reload(tp_data)\n",
    "tp_models = reload(tp_models)"
   ]
  },
  {
   "cell_type": "markdown",
   "metadata": {},
   "source": [
    "## Generating Data"
   ]
  },
  {
   "cell_type": "code",
   "execution_count": 121,
   "metadata": {},
   "outputs": [],
   "source": [
    "if ragged:\n",
    "    data = tp_data.squareLDDocuments(\n",
    "        N_docs=N_docs, \n",
    "        sqrt_N_vocab=sqrt_N_vocab, \n",
    "        N_words_rate=N_words)\n",
    "\n",
    "if not ragged:   \n",
    "    data = tp_data.squareLDDocuments(\n",
    "        N_docs=N_docs, \n",
    "        sqrt_N_vocab=sqrt_N_vocab, \n",
    "        N_words_fixed=N_words)\n"
   ]
  },
  {
   "cell_type": "code",
   "execution_count": 122,
   "metadata": {},
   "outputs": [],
   "source": [
    "Theta, Pi, C_DId, C_DIdK, W_DId = data.extract_params()"
   ]
  },
  {
   "cell_type": "code",
   "execution_count": 123,
   "metadata": {},
   "outputs": [
    {
     "data": {
      "image/png": "[encoded data removed]",
      "text/plain": [
       "<Figure size 900x600 with 6 Axes>"
      ]
     },
     "metadata": {},
     "output_type": "display_data"
    }
   ],
   "source": [
    "_ = tp_utils.visualize_topics(Theta, N_row=2, N_col=3)"
   ]
  },
  {
   "cell_type": "markdown",
   "metadata": {},
   "source": [
    "## Inference"
   ]
  },
  {
   "cell_type": "markdown",
   "metadata": {},
   "source": [
    "### Preprocessing the Data\n",
    "\n",
    "If the document length is variable, `tfp` methods are not properly applicable, because as of 2022-11-15 it lacks capabilities for processing `tf.RaggedTensor`'s. Thus no (joint)-distribution can be defined which samples variable-length documents. The idea is, to pad each document to the size of the longest document base on the observed frequency of each token in the document in a catrgorical-distributed manner:\n",
    "\n",
    "$$\n",
    "    X_{\\textsf{pad}}^{(j)} \\overset{\\textsf{iid}}{\\sim} \\textsf{Categorcial}\\left( \\frac{\\textsf{count}(x_i)}{\\textsf{len}(\\textsf{doc}_j)}; \\ i =1,\\dots, V \\right)\n",
    "$$\n",
    "\n",
    "This should work becaus topic models are bag-of-words models where only the (relative) frequency of token occurances matter."
   ]
  },
  {
   "cell_type": "code",
   "execution_count": 124,
   "metadata": {},
   "outputs": [],
   "source": [
    "if ragged:\n",
    "    pad_token = N_vocab + 1\n",
    "    single_doclengths = W_DId.nested_row_lengths()[0].numpy()\n",
    "    N_words = tf.reduce_max(single_doclengths)\n",
    "    N_words_mean = tf.cast(tf.reduce_mean(single_doclengths), tf.float32)\n",
    "\n",
    "    W_DId_ragged = W_DId.to_tensor(N_vocab+1).numpy()\n",
    "    W_DId = []\n",
    "\n",
    "    def pad_single_doc(doc, length, N_words_max=N_words):\n",
    "        pad_size    = N_words_max - length\n",
    "        doc_padded  = doc\n",
    "        doc         = doc[doc != pad_token]\n",
    "        idx, freq   = np.unique(doc, return_counts=True)\n",
    "        freq        = freq / np.sum(freq)\n",
    "        pad         = np.random.choice(idx, size=pad_size, p=freq)\n",
    "        doc_padded[doc_padded == pad_token] = pad\n",
    "        return doc_padded\n",
    "\n",
    "    for doc, length in zip(W_DId_ragged, single_doclengths):\n",
    "        W_DId.append(pad_single_doc(doc, length))\n",
    "    \n",
    "    W_DId = tf.constant(W_DId, dtype=tf.int32)"
   ]
  },
  {
   "cell_type": "markdown",
   "metadata": {},
   "source": [
    "### Defining the Joint\n",
    "\n",
    "Orientation was provided by https://www.tensorflow.org/probability/examples/A_Tour_of_TensorFlow_Probability. Let $V$ be the size of the vocabulary, $D$ be the number of documents, $N$ be the (maximum) document size and $K$ be the number of topics. In this toy model which provides practical visualization capabilities we have $\\sqrt{V} \\in \\mathbb N$ and $K=2*\\sqrt{V} \\in \\mathbb N$.\n",
    "\n",
    "The Joint Model then is:\n",
    "- Topic-Token prevalences (how much a topic \"likes\" a word): \n",
    "$$\n",
    "    \\Theta \\sim \\textsf{Dirichlet}(\\beta) \\qquad \\Rightarrow \\qquad \\Theta \\in \\mathbb R^{K\\times V}\\ \\ \\textsf{such that} \\ \\ \\sum_{v=1}^V \\Theta_{kv} = 1\\ \\forall \\ k\\in \\{1, \\dots K\\}\\, .\n",
    "$$\n",
    "- Document-Topic prevalences (how much a document \"likes\" a topic):\n",
    "$$\n",
    "    \\Pi \\sim \\textsf{Dirichlet}(\\alpha)  \\qquad \\Rightarrow \\qquad \\Pi     \\in \\mathbb R^{D\\times K}\\ \\ \\textsf{such that} \\ \\ \\sum_{k=1}^K \\Pi_{dk}    = 1\\ \\forall \\ d\\in \\{1, \\dots D\\}\\, .\n",
    "$$\n",
    "- Topic-word assignments in each document (iid for all $N$ words in a document):\n",
    "$$\n",
    "    C \\vert \\Pi \\sim \\textsf{Categorical}(\\Pi) \\qquad \\Rightarrow \\qquad C \\in \\mathbb N^{D\\times N}\n",
    "$$ \n",
    "- Actual words in a document: $$P(w_{di}=v \\vert c_{dik}, \\Theta) = \\prod_k \\Theta_{kv}^{c_{dik}},$$ where $c_{dik}$ is one-hot encoded. This is equivalend to $$W \\vert C, \\Theta \\sim \\textsf{Categorical}(\\texttt{tf.gather(} \\Theta, C \\texttt{)} )\\, .$$\n",
    "\n",
    "The \"$C$-step\" can be \"integrated out\" using `tfp`'s `MixtureSameFamily`-distribution-class (see for gaussian mixture model in https://www.tensorflow.org/probability/examples/Bayesian_Gaussian_Mixture_Model)."
   ]
  },
  {
   "cell_type": "code",
   "execution_count": 125,
   "metadata": {},
   "outputs": [],
   "source": [
    "## Priors:\n",
    "alphas = tf.ones((N_docs, N_topics),  dtype=tf.float32)\n",
    "betas  = tf.ones((N_topics, N_vocab), dtype=tf.float32)\n",
    "        \n",
    "## Joint\n",
    "joint = tfd.JointDistributionNamed(\n",
    "    dict(\n",
    "        Pi    = tfd.Dirichlet(alphas),\n",
    "        Theta = tfd.Dirichlet(betas),\n",
    "        W     = lambda Pi, Theta: tfd.Sample(  \n",
    "            tfd.MixtureSameFamily(\n",
    "                mixture_distribution=tfd.Categorical(\n",
    "                    probs=Pi\n",
    "                ),\n",
    "                components_distribution=tfd.Categorical(\n",
    "                    probs=Theta\n",
    "                )\n",
    "            ),\n",
    "            sample_shape=(N_words)\n",
    "        )\n",
    "    ),\n",
    "    batch_ndims=0,\n",
    "    use_vectorized_map=True\n",
    ")"
   ]
  },
  {
   "cell_type": "markdown",
   "metadata": {},
   "source": [
    "Testing the joint:"
   ]
  },
  {
   "cell_type": "code",
   "execution_count": 126,
   "metadata": {},
   "outputs": [
    {
     "name": "stdout",
     "output_type": "stream",
     "text": [
      "Sample Shape Theta: (6, 9)\n",
      "Sample Shape Pi: (300, 6)\n",
      "Sample Shape W: (300, 71)\n",
      "Log-Probability of the observed data: -41893.22265625\n"
     ]
    }
   ],
   "source": [
    "## Sampling behavior \n",
    "for key, val in joint.sample().items():\n",
    "    print(f\"Sample Shape {key}: {val.shape}\")\n",
    "\n",
    "## Log-probability of observed (possibly padded data) assuming the joint\n",
    "p = joint.log_prob(W=W_DId, Pi=Pi, Theta=Theta).numpy()\n",
    "print(f\"Log-Probability of the observed data: {p}\")"
   ]
  },
  {
   "cell_type": "code",
   "execution_count": 127,
   "metadata": {},
   "outputs": [
    {
     "name": "stdout",
     "output_type": "stream",
     "text": [
      "Presenting documents [ 20 121 211 133 123 194  65 298   3  80]\n"
     ]
    },
    {
     "data": {
      "image/png": "[encoded data removed]",
      "text/plain": [
       "<Figure size 1500x600 with 10 Axes>"
      ]
     },
     "metadata": {},
     "output_type": "display_data"
    }
   ],
   "source": [
    "## Visualize documents from the prior-joint\n",
    "_ = tp_utils.visualize_random_docs(joint.sample()['W'], sqrt_V=sqrt_N_vocab)"
   ]
  },
  {
   "cell_type": "markdown",
   "metadata": {},
   "source": [
    "### Defining the \"observed\" posterior:"
   ]
  },
  {
   "cell_type": "code",
   "execution_count": 139,
   "metadata": {},
   "outputs": [],
   "source": [
    "unnormalized_posterior = lambda Pi, Theta: joint.log_prob(W=W_DId, Pi=Pi, Theta=Theta)"
   ]
  },
  {
   "cell_type": "markdown",
   "metadata": {},
   "source": [
    "### Defining & fitting surrogate posterior ($q$)"
   ]
  },
  {
   "cell_type": "code",
   "execution_count": 267,
   "metadata": {},
   "outputs": [
    {
     "name": "stdout",
     "output_type": "stream",
     "text": [
      "tfp.distributions.JointDistributionNamed(\"JointDistributionNamed\", batch_shape=[], event_shape={Pi: [300, 6], Theta: [6, 9]}, dtype={Pi: float32, Theta: float32})\n"
     ]
    }
   ],
   "source": [
    "## Assuming Normal Posterior\n",
    "# --------------------------\n",
    "\n",
    "# ## Constraints\n",
    "# unconstraining_bijectors = {\n",
    "#     'Pi':    tfb.SoftmaxCentered(),\n",
    "#     'Theta': tfb.SoftmaxCentered()\n",
    "# }\n",
    "\n",
    "# ## Event shapes\n",
    "# event_shape={key: joint.event_shape_tensor()[key] for key in ('Pi', 'Theta')}\n",
    "\n",
    "# surrogate_posterior = tfp.experimental.vi.build_factored_surrogate_posterior(\n",
    "#     event_shape=event_shape, # Omitting W\n",
    "#     bijector=unconstraining_bijectors\n",
    "# )\n",
    "\n",
    "\n",
    "## Predefined Shape\n",
    "# -----------------\n",
    "\n",
    "## Priors:\n",
    "alphas = tf.Variable(tf.ones((N_docs,  N_topics),  dtype=tf.float32))\n",
    "betas  = tf.Variable(tf.ones((N_topics, N_vocab), dtype=tf.float32))\n",
    "\n",
    "## Shape\n",
    "# surrogate_posterior = tfd.JointDistributionSequential([\n",
    "#         tfp.experimental.util.make_trainable(\n",
    "#             tfd.Dirichlet, \n",
    "#             batch_and_event_shape=alphas.shape,\n",
    "#             name=\"Pi\"),\n",
    "#         tfp.experimental.util.make_trainable(\n",
    "#             tfd.Dirichlet, \n",
    "#             batch_and_event_shape=betas.shape,\n",
    "#             name=\"Theta\")\n",
    "#     ],\n",
    "#     batch_ndims=0,\n",
    "#     use_vectorized_map=True\n",
    "# )\n",
    "\n",
    "surrogate_posterior = tfd.JointDistributionNamed(\n",
    "    dict(\n",
    "        Pi    = tfd.Dirichlet(alphas),\n",
    "        Theta = tfd.Dirichlet(betas),\n",
    "    ),\n",
    "    batch_ndims=0,\n",
    "    use_vectorized_map=True,\n",
    ")\n",
    "\n",
    "# surrogate_posterior = tfp.experimental.util.make_trainable(surrogate_posterior)\n",
    "\n",
    "## Constraints\n",
    "# unconstraining_bijectors = tfb.JointMap([\n",
    "#     tfb.SoftmaxCentered(),\n",
    "#     tfb.SoftmaxCentered()\n",
    "# ])\n",
    "\n",
    "# surrogate_posterior = tfd.TransformedDistribution(\n",
    "#     distribution=surrogate_posterior,\n",
    "#     bijector=unconstraining_bijectors\n",
    "# )\n",
    "\n",
    "print(surrogate_posterior)"
   ]
  },
  {
   "cell_type": "code",
   "execution_count": 271,
   "metadata": {},
   "outputs": [],
   "source": [
    "losses = tfp.vi.fit_surrogate_posterior(\n",
    "    unnormalized_posterior,\n",
    "    surrogate_posterior=surrogate_posterior,\n",
    "    num_steps=200,\n",
    "    optimizer=tf.optimizers.Adam(0.01),\n",
    "    sample_size=10,\n",
    "    # jit_compile=True\n",
    ")"
   ]
  },
  {
   "cell_type": "markdown",
   "metadata": {},
   "source": [
    "### Assessing results (Surrogate Posterior approximates true Posterior)"
   ]
  },
  {
   "cell_type": "code",
   "execution_count": 272,
   "metadata": {},
   "outputs": [],
   "source": [
    "sample = surrogate_posterior.sample(100)"
   ]
  },
  {
   "cell_type": "code",
   "execution_count": 273,
   "metadata": {},
   "outputs": [
    {
     "data": {
      "image/png": "[encoded data removed]",
      "text/plain": [
       "<Figure size 900x600 with 6 Axes>"
      ]
     },
     "metadata": {},
     "output_type": "display_data"
    }
   ],
   "source": [
    "_ = tp_utils.visualize_topics(tf.reduce_mean(sample['Theta'], axis=0), N_row=2, N_col=3)\n",
    "# _ = tp_utils.visualize_topics(tf.reduce_mean(sample[1], axis=0), N_row=2, N_col=3)"
   ]
  },
  {
   "cell_type": "code",
   "execution_count": null,
   "metadata": {},
   "outputs": [],
   "source": []
  }
 ],
 "metadata": {
  "kernelspec": {
   "display_name": "Python 3.10.6 ('tfp')",
   "language": "python",
   "name": "python3"
  },
  "language_info": {
   "codemirror_mode": {
    "name": "ipython",
    "version": 3
   },
   "file_extension": ".py",
   "mimetype": "text/x-python",
   "name": "python",
   "nbconvert_exporter": "python",
   "pygments_lexer": "ipython3",
   "version": "3.10.6"
  },
  "orig_nbformat": 4,
  "vscode": {
   "interpreter": {
    "hash": "c096a2d50438765e22aa7f423218d516bef081586e89395b040e4dc554eceef1"
   }
  }
 },
 "nbformat": 4,
 "nbformat_minor": 2
}
