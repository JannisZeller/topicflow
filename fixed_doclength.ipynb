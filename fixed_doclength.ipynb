{
 "cells": [
  {
   "cell_type": "markdown",
   "metadata": {},
   "source": [
    "# Toy Model\n",
    "\n",
    "Trying toy model inspired by [Griffiths & Steyvers, 2004](https://doi.org/10.1073/pnas.0307752101)."
   ]
  },
  {
   "cell_type": "code",
   "execution_count": 227,
   "metadata": {},
   "outputs": [],
   "source": [
    "from collections.abc import Sequence\n",
    "import tensorflow_probability as tfp\n",
    "import tensorflow as tf\n",
    "tfd = tfp.distributions\n",
    "import numpy as np\n",
    "import matplotlib.pyplot as plt\n",
    "from tqdm import tqdm\n",
    "\n",
    "from timeit import timeit\n",
    "\n",
    "np.random.seed(42)\n",
    "tf.random.set_seed(42)"
   ]
  },
  {
   "cell_type": "code",
   "execution_count": 228,
   "metadata": {},
   "outputs": [],
   "source": [
    "## One hot for numpy\n",
    "def np_one_hot(targets, nb_classes):\n",
    "    res = np.eye(nb_classes)[np.array(targets).reshape(-1)]\n",
    "    return res.reshape(list(targets.shape)+[nb_classes])"
   ]
  },
  {
   "cell_type": "markdown",
   "metadata": {},
   "source": [
    "### **Sampling Behaviour of `tfp.Distributions`**"
   ]
  },
  {
   "cell_type": "code",
   "execution_count": 229,
   "metadata": {},
   "outputs": [
    {
     "name": "stdout",
     "output_type": "stream",
     "text": [
      "(2, 3)\n",
      "tf.Tensor(\n",
      "[[2 0]\n",
      " [2 0]\n",
      " [2 0]\n",
      " [2 0]], shape=(4, 2), dtype=int32)\n"
     ]
    }
   ],
   "source": [
    "## tfd.Categorical sampling behaviour:\n",
    "probs = tf.constant([[0., 0., 1.], \n",
    "                     [1., 0., 0.]])\n",
    "print(probs.shape)\n",
    "print(tfd.Categorical(probs=probs).sample(4))"
   ]
  },
  {
   "cell_type": "code",
   "execution_count": 230,
   "metadata": {},
   "outputs": [
    {
     "data": {
      "text/plain": [
       "array([[0., 0., 1.],\n",
       "       [0., 0., 0.]], dtype=float32)"
      ]
     },
     "execution_count": 230,
     "metadata": {},
     "output_type": "execute_result"
    }
   ],
   "source": [
    "## tfd.Dirichlet sampling behaviour:\n",
    "conc = tf.constant([[0.1, 0.1, 0.1], \n",
    "                    [  2.,  2.,  2.]])\n",
    "np.round(tfd.Dirichlet(concentration=conc).sample().numpy())"
   ]
  },
  {
   "cell_type": "markdown",
   "metadata": {},
   "source": [
    "$\\rightarrow$ Samples come in by row. For Categorical the sample size is flexible. For Dirichlet the sample cise is bounded to the concentrations."
   ]
  },
  {
   "cell_type": "markdown",
   "metadata": {},
   "source": [
    "## **Setting up Topics and Data**\n",
    "\n",
    "### Understand The indices in this Notebook\n",
    "\n",
    "- $K$ is the number of topics \n",
    "- $D$ is the number of documents\n",
    "- $I_d$ is the number of words in document $d$\n",
    "- $N_{\\mathrm{max}}$ is the maximum number of words per doument, i. e. $N_{\\mathrm{max}} = \\max_d \\{I_d\\}$\n",
    "- $T$ is the total number of words, i. e. $T = \\sum_d I_d$\n",
    "- $V$ is the vocabulary size which should be a square of an integer for the visualization purposes of this notebook"
   ]
  },
  {
   "cell_type": "markdown",
   "metadata": {},
   "source": [
    "### **1. Specify global parameters**"
   ]
  },
  {
   "cell_type": "code",
   "execution_count": 231,
   "metadata": {},
   "outputs": [],
   "source": [
    "sqrtV   = 5       # Square Root of the Number of \"Vocabulary\" (must be sqrt such that pictorial interpretation is possible)\n",
    "K       = 2*sqrtV # Number of Topics\n",
    "D       = 1000    # Number of documents\n",
    "N_fixed = 100     # Number of words per document\n",
    "\n",
    "V = int(sqrtV**2)"
   ]
  },
  {
   "cell_type": "markdown",
   "metadata": {},
   "source": [
    "### **2. Generating Data**"
   ]
  },
  {
   "cell_type": "code",
   "execution_count": 232,
   "metadata": {},
   "outputs": [],
   "source": [
    "def generate_LDA(D: int, K: int, sqrtV: int, N: int=100, Alpha: float=1.) -> tuple():\n",
    "    \"\"\"\n",
    "    Generates LDA-Data from the LDA generative Process. \n",
    "    Thetas get constructed as rows and columns of a quadratic sqrtV-grid.\n",
    "    \"\"\"\n",
    "  \n",
    "\n",
    "    ## Word grid\n",
    "    V = int(sqrtV**2)\n",
    "    V_grid = np.reshape(np.arange(0, V), newshape=(sqrtV, sqrtV))\n",
    "\n",
    "\n",
    "    ## Topic-Word Distribution\n",
    "    #  Words belonging to a topic are rows and columns\n",
    "    Theta_idx = [row for row in V_grid] + [col for col in V_grid.T]\n",
    "    Theta = np.zeros((K, V))\n",
    "    for k, idx in enumerate(Theta_idx):\n",
    "        Theta[k, idx] = 1. / sqrtV\n",
    "    Theta = tf.constant(Theta, dtype=tf.float32)\n",
    "\n",
    "\n",
    "    ## Document-Topic Distribution\n",
    "    dist_Pi = tfd.Dirichlet(concentration=K*[Alpha])\n",
    "    Pi      = dist_Pi.sample(D)\n",
    "\n",
    "\n",
    "    ## Topic Assignments of word c_{dik} of word w_{di}\n",
    "    dist_C_ND = tfd.Categorical(probs=Pi)\n",
    "    C_ND  = dist_C_ND.sample(N)\n",
    "    C_DN  = tf.transpose(C_ND)\n",
    "    C_DNK = tf.one_hot(C_DN, depth=K, axis=-1)\n",
    "\n",
    "\n",
    "    ## Draw words w_{di}\n",
    "    dist_W_DN = tfd.Categorical(probs=tf.gather(Theta, C_DN))\n",
    "    W_DN      = dist_W_DN.sample()\n",
    "\n",
    "\n",
    "    return Theta, Pi, C_DN, C_DNK, W_DN, N_fixed"
   ]
  },
  {
   "cell_type": "code",
   "execution_count": 233,
   "metadata": {},
   "outputs": [],
   "source": [
    "Theta, Pi, C_DN, C_DNK, W_DN, N = generate_LDA(D, K, sqrtV, N=N_fixed, Alpha=0.1)"
   ]
  },
  {
   "cell_type": "code",
   "execution_count": 234,
   "metadata": {},
   "outputs": [
    {
     "name": "stdout",
     "output_type": "stream",
     "text": [
      "Topics for the Words in Document d=11:\n",
      "tf.Tensor(\n",
      "[3 6 4 4 3 8 4 6 4 3 6 4 6 3 6 3 4 6 4 3 4 3 4 4 3 3 3 4 4 4 3 6 3 4 4 3 3\n",
      " 6 4 4 3 3 6 4 6 4 3 3 4 3 4 3 6 4 4 3 4 6 4 3 3 3 6 4 3 4 3 4 4 4 4 4 3 4\n",
      " 3 4 6 4 4 6 3 4 4 3 4 3 8 3 3 4 3 4 3 3 3 6 3 6 3 4], shape=(100,), dtype=int32)\n",
      "\n",
      "Words in Document d=11:\n",
      "tf.Tensor(\n",
      "[17 11 20 20 16 18 24  1 23 15  6 23  1 19  1 18 24 21 20 18 23 19 23 20\n",
      " 18 16 16 23 24 24 17 11 15 20 23 18 18 11 22 23 17 18 21 20 11 21 18 17\n",
      " 21 19 24 19  1 20 22 15 20  1 24 17 19 16 16 23 19 23 18 23 24 23 22 22\n",
      " 17 23 15 20 21 21 24 11 19 21 21 17 20 15  3 15 19 20 15 21 15 16 16 21\n",
      " 15 21 16 22], shape=(100,), dtype=int32)\n"
     ]
    }
   ],
   "source": [
    "print(\"Topics for the Words in Document d=11:\")\n",
    "print(C_DN[11, :])\n",
    "print(\"\\nWords in Document d=11:\")\n",
    "print(W_DN[11, :])"
   ]
  },
  {
   "cell_type": "markdown",
   "metadata": {},
   "source": [
    "### **3. Checking Shapes**"
   ]
  },
  {
   "cell_type": "code",
   "execution_count": 235,
   "metadata": {},
   "outputs": [],
   "source": [
    "## For development purposes:\n",
    "def print_all_shapes():\n",
    "    print(\"Π-Shape (D docs x K topics)\")\n",
    "    print(Pi.shape)\n",
    "    print(\"\\nΘ-Shape (K topic x V vocab)\")\n",
    "    print(Theta.shape)\n",
    "    print(\"\\nC_DN-Shape (Topic for each word T=sum_d I_d)\")\n",
    "    print(C_DN.shape)\n",
    "    print(\"\\nC_DNK-Shape (one-hot for each topic k in {1, K})\")\n",
    "    print(C_DNK.shape)\n",
    "    print(\"\\nW_DN-Shape (sum_d I_d words)\")\n",
    "    print(W_DN.shape)"
   ]
  },
  {
   "cell_type": "code",
   "execution_count": 236,
   "metadata": {},
   "outputs": [
    {
     "name": "stdout",
     "output_type": "stream",
     "text": [
      "Π-Shape (D docs x K topics)\n",
      "(1000, 10)\n",
      "\n",
      "Θ-Shape (K topic x V vocab)\n",
      "(10, 25)\n",
      "\n",
      "C_DN-Shape (Topic for each word T=sum_d I_d)\n",
      "(1000, 100)\n",
      "\n",
      "C_DNK-Shape (one-hot for each topic k in {1, K})\n",
      "(1000, 100, 10)\n",
      "\n",
      "W_DN-Shape (sum_d I_d words)\n",
      "(1000, 100)\n"
     ]
    }
   ],
   "source": [
    "print_all_shapes()"
   ]
  },
  {
   "cell_type": "markdown",
   "metadata": {},
   "source": [
    "## **Visualization**"
   ]
  },
  {
   "cell_type": "code",
   "execution_count": 237,
   "metadata": {},
   "outputs": [],
   "source": [
    "def format_to_img(arr, sqrtV=sqrtV):\n",
    "    vals = dict(zip(*np.unique(arr, return_counts=True)))\n",
    "    img = []\n",
    "\n",
    "    for i in range(int(sqrtV**2)):\n",
    "        if i in vals:\n",
    "            img.append(vals[i])\n",
    "        else:\n",
    "            img.append(0)\n",
    "\n",
    "    img = np.array(img).reshape(sqrtV, sqrtV)\n",
    "\n",
    "    return img"
   ]
  },
  {
   "cell_type": "code",
   "execution_count": 238,
   "metadata": {},
   "outputs": [
    {
     "name": "stdout",
     "output_type": "stream",
     "text": [
      "tf.Tensor(\n",
      "[6.1480580e-03 8.0593541e-02 3.1065012e-04 6.2264545e-09 1.5178669e-13\n",
      " 2.3717478e-02 1.8988621e-03 6.0282439e-01 1.2861227e-07 2.8450683e-01], shape=(10,), dtype=float32)\n"
     ]
    },
    {
     "data": {
      "image/png": "[encoded data removed]",
      "text/plain": [
       "<Figure size 640x480 with 1 Axes>"
      ]
     },
     "metadata": {},
     "output_type": "display_data"
    }
   ],
   "source": [
    "d = 100\n",
    "print(Pi[d, :])\n",
    "plt.figure()\n",
    "plt.imshow(format_to_img(W_DN[d, :]), cmap=\"Greys\")\n",
    "plt.show()"
   ]
  },
  {
   "cell_type": "code",
   "execution_count": 239,
   "metadata": {},
   "outputs": [
    {
     "data": {
      "text/plain": [
       "<matplotlib.image.AxesImage at 0x238702339d0>"
      ]
     },
     "execution_count": 239,
     "metadata": {},
     "output_type": "execute_result"
    },
    {
     "data": {
      "image/png": "[encoded data removed]",
      "text/plain": [
       "<Figure size 640x480 with 1 Axes>"
      ]
     },
     "metadata": {},
     "output_type": "display_data"
    }
   ],
   "source": [
    "plt.imshow(tf.reshape(Theta[0,:], (sqrtV, sqrtV)), cmap=\"Greys\")"
   ]
  },
  {
   "cell_type": "markdown",
   "metadata": {},
   "source": [
    "## **Toy Document**"
   ]
  },
  {
   "cell_type": "code",
   "execution_count": 240,
   "metadata": {},
   "outputs": [],
   "source": [
    "## Fixing single Pi\n",
    "Pi0 = tf.constant([0., 0., 0., 1., 0., 0., 0., 0., 0., 0.])\n",
    "\n",
    "## Sampling single C\n",
    "dist_C_N = tfd.Categorical(probs=Pi0)\n",
    "C_N      = dist_C_N.sample(N)\n",
    "C_0N     = tf.expand_dims(C_N, axis=0)\n",
    "C_NK     = tf.one_hot(C_N, V, axis=-1)\n",
    "C_0NK    = tf.expand_dims(C_NK, axis=0)\n",
    "\n",
    "## Draw words for this single C\n",
    "dist_W_0N = tfd.Categorical(probs=tf.gather(Theta, C_0N))\n",
    "W_0N      = dist_W_0N.sample()"
   ]
  },
  {
   "cell_type": "code",
   "execution_count": 241,
   "metadata": {},
   "outputs": [
    {
     "data": {
      "text/plain": [
       "<tf.Tensor: shape=(1, 100), dtype=int32, numpy=\n",
       "array([[17, 16, 19, 19, 17, 19, 19, 15, 19, 16, 15, 16, 19, 17, 18, 17,\n",
       "        18, 19, 16, 16, 18, 19, 18, 19, 15, 16, 19, 19, 15, 18, 15, 16,\n",
       "        18, 16, 19, 18, 19, 19, 18, 15, 19, 17, 17, 17, 15, 17, 17, 15,\n",
       "        15, 15, 18, 15, 16, 19, 16, 18, 19, 16, 19, 16, 19, 18, 18, 19,\n",
       "        17, 19, 17, 17, 17, 19, 17, 15, 18, 16, 16, 15, 19, 18, 18, 17,\n",
       "        19, 19, 15, 16, 15, 17, 19, 15, 16, 19, 18, 15, 17, 19, 15, 15,\n",
       "        18, 19, 16, 16]])>"
      ]
     },
     "execution_count": 241,
     "metadata": {},
     "output_type": "execute_result"
    }
   ],
   "source": [
    "W_0N"
   ]
  },
  {
   "cell_type": "code",
   "execution_count": 242,
   "metadata": {},
   "outputs": [
    {
     "data": {
      "text/plain": [
       "<matplotlib.image.AxesImage at 0x238703de380>"
      ]
     },
     "execution_count": 242,
     "metadata": {},
     "output_type": "execute_result"
    },
    {
     "data": {
      "image/png": "[encoded data removed]",
      "text/plain": [
       "<Figure size 640x480 with 1 Axes>"
      ]
     },
     "metadata": {},
     "output_type": "display_data"
    }
   ],
   "source": [
    "plt.imshow(format_to_img(W_0N, sqrtV=sqrtV), cmap=\"Greys\")"
   ]
  },
  {
   "cell_type": "markdown",
   "metadata": {},
   "source": [
    "## **Gibbs Sampler**"
   ]
  },
  {
   "cell_type": "markdown",
   "metadata": {},
   "source": [
    "### **N-Tensor**\n",
    "One efficiency crtitical step is to vectorize \n",
    "$$\n",
    "    n_{dkv} =  \\{i \\, \\vert \\, w_{di} == v \\ \\& \\ c_{idk} ==1\\}\n",
    "$$\n",
    "as much as possible. Due to the fact, that the document lengths are variable there is the choice between looping over the number of documents or padding the documents to a unique length. The padding does not need a word-token, it can be done by padding the $C$ matrix with $0$, therefore it will not affect $N$. Then the counting can be realized by stacking $W$ $K$ times along the last axis to match the shape of $C$."
   ]
  },
  {
   "cell_type": "markdown",
   "metadata": {},
   "source": [
    "#### 1. Multiloop over all Dimensions\n",
    "\n",
    "Mainly for test purposes. Horribly slow."
   ]
  },
  {
   "cell_type": "code",
   "execution_count": 243,
   "metadata": {},
   "outputs": [],
   "source": [
    "def multiloop_N_tensor(W_DN, C_DNK, V=V):\n",
    "\n",
    "    ## Extracting shapes\n",
    "    D = C_DNK.shape[0]\n",
    "    N = C_DNK.shape[1]\n",
    "    K = C_DNK.shape[2]\n",
    "\n",
    "    ## To Numpy\n",
    "    W_DN  = W_DN.numpy()\n",
    "    C_DNK = C_DNK.numpy()\n",
    "    N_DKV = np.zeros(shape=(D, K, V))\n",
    "    \n",
    "    for d in tqdm(range(D)):\n",
    "        for k in range(K):\n",
    "            for v in range(V):\n",
    "                for i in range(N):\n",
    "                    if W_DN[d, i] == v and C_DNK[d, i, k] == 1:\n",
    "                        N_DKV[d, k, v] += 1\n",
    "\n",
    "    return N_DKV"
   ]
  },
  {
   "cell_type": "code",
   "execution_count": 244,
   "metadata": {},
   "outputs": [],
   "source": [
    "# N_test1 = multiloop_N_tensor(W_DN, C_DNK, V=V)"
   ]
  },
  {
   "cell_type": "markdown",
   "metadata": {},
   "source": [
    "#### 2. Vectorized using `tf`"
   ]
  },
  {
   "cell_type": "code",
   "execution_count": 245,
   "metadata": {},
   "outputs": [],
   "source": [
    "## Actual n-Tensor\n",
    "@tf.function\n",
    "def tf_N_tensor(W_DN, C_DNK, V=V):\n",
    "\n",
    "    ## Extracting shapes\n",
    "    D = C_DNK.shape[0]\n",
    "    N = C_DNK.shape[1]\n",
    "    K = C_DNK.shape[2]\n",
    "    \n",
    "    ## Preparing W-stacking by shifting all entries one \"up\" s. t. v is counted \n",
    "    #  from 1 to V+1 instead from 0 to V. This enables to collapse the \"&\" in the\n",
    "    #  set to be collapsed to a matrix product\n",
    "    Wp1 = W_DN + 1\n",
    "    W_stacked = tf.stack(K*[Wp1], axis=-1)    \n",
    "\n",
    "    ## Elementwise product combines logical & in condition.\n",
    "    #  Choosing int32 as product dtype for efficiency.\n",
    "    C_DNK_int = tf.cast(C_DNK, dtype=tf.int32)\n",
    "    C_Dot_W = tf.math.multiply(W_stacked, C_DNK_int)\n",
    "\n",
    "    ## The v-dimension of N is a one-hot encoding for the vocabulary:\n",
    "    N_DNKVp1 = tf.one_hot(C_Dot_W, V+1, dtype=tf.int32)\n",
    "\n",
    "    ## Reverting the v-shift by dropping the 0 one-hot dimension\n",
    "    N_DNKV = N_DNKVp1[:, :, :, 1:]\n",
    "\n",
    "    ## Summing along v-dimension\n",
    "    assert N_DNKV.shape[1] == N\n",
    "    N_DKV = tf.reduce_sum(N_DNKV, axis=1)\n",
    "\n",
    "    ## Turn to float for gibbs sampler\n",
    "    N_DKV = tf.cast(N_DKV, dtype=tf.float32)\n",
    "\n",
    "    return N_DKV"
   ]
  },
  {
   "cell_type": "code",
   "execution_count": 246,
   "metadata": {},
   "outputs": [],
   "source": [
    "N_test2 = tf_N_tensor(W_DN, C_DNK)"
   ]
  },
  {
   "cell_type": "markdown",
   "metadata": {},
   "source": [
    "### **Sampling $C$**\n",
    "\n",
    "Sampling $\\Theta$ and $\\Pi$ is not very problematic because they are just dirichlet distributed (below). Sampling $C$ is sampling from \n",
    "$$\n",
    "    p(C\\vert \\Theta, \\Pi, W)=\\prod_{d=1}^D \\prod_{i=1}^{N} \\frac{\\prod_{k=1}^K \\left(\\pi_{dk}\\theta_{kw_{di}}\\right)^{c_{dik}}}{\\sum_{k'=1}^K\\left(\\pi_{dk'}\\theta_{k'w_{di}}\\right)}\n",
    "$$ \n",
    "which is a categorical distribution. \n",
    "\n",
    "https://youtu.be/z2q7LhsnWNg?t=3878"
   ]
  },
  {
   "cell_type": "code",
   "execution_count": 247,
   "metadata": {},
   "outputs": [],
   "source": [
    "## Vectorized C-Sampling\n",
    "@tf.function\n",
    "def sample_C(Theta, Pi, W_DN):\n",
    "    ## Extracting shapes\n",
    "    D = W_DN.shape[0]\n",
    "    N = W_DN.shape[1]\n",
    "    K = Pi.shape[-1]\n",
    "\n",
    "    ## Numerator\n",
    "    Theta_KDN = tf.gather(Theta, W_DN, axis=-1) \n",
    "    Pi_block  = tf.stack(N * [tf.transpose(Pi)], axis=-1)\n",
    "    numerator = tf.math.multiply(Pi_block, Theta_KDN)\n",
    "    numerator = tf.reshape(numerator, (D, N, K))\n",
    "\n",
    "    ## Dividing by Denominator\n",
    "    denominator = tf.reduce_sum(numerator, axis=-1)\n",
    "    numerator = numerator / tf.expand_dims(denominator, axis=-1)\n",
    "\n",
    "    ## Sampling\n",
    "    C_DN_dist = tfd.Categorical(probs=numerator)\n",
    "    C_DN      = C_DN_dist.sample()\n",
    "\n",
    "    ## One-Hot-Encoding\n",
    "    C_DNK = tf.one_hot(C_DN, K, axis=-1)\n",
    "\n",
    "    return C_DNK"
   ]
  },
  {
   "cell_type": "code",
   "execution_count": 248,
   "metadata": {},
   "outputs": [
    {
     "data": {
      "text/plain": [
       "<tf.Tensor: shape=(1000, 100, 10), dtype=float32, numpy=\n",
       "array([[[0., 0., 0., ..., 1., 0., 0.],\n",
       "        [0., 0., 0., ..., 0., 0., 1.],\n",
       "        [0., 0., 0., ..., 0., 0., 0.],\n",
       "        ...,\n",
       "        [0., 0., 0., ..., 0., 0., 0.],\n",
       "        [0., 0., 0., ..., 0., 0., 0.],\n",
       "        [0., 0., 0., ..., 0., 0., 1.]],\n",
       "\n",
       "       [[0., 0., 0., ..., 0., 0., 0.],\n",
       "        [1., 0., 0., ..., 0., 0., 0.],\n",
       "        [0., 0., 0., ..., 0., 0., 0.],\n",
       "        ...,\n",
       "        [0., 0., 0., ..., 0., 0., 0.],\n",
       "        [0., 0., 0., ..., 0., 0., 0.],\n",
       "        [0., 0., 0., ..., 0., 0., 0.]],\n",
       "\n",
       "       [[0., 0., 1., ..., 0., 0., 0.],\n",
       "        [0., 0., 0., ..., 1., 0., 0.],\n",
       "        [0., 0., 0., ..., 1., 0., 0.],\n",
       "        ...,\n",
       "        [0., 0., 0., ..., 0., 0., 1.],\n",
       "        [0., 0., 0., ..., 0., 1., 0.],\n",
       "        [0., 0., 0., ..., 0., 0., 0.]],\n",
       "\n",
       "       ...,\n",
       "\n",
       "       [[0., 0., 0., ..., 1., 0., 0.],\n",
       "        [0., 0., 0., ..., 0., 0., 0.],\n",
       "        [0., 0., 0., ..., 0., 0., 0.],\n",
       "        ...,\n",
       "        [0., 0., 0., ..., 0., 0., 0.],\n",
       "        [0., 0., 0., ..., 0., 1., 0.],\n",
       "        [0., 0., 0., ..., 0., 0., 0.]],\n",
       "\n",
       "       [[0., 0., 0., ..., 0., 0., 0.],\n",
       "        [1., 0., 0., ..., 0., 0., 0.],\n",
       "        [0., 0., 0., ..., 0., 0., 0.],\n",
       "        ...,\n",
       "        [0., 0., 0., ..., 1., 0., 0.],\n",
       "        [0., 0., 0., ..., 0., 0., 0.],\n",
       "        [0., 0., 0., ..., 0., 0., 0.]],\n",
       "\n",
       "       [[0., 0., 0., ..., 0., 0., 0.],\n",
       "        [0., 0., 0., ..., 0., 0., 0.],\n",
       "        [0., 0., 0., ..., 0., 0., 0.],\n",
       "        ...,\n",
       "        [0., 0., 0., ..., 1., 0., 0.],\n",
       "        [0., 0., 0., ..., 0., 0., 1.],\n",
       "        [1., 0., 0., ..., 0., 0., 0.]]], dtype=float32)>"
      ]
     },
     "execution_count": 248,
     "metadata": {},
     "output_type": "execute_result"
    }
   ],
   "source": [
    "sample_C(Theta, Pi, W_DN)"
   ]
  },
  {
   "cell_type": "markdown",
   "metadata": {},
   "source": [
    "### **Sampling $\\Theta$ and $\\Pi$**\n",
    "\n",
    "Sampling $\\Theta$ and $\\Pi$:\n",
    "$$\n",
    "    \\begin{align*}\n",
    "        p(\\Theta\\vert C, W) &= \\prod_{k=1}^K \\mathcal D(\\theta_k; \\ \\beta_{k:} + n_{\\cdot k:}) \\\\\n",
    "        p(\\Pi\\vert C, W)    &= \\prod_{d=1}^D \\mathcal D(\\pi_d; \\ \\alpha_{d:} + n_{d:\\cdot}) \\, .\n",
    "    \\end{align*}\n",
    "$$\n",
    "$\\Theta$ and $\\Pi$ are neither dependent on the number of words per document nor do they have an $I_d$ dimension. Therefore it is much easier to sample them:"
   ]
  },
  {
   "cell_type": "code",
   "execution_count": 249,
   "metadata": {},
   "outputs": [
    {
     "data": {
      "text/plain": [
       "array([[0. , 1. , 0. ],\n",
       "       [0.1, 0.5, 0.4]], dtype=float32)"
      ]
     },
     "execution_count": 249,
     "metadata": {},
     "output_type": "execute_result"
    }
   ],
   "source": [
    "## tfd.Dirichlet sampling behaviour:\n",
    "conc = tf.constant([[0.1, 0.1, 0.1], \n",
    "                    [  2.,  2.,  2.]])\n",
    "np.round(tfd.Dirichlet(concentration=conc).sample().numpy(), 1)"
   ]
  },
  {
   "cell_type": "code",
   "execution_count": 250,
   "metadata": {},
   "outputs": [],
   "source": [
    "@tf.function\n",
    "def sample_Theta(N_DKV, beta):\n",
    "    conc = beta + tf.reduce_sum(N_DKV, axis=0)\n",
    "    dist_Theta = tfd.Dirichlet(concentration=conc)\n",
    "    Theta      = dist_Theta.sample()\n",
    "    return Theta\n",
    "\n",
    "@tf.function\n",
    "def sample_Pi(N_DKV, alpha):\n",
    "    conc = alpha + tf.reduce_sum(N_DKV, axis=-1)\n",
    "    dist_Pi = tfd.Dirichlet(concentration=conc)\n",
    "    Pi      = dist_Pi.sample()\n",
    "    return Pi"
   ]
  },
  {
   "cell_type": "code",
   "execution_count": 251,
   "metadata": {},
   "outputs": [],
   "source": [
    "## Random Initialization of Prior Alpha and Beta.\n",
    "#  They do not acutally matter much but could be optimized by Type II MAP or MLE.\n",
    "beta  = tf.constant(np.random.normal(size=(K, V)), dtype=tf.float32)\n",
    "alpha = tf.constant(np.random.normal(size=(D, K)), dtype=tf.float32)\n",
    "\n",
    "## Calculate one N_DKV for test purposes\n",
    "N_test = tf_N_tensor(W_DN, C_DNK)"
   ]
  },
  {
   "cell_type": "code",
   "execution_count": 258,
   "metadata": {},
   "outputs": [
    {
     "data": {
      "text/plain": [
       "<tf.Tensor: shape=(1000, 10, 25), dtype=float32, numpy=\n",
       "array([[[ 0.,  0.,  0., ...,  0.,  0.,  0.],\n",
       "        [ 0.,  0.,  0., ...,  0.,  0.,  0.],\n",
       "        [ 0.,  0.,  0., ...,  0.,  0.,  0.],\n",
       "        ...,\n",
       "        [ 0.,  0.,  0., ...,  0.,  0.,  0.],\n",
       "        [ 0.,  0.,  0., ...,  0.,  0.,  0.],\n",
       "        [ 0.,  0.,  0., ...,  0.,  0.,  0.]],\n",
       "\n",
       "       [[ 0.,  0.,  0., ...,  0.,  0.,  0.],\n",
       "        [ 0.,  0.,  0., ...,  0.,  0.,  0.],\n",
       "        [ 0.,  0.,  0., ...,  0.,  0.,  0.],\n",
       "        ...,\n",
       "        [ 0.,  0.,  0., ...,  0.,  0.,  0.],\n",
       "        [ 0.,  0.,  0., ...,  0.,  0.,  0.],\n",
       "        [ 0.,  0.,  0., ...,  0.,  0.,  0.]],\n",
       "\n",
       "       [[ 7.,  8.,  2., ...,  0.,  0.,  0.],\n",
       "        [ 0.,  0.,  0., ...,  0.,  0.,  0.],\n",
       "        [ 0.,  0.,  0., ...,  0.,  0.,  0.],\n",
       "        ...,\n",
       "        [ 0.,  0.,  0., ...,  0.,  0.,  0.],\n",
       "        [ 0.,  0.,  0., ...,  0.,  0.,  0.],\n",
       "        [ 0.,  0.,  0., ...,  0.,  0.,  0.]],\n",
       "\n",
       "       ...,\n",
       "\n",
       "       [[ 5.,  3.,  2., ...,  0.,  0.,  0.],\n",
       "        [ 0.,  0.,  0., ...,  0.,  0.,  0.],\n",
       "        [ 0.,  0.,  0., ...,  0.,  0.,  0.],\n",
       "        ...,\n",
       "        [ 0.,  0.,  5., ...,  9.,  0.,  0.],\n",
       "        [ 0.,  0.,  0., ...,  0.,  6.,  0.],\n",
       "        [ 0.,  0.,  0., ...,  0.,  0.,  0.]],\n",
       "\n",
       "       [[ 0.,  0.,  0., ...,  0.,  0.,  0.],\n",
       "        [ 0.,  0.,  0., ...,  0.,  0.,  0.],\n",
       "        [ 0.,  0.,  0., ...,  0.,  0.,  0.],\n",
       "        ...,\n",
       "        [ 0.,  0.,  0., ...,  0.,  0.,  0.],\n",
       "        [ 0.,  0.,  0., ...,  0.,  0.,  0.],\n",
       "        [ 0.,  0.,  0., ...,  0.,  0.,  0.]],\n",
       "\n",
       "       [[ 0.,  0.,  0., ...,  0.,  0.,  0.],\n",
       "        [ 0.,  0.,  0., ...,  0.,  0.,  0.],\n",
       "        [ 0.,  0.,  0., ...,  0.,  0.,  0.],\n",
       "        ...,\n",
       "        [ 0.,  0.,  0., ...,  0.,  0.,  0.],\n",
       "        [ 0.,  0.,  0., ...,  0.,  0.,  0.],\n",
       "        [ 0.,  0.,  0., ...,  0.,  0., 19.]]], dtype=float32)>"
      ]
     },
     "execution_count": 258,
     "metadata": {},
     "output_type": "execute_result"
    }
   ],
   "source": [
    "N_test"
   ]
  },
  {
   "cell_type": "code",
   "execution_count": 252,
   "metadata": {},
   "outputs": [
    {
     "data": {
      "text/plain": [
       "<tf.Tensor: shape=(1000, 10), dtype=float32, numpy=\n",
       "array([[-1.2608839e+00,  9.1786194e-01,  9.1221561e+00, ...,\n",
       "        -7.0766944e-01,  4.4381943e-01,  7.7463406e-01],\n",
       "       [-9.2693049e-01,  2.1940475e+01, -3.2412674e+00, ...,\n",
       "        -4.3014133e-01, -4.4004449e-01,  1.3074058e-01],\n",
       "       [ 4.0441273e+01,  4.5564137e+01,  4.1631637e+00, ...,\n",
       "        -6.0021687e-01,  6.9802083e-02, -3.8531360e-01],\n",
       "       ...,\n",
       "       [ 1.6316175e+01, -1.9856919e-01, -2.0614054e+00, ...,\n",
       "         3.7086761e+01,  3.6467163e+01, -8.1926644e-01],\n",
       "       [ 9.5538855e-01,  4.2802467e+01, -8.9381641e-01, ...,\n",
       "        -1.8487675e-01, -1.5057478e+00,  8.3994454e-01],\n",
       "       [ 1.6857017e+00,  3.5375768e-01, -4.7855428e-01, ...,\n",
       "         6.3141859e-01,  7.9906809e-01,  9.7006134e+01]], dtype=float32)>"
      ]
     },
     "execution_count": 252,
     "metadata": {},
     "output_type": "execute_result"
    }
   ],
   "source": [
    "(alpha+tf.reduce_sum(N_test, axis=-1))"
   ]
  },
  {
   "cell_type": "code",
   "execution_count": 253,
   "metadata": {},
   "outputs": [],
   "source": [
    "test_Theta = sample_Theta(N_test, beta)\n",
    "test_Pi    = sample_Pi(N_test, alpha)\n",
    "\n",
    "assert test_Theta.shape == Theta.shape\n",
    "assert test_Pi.shape == Pi.shape"
   ]
  },
  {
   "cell_type": "markdown",
   "metadata": {},
   "source": [
    "### **Main Loop**"
   ]
  },
  {
   "cell_type": "code",
   "execution_count": 254,
   "metadata": {},
   "outputs": [],
   "source": [
    "N_iter = 200\n",
    "\n",
    "C_DN_  = tf.constant(np.random.randint(0, 10, size=W_DN.shape))\n",
    "C_DNK_ = tf.one_hot(C_DN_, K, axis=-1)\n",
    "\n",
    "# beta  = tf.constant(np.random.normal(size=(K, V)), dtype=tf.float32)\n",
    "# alpha = tf.constant(np.random.normal(size=(D, K)), dtype=tf.float32)\n",
    "beta  = tf.ones(shape=(K, V), dtype=tf.float32)\n",
    "alpha = tf.ones(shape=(D, K), dtype=tf.float32)"
   ]
  },
  {
   "cell_type": "markdown",
   "metadata": {},
   "source": [
    "Note that `W_DN` and `N` are fixed since they are observable from the data and do therefore not have to be initialized."
   ]
  },
  {
   "cell_type": "code",
   "execution_count": 255,
   "metadata": {},
   "outputs": [
    {
     "name": "stderr",
     "output_type": "stream",
     "text": [
      "100%|██████████| 200/200 [00:08<00:00, 24.28it/s]\n"
     ]
    }
   ],
   "source": [
    "Theta_store = []\n",
    "\n",
    "for iter in tqdm(range(N_iter)):\n",
    "\n",
    "    ## Calculate N_DKV_ from W_DN and C_DNK_\n",
    "    N_DKV_ = tf_N_tensor(W_DN, C_DNK_)\n",
    "    \n",
    "    ## Sample Theta_ and Pi_ from N_DKV_ and priors\n",
    "    Theta_ = sample_Theta(N_DKV_, beta)\n",
    "    Pi_    = sample_Pi(N_DKV_, alpha)\n",
    "\n",
    "    ## Sample next C_DNK_ from Theta, Pi\n",
    "    C_DNK_ = sample_C(Theta_, Pi_, W_DN)\n",
    "\n",
    "    Theta_store.append(Theta_)"
   ]
  },
  {
   "cell_type": "code",
   "execution_count": 256,
   "metadata": {},
   "outputs": [
    {
     "data": {
      "text/plain": [
       "<matplotlib.image.AxesImage at 0x23870437580>"
      ]
     },
     "execution_count": 256,
     "metadata": {},
     "output_type": "execute_result"
    },
    {
     "data": {
      "image/png": "[encoded data removed]",
      "text/plain": [
       "<Figure size 640x480 with 1 Axes>"
      ]
     },
     "metadata": {},
     "output_type": "display_data"
    }
   ],
   "source": [
    "plt.imshow(tf.reshape(Theta_[6,:], (sqrtV, sqrtV)), cmap=\"Greys\")"
   ]
  },
  {
   "cell_type": "code",
   "execution_count": 257,
   "metadata": {},
   "outputs": [
    {
     "data": {
      "text/plain": [
       "<matplotlib.image.AxesImage at 0x238704952d0>"
      ]
     },
     "execution_count": 257,
     "metadata": {},
     "output_type": "execute_result"
    },
    {
     "data": {
      "image/png": "[encoded data removed]",
      "text/plain": [
       "<Figure size 640x480 with 1 Axes>"
      ]
     },
     "metadata": {},
     "output_type": "display_data"
    }
   ],
   "source": [
    "Theta_stack = tf.stack(Theta_store, axis=-1)\n",
    "Theta_mean = tf.reduce_mean(Theta_stack, axis=-1)\n",
    "plt.imshow(tf.reshape(Theta_mean[2,:], (sqrtV, sqrtV)), cmap=\"Greys\")"
   ]
  },
  {
   "cell_type": "code",
   "execution_count": null,
   "metadata": {},
   "outputs": [],
   "source": []
  }
 ],
 "metadata": {
  "kernelspec": {
   "display_name": "Python 3.10.4 ('tfa-gpu')",
   "language": "python",
   "name": "python3"
  },
  "language_info": {
   "codemirror_mode": {
    "name": "ipython",
    "version": 3
   },
   "file_extension": ".py",
   "mimetype": "text/x-python",
   "name": "python",
   "nbconvert_exporter": "python",
   "pygments_lexer": "ipython3",
   "version": "3.10.4"
  },
  "orig_nbformat": 4,
  "vscode": {
   "interpreter": {
    "hash": "b28dcc1f87ebe436630d7ecff3a3c61833e6c22febb81b1e7cd0d34da649d2b8"
   }
  }
 },
 "nbformat": 4,
 "nbformat_minor": 2
}
