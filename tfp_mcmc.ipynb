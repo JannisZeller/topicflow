{
 "cells": [
  {
   "cell_type": "markdown",
   "metadata": {},
   "source": [
    "# Topic Modelling with `tfp` built-in Markov-Chain-Monte-Carlo (HMC) Methods"
   ]
  },
  {
   "cell_type": "markdown",
   "metadata": {},
   "source": [
    "### Settings"
   ]
  },
  {
   "cell_type": "code",
   "execution_count": 1,
   "metadata": {},
   "outputs": [],
   "source": [
    "N_docs       = 300\n",
    "sqrt_N_vocab = 3\n",
    "N_words      = 50\n",
    "\n",
    "## Variable Document Lengths?\n",
    "ragged   = True\n",
    "## Train again after first run?\n",
    "train_on = False\n",
    "## Use autobatched joint?\n",
    "auto_batched = False\n",
    "\n",
    "N_topics = int(2*sqrt_N_vocab)\n",
    "N_vocab  = int(sqrt_N_vocab**2)"
   ]
  },
  {
   "cell_type": "markdown",
   "metadata": {},
   "source": [
    "### Setup"
   ]
  },
  {
   "cell_type": "code",
   "execution_count": 2,
   "metadata": {},
   "outputs": [],
   "source": [
    "import tensorflow_probability as tfp\n",
    "import tensorflow as tf\n",
    "tfd = tfp.distributions\n",
    "tfb = tfp.bijectors\n",
    "import numpy as np\n",
    "import seaborn as sns\n",
    "from tqdm import tqdm\n",
    "\n",
    "from timeit import timeit\n",
    "\n",
    "np.random.seed(42)\n",
    "tf.random.set_seed(42)"
   ]
  },
  {
   "cell_type": "code",
   "execution_count": 3,
   "metadata": {},
   "outputs": [],
   "source": [
    "from importlib import reload  \n",
    "\n",
    "import topicflow.utils  as tp_utils\n",
    "import topicflow.data   as tp_data\n",
    "import topicflow.models as tp_models\n",
    "\n",
    "tp_utils  = reload(tp_utils)\n",
    "tp_data   = reload(tp_data)\n",
    "tp_models = reload(tp_models)"
   ]
  },
  {
   "cell_type": "markdown",
   "metadata": {},
   "source": [
    "### Generating Data"
   ]
  },
  {
   "cell_type": "code",
   "execution_count": 4,
   "metadata": {},
   "outputs": [],
   "source": [
    "if ragged:\n",
    "    data = tp_data.squareLDDocuments(\n",
    "        N_docs=N_docs, \n",
    "        sqrt_N_vocab=sqrt_N_vocab, \n",
    "        N_words_rate=N_words)\n",
    "\n",
    "if not ragged:   \n",
    "    data = tp_data.squareLDDocuments(\n",
    "        N_docs=N_docs, \n",
    "        sqrt_N_vocab=sqrt_N_vocab, \n",
    "        N_words_fixed=N_words)\n"
   ]
  },
  {
   "cell_type": "code",
   "execution_count": 5,
   "metadata": {},
   "outputs": [],
   "source": [
    "Theta, Pi, C_DId, C_DIdK, W_DId = data.extract_params()"
   ]
  },
  {
   "cell_type": "code",
   "execution_count": 6,
   "metadata": {},
   "outputs": [
    {
     "data": {
      "image/png": "[encoded data removed]",
      "text/plain": [
       "<Figure size 900x600 with 6 Axes>"
      ]
     },
     "metadata": {},
     "output_type": "display_data"
    }
   ],
   "source": [
    "_ = tp_utils.visualize_topics(Theta, N_row=2, N_col=3)"
   ]
  },
  {
   "cell_type": "markdown",
   "metadata": {},
   "source": [
    "## Inference"
   ]
  },
  {
   "cell_type": "markdown",
   "metadata": {},
   "source": [
    "### Testing Behavior of `tfd.Sample(tfd.MixtureSameFamily(...))`"
   ]
  },
  {
   "cell_type": "code",
   "execution_count": 7,
   "metadata": {},
   "outputs": [
    {
     "data": {
      "text/plain": [
       "TensorShape([6, 6])"
      ]
     },
     "execution_count": 7,
     "metadata": {},
     "output_type": "execute_result"
    }
   ],
   "source": [
    "Pi_test = tf.one_hot(np.arange(0, N_topics), N_topics)\n",
    "Pi_test.shape"
   ]
  },
  {
   "cell_type": "code",
   "execution_count": 8,
   "metadata": {},
   "outputs": [],
   "source": [
    "test0 = tfd.MixtureSameFamily(\n",
    "    mixture_distribution=tfd.Categorical(\n",
    "        probs=Pi_test\n",
    "    ),\n",
    "    components_distribution=tfd.Categorical(\n",
    "        probs=Theta\n",
    "    )\n",
    ").sample(N_words)"
   ]
  },
  {
   "cell_type": "code",
   "execution_count": 9,
   "metadata": {},
   "outputs": [
    {
     "data": {
      "text/plain": [
       "TensorShape([6, 50])"
      ]
     },
     "execution_count": 9,
     "metadata": {},
     "output_type": "execute_result"
    }
   ],
   "source": [
    "tf.transpose(test0).shape"
   ]
  },
  {
   "cell_type": "code",
   "execution_count": 10,
   "metadata": {},
   "outputs": [],
   "source": [
    "test1 = tfd.Sample(  \n",
    "    tfd.MixtureSameFamily(\n",
    "        mixture_distribution=tfd.Categorical(\n",
    "            probs=Pi_test\n",
    "        ),\n",
    "        components_distribution=tfd.Categorical(\n",
    "            probs=Theta\n",
    "        )\n",
    "    ),\n",
    "    sample_shape=(N_words)\n",
    ").sample()"
   ]
  },
  {
   "cell_type": "code",
   "execution_count": 11,
   "metadata": {},
   "outputs": [
    {
     "data": {
      "text/plain": [
       "TensorShape([6, 50])"
      ]
     },
     "execution_count": 11,
     "metadata": {},
     "output_type": "execute_result"
    }
   ],
   "source": [
    "test1.shape"
   ]
  },
  {
   "cell_type": "code",
   "execution_count": 12,
   "metadata": {},
   "outputs": [
    {
     "name": "stdout",
     "output_type": "stream",
     "text": [
      "Presenting documents [0 1 5 2 4 3]\n"
     ]
    },
    {
     "data": {
      "image/png": "[encoded data removed]",
      "text/plain": [
       "<Figure size 900x600 with 6 Axes>"
      ]
     },
     "metadata": {},
     "output_type": "display_data"
    }
   ],
   "source": [
    "_ = tp_utils.visualize_random_docs(test1, sqrt_N_vocab, 2, 3, False)"
   ]
  },
  {
   "cell_type": "markdown",
   "metadata": {},
   "source": [
    "### Preprocessing the Data\n",
    "\n",
    "If the document length is variable, `tfp` methods are not properly applicable, because as of 2022-11-15 it lacks capabilities for processing `tf.RaggedTensor`'s. Thus no (joint)-distribution can be defined which samples variable-length documents. The idea is, to pad each document to the size of the longest document base on the observed frequency of each token in the document in a catrgorical-distributed manner:\n",
    "\n",
    "$$\n",
    "    X_{\\textsf{pad}}^{(j)} \\overset{\\textsf{iid}}{\\sim} \\textsf{Categorcial}\\left( \\frac{\\textsf{count}(x_i)}{\\textsf{len}(\\textsf{doc}_j)}; \\ i =1,\\dots, V \\right)\n",
    "$$\n",
    "\n",
    "This should work becaus topic models are bag-of-words models where only the (relative) frequency of token occurances matter."
   ]
  },
  {
   "cell_type": "code",
   "execution_count": 13,
   "metadata": {},
   "outputs": [],
   "source": [
    "if ragged:\n",
    "    pad_token = N_vocab + 1\n",
    "    single_doclengths = W_DId.nested_row_lengths()[0].numpy()\n",
    "    N_words = tf.reduce_max(single_doclengths)\n",
    "    N_words_mean = tf.cast(tf.reduce_mean(single_doclengths), tf.float32)\n",
    "\n",
    "    W_DId_ragged = W_DId.to_tensor(N_vocab+1).numpy()\n",
    "    W_DId = []\n",
    "\n",
    "    def pad_single_doc(doc, length, N_words_max=N_words):\n",
    "        pad_size    = N_words_max - length\n",
    "        doc_padded  = doc\n",
    "        doc         = doc[doc != pad_token]\n",
    "        idx, freq   = np.unique(doc, return_counts=True)\n",
    "        freq        = freq / np.sum(freq)\n",
    "        pad         = np.random.choice(idx, size=pad_size, p=freq)\n",
    "        doc_padded[doc_padded == pad_token] = pad\n",
    "        return doc_padded\n",
    "\n",
    "    for doc, length in zip(W_DId_ragged, single_doclengths):\n",
    "        W_DId.append(pad_single_doc(doc, length))\n",
    "    \n",
    "    W_DId = tf.constant(W_DId, dtype=tf.int32)"
   ]
  },
  {
   "cell_type": "markdown",
   "metadata": {},
   "source": [
    "### Defining the Joint\n",
    "\n",
    "Orientation was provided by https://www.tensorflow.org/probability/examples/A_Tour_of_TensorFlow_Probability. Let $V$ be the size of the vocabulary, $D$ be the number of documents, $N$ be the (maximum) document size and $K$ be the number of topics. In this toy model which provides practical visualization capabilities we have $\\sqrt{V} \\in \\mathbb N$ and $K=2*\\sqrt{V} \\in \\mathbb N$.\n",
    "\n",
    "The Joint Model then is:\n",
    "- Topic-Token prevalences (how much a topic \"likes\" a word): \n",
    "$$\n",
    "    \\Theta \\sim \\textsf{Dirichlet}(\\beta) \\qquad \\Rightarrow \\qquad \\Theta \\in \\mathbb R^{K\\times V}\\ \\ \\textsf{such that} \\ \\ \\sum_{v=1}^V \\Theta_{kv} = 1\\ \\forall \\ k\\in \\{1, \\dots K\\}\\, .\n",
    "$$\n",
    "- Document-Topic prevalences (how much a document \"likes\" a topic):\n",
    "$$\n",
    "    \\Pi \\sim \\textsf{Dirichlet}(\\alpha)  \\qquad \\Rightarrow \\qquad \\Pi     \\in \\mathbb R^{D\\times K}\\ \\ \\textsf{such that} \\ \\ \\sum_{k=1}^K \\Pi_{dk}    = 1\\ \\forall \\ d\\in \\{1, \\dots D\\}\\, .\n",
    "$$\n",
    "- Topic-word assignments in each document (iid for all $N$ words in a document):\n",
    "$$\n",
    "    C \\vert \\Pi \\sim \\textsf{Categorical}(\\Pi) \\qquad \\Rightarrow \\qquad C \\in \\mathbb N^{D\\times N}\n",
    "$$ \n",
    "- Actual words in a document: $$P(w_{di}=v \\vert c_{dik}, \\Theta) = \\prod_k \\Theta_{kv}^{c_{dik}},$$ where $c_{dik}$ is one-hot encoded. This is equivalend to $$W \\vert C, \\Theta \\sim \\textsf{Categorical}(\\texttt{tf.gather(} \\Theta, C \\texttt{)} )\\, .$$\n",
    "\n",
    "The \"$C$-step\" can be \"integrated out\" using `tfp`'s `MixtureSameFamily`-distribution-class (see for gaussian mixture model in https://www.tensorflow.org/probability/examples/Bayesian_Gaussian_Mixture_Model).\n",
    "\n",
    "`tfp` provides multiple ways of defining joints. We use 2 of them (choose by setting the `auto_bached` setting upfront)."
   ]
  },
  {
   "cell_type": "markdown",
   "metadata": {},
   "source": [
    "#### Joint-Distribution auto-batched\n",
    "\n",
    "This option enables us to define the joint only for one instance, i. e. one document"
   ]
  },
  {
   "cell_type": "code",
   "execution_count": 14,
   "metadata": {},
   "outputs": [],
   "source": [
    "if auto_batched:\n",
    "\n",
    "    ## Priors:\n",
    "    alphas = tf.ones(N_topics,  dtype=tf.float32)\n",
    "    betas  = tf.ones((N_topics, N_vocab), dtype=tf.float32)\n",
    "\n",
    "    ## Joint\n",
    "    @tfd.JointDistributionCoroutineAutoBatched\n",
    "    def joint():\n",
    "        Pi    = yield tfd.Dirichlet(alphas, name=\"Pi\")\n",
    "        Theta = yield tfd.Dirichlet(betas,  name=\"Theta\")\n",
    "        yield tfd.Sample(  \n",
    "            tfd.MixtureSameFamily(\n",
    "                mixture_distribution=tfd.Categorical(\n",
    "                    probs=Pi\n",
    "                ),\n",
    "                components_distribution=tfd.Categorical(\n",
    "                    probs=Theta\n",
    "                )\n",
    "            ),\n",
    "            sample_shape=(N_words),\n",
    "            name=\"W\"\n",
    "        )\n",
    "\n",
    "    ## Sampling behavior \n",
    "    sample = joint.sample(N_docs)\n",
    "    words = sample[-1]\n",
    "    for key, val in zip([\"Pi\", \"Theta\", \"W\"], list(sample)):\n",
    "        print(f\"Sample Shape {key}: {val.shape}\")\n",
    "\n",
    "    ## Log-probability of observed (possibly padded data) assuming the joint\n",
    "    p = joint.log_prob(W=W_DId, Pi=Pi, Theta=Theta).numpy()\n",
    "    print(f\"Log-Probability of the observed data: {np.sum(p)}\")"
   ]
  },
  {
   "cell_type": "markdown",
   "metadata": {},
   "source": [
    "#### \"Classic\" Joint Distribution:\n",
    "\n",
    "Here we specify the whole joint distibution at once:"
   ]
  },
  {
   "cell_type": "code",
   "execution_count": 15,
   "metadata": {},
   "outputs": [
    {
     "name": "stdout",
     "output_type": "stream",
     "text": [
      "Sample Shape Theta: (6, 9)\n",
      "Sample Shape Pi: (300, 6)\n",
      "Sample Shape W: (300, 74)\n",
      "Log-Probability of the observed data: -43818.11328125\n"
     ]
    }
   ],
   "source": [
    "if not auto_batched:\n",
    "\n",
    "    ## Priors:\n",
    "    alphas = tf.ones((N_docs, N_topics),  dtype=tf.float32)\n",
    "    betas  = tf.ones((N_topics, N_vocab), dtype=tf.float32)\n",
    "            \n",
    "    ## Joint\n",
    "    joint = tfd.JointDistributionNamed(\n",
    "        dict(\n",
    "            Pi    = tfd.Dirichlet(alphas),\n",
    "            Theta = tfd.Dirichlet(betas),\n",
    "            W     = lambda Pi, Theta: tfd.Sample(  \n",
    "                tfd.MixtureSameFamily(\n",
    "                    mixture_distribution=tfd.Categorical(\n",
    "                        probs=Pi\n",
    "                    ),\n",
    "                    components_distribution=tfd.Categorical(\n",
    "                        probs=Theta\n",
    "                    )\n",
    "                ),\n",
    "                sample_shape=(N_words)\n",
    "            )\n",
    "        ),\n",
    "        batch_ndims=0,\n",
    "        use_vectorized_map=True\n",
    "    )\n",
    "\n",
    "    ## Sampling behavior \n",
    "    sample = joint.sample()\n",
    "    words = sample['W']\n",
    "    for key, val in sample.items():\n",
    "        print(f\"Sample Shape {key}: {val.shape}\")\n",
    "\n",
    "    ## Log-probability of observed (possibly padded data) assuming the joint\n",
    "    p = joint.log_prob(W=W_DId, Pi=Pi, Theta=Theta).numpy()\n",
    "    print(f\"Log-Probability of the observed data: {p}\")"
   ]
  },
  {
   "cell_type": "code",
   "execution_count": 16,
   "metadata": {},
   "outputs": [
    {
     "name": "stdout",
     "output_type": "stream",
     "text": [
      "Presenting documents [195 273  19 107  81  94   4 159 257 188]\n"
     ]
    },
    {
     "data": {
      "image/png": "[encoded data removed]",
      "text/plain": [
       "<Figure size 1500x600 with 10 Axes>"
      ]
     },
     "metadata": {},
     "output_type": "display_data"
    }
   ],
   "source": [
    "## Visualize documents from the prior-joint\n",
    "_ = tp_utils.visualize_random_docs(words, sqrt_V=sqrt_N_vocab)"
   ]
  },
  {
   "cell_type": "markdown",
   "metadata": {},
   "source": [
    "### Defining the unnormalized Posterior by introducing the Data:"
   ]
  },
  {
   "cell_type": "code",
   "execution_count": 17,
   "metadata": {},
   "outputs": [],
   "source": [
    "if auto_batched:\n",
    "    # Pin the observed `W_DId` values to model the un-normalized posterior.\n",
    "    unnormalized_posterior_dist = joint.experimental_pin(W=W_DId)\n",
    "    unnormalized_posterior = lambda Pi, Theta: tf.reduce_sum(unnormalized_posterior_dist.log_prob(Pi, Theta))\n",
    "\n",
    "if not auto_batched:\n",
    "    def unnormalized_posterior(Pi, Theta):\n",
    "        return joint.log_prob(W=W_DId, Pi=Pi, Theta=Theta) # Incorporate data with W_DId"
   ]
  },
  {
   "cell_type": "markdown",
   "metadata": {},
   "source": [
    "### HMC-Chain"
   ]
  },
  {
   "cell_type": "code",
   "execution_count": 18,
   "metadata": {},
   "outputs": [],
   "source": [
    "## tf-magic\n",
    "tf.config.experimental.enable_tensor_float_32_execution(False)"
   ]
  },
  {
   "cell_type": "code",
   "execution_count": 19,
   "metadata": {},
   "outputs": [],
   "source": [
    "## Constraining the Dirichlet-Samples to discrete probability vectors\n",
    "unconstraining_bijectors = [\n",
    "    tfb.SoftmaxCentered(),\n",
    "    tfb.SoftmaxCentered()\n",
    "]"
   ]
  },
  {
   "cell_type": "code",
   "execution_count": 20,
   "metadata": {},
   "outputs": [],
   "source": [
    "# Create an HMC TransitionKernel\n",
    "kernel = tfp.mcmc.SimpleStepSizeAdaptation(\n",
    "    tfp.mcmc.TransformedTransitionKernel(\n",
    "        inner_kernel=tfp.mcmc.HamiltonianMonteCarlo(\n",
    "            target_log_prob_fn=unnormalized_posterior,\n",
    "            step_size=0.065,\n",
    "            num_leapfrog_steps=5\n",
    "        ),\n",
    "    bijector=unconstraining_bijectors\n",
    "    ),\n",
    "    num_adaptation_steps=400\n",
    ")"
   ]
  },
  {
   "cell_type": "code",
   "execution_count": 21,
   "metadata": {},
   "outputs": [],
   "source": [
    "# We wrap sample_chain in tf.function, telling TF to precompile a reusable\n",
    "# computation graph, which will dramatically improve performance.\n",
    "@tf.function\n",
    "def run_chain(initial_state, num_results=1000, num_burnin_steps=500):\n",
    "    return tfp.mcmc.sample_chain(\n",
    "        num_results=num_results,\n",
    "        num_burnin_steps=num_burnin_steps,\n",
    "        current_state=initial_state,\n",
    "        kernel=kernel,\n",
    "        trace_fn=lambda _, pkr: pkr.inner_results.inner_results.is_accepted\n",
    "    )"
   ]
  },
  {
   "cell_type": "code",
   "execution_count": 22,
   "metadata": {},
   "outputs": [],
   "source": [
    "init_pis    = tf.ones_like(Pi, dtype=tf.float32)\n",
    "init_thetas = tf.ones_like(Theta, dtype=tf.float32)\n",
    "initial_state = [\n",
    "    init_pis, \n",
    "    init_thetas\n",
    "]\n",
    "\n",
    "samples, is_accepted = run_chain(initial_state)"
   ]
  },
  {
   "cell_type": "code",
   "execution_count": 23,
   "metadata": {},
   "outputs": [
    {
     "name": "stdout",
     "output_type": "stream",
     "text": [
      "Acceptance rate: 0.559\n"
     ]
    }
   ],
   "source": [
    "print(\"Acceptance rate:\", tf.reduce_sum(tf.cast(is_accepted, dtype=tf.int16)/is_accepted.shape[0]).numpy())"
   ]
  },
  {
   "cell_type": "code",
   "execution_count": 24,
   "metadata": {},
   "outputs": [],
   "source": [
    "Pi_fit    = tf.reduce_mean(samples[0], axis=0)\n",
    "Theta_fit = tf.reduce_mean(samples[1], axis=0)"
   ]
  },
  {
   "cell_type": "code",
   "execution_count": 25,
   "metadata": {},
   "outputs": [
    {
     "data": {
      "image/png": "[encoded data removed]",
      "text/plain": [
       "<Figure size 900x600 with 6 Axes>"
      ]
     },
     "metadata": {},
     "output_type": "display_data"
    }
   ],
   "source": [
    "_ = tp_utils.visualize_topics(Theta_fit, N_row=2, N_col=3)"
   ]
  },
  {
   "cell_type": "code",
   "execution_count": 30,
   "metadata": {},
   "outputs": [
    {
     "data": {
      "text/plain": [
       "<seaborn.axisgrid.FacetGrid at 0x22fc847cac0>"
      ]
     },
     "execution_count": 30,
     "metadata": {},
     "output_type": "execute_result"
    },
    {
     "data": {
      "image/png": "[encoded data removed]",
      "text/plain": [
       "<Figure size 500x500 with 1 Axes>"
      ]
     },
     "metadata": {},
     "output_type": "display_data"
    }
   ],
   "source": [
    "Theta_00 = samples[1][:, 0, 0].numpy()\n",
    "_ = sns.displot(\n",
    "    Theta_00, \n",
    "    kind=\"kde\"\n",
    ").set(\n",
    "    title=\"$\\Theta_{00}$ sample density\"\n",
    ")"
   ]
  },
  {
   "cell_type": "markdown",
   "metadata": {},
   "source": [
    "### Train on\n",
    "\n",
    "Optional: Re-initialize the sampling loop using the results from the first run."
   ]
  },
  {
   "cell_type": "code",
   "execution_count": 26,
   "metadata": {},
   "outputs": [],
   "source": [
    "if train_on:\n",
    "    initial_state = [\n",
    "        Pi_fit, \n",
    "        Theta_fit\n",
    "    ]\n",
    "    samples, is_accepted = run_chain(initial_state)\n",
    "\n",
    "    Pi_fit    = tf.reduce_mean(samples[0], axis=0)\n",
    "    Theta_fit = tf.reduce_mean(samples[1], axis=0)\n",
    "    _ = tp_utils.visualize_topics(samples[1][-1, :], N_row=2, N_col=3)"
   ]
  }
 ],
 "metadata": {
  "kernelspec": {
   "display_name": "Python 3.10.4 ('tfa-gpu')",
   "language": "python",
   "name": "python3"
  },
  "language_info": {
   "codemirror_mode": {
    "name": "ipython",
    "version": 3
   },
   "file_extension": ".py",
   "mimetype": "text/x-python",
   "name": "python",
   "nbconvert_exporter": "python",
   "pygments_lexer": "ipython3",
   "version": "3.10.4"
  },
  "orig_nbformat": 4,
  "vscode": {
   "interpreter": {
    "hash": "b28dcc1f87ebe436630d7ecff3a3c61833e6c22febb81b1e7cd0d34da649d2b8"
   }
  }
 },
 "nbformat": 4,
 "nbformat_minor": 2
}
