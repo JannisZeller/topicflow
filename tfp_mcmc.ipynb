{
 "cells": [
  {
   "cell_type": "markdown",
   "metadata": {},
   "source": [
    "# Topic Modelling with `tfp` built-in sampling utilities"
   ]
  },
  {
   "cell_type": "code",
   "execution_count": 999,
   "metadata": {},
   "outputs": [],
   "source": [
    "import tensorflow_probability as tfp\n",
    "import tensorflow as tf\n",
    "tfd = tfp.distributions\n",
    "tfb = tfp.bijectors\n",
    "import numpy as np\n",
    "from tqdm import tqdm\n",
    "\n",
    "from timeit import timeit\n",
    "\n",
    "np.random.seed(42)\n",
    "tf.random.set_seed(42)"
   ]
  },
  {
   "cell_type": "code",
   "execution_count": 1000,
   "metadata": {},
   "outputs": [],
   "source": [
    "from importlib import reload  \n",
    "\n",
    "import topicflow.utils  as tp_utils\n",
    "import topicflow.data   as tp_data\n",
    "import topicflow.models as tp_models\n",
    "\n",
    "tp_utils  = reload(tp_utils)\n",
    "tp_data   = reload(tp_data)\n",
    "tp_models = reload(tp_models)"
   ]
  },
  {
   "cell_type": "markdown",
   "metadata": {},
   "source": [
    "## Settings & Data"
   ]
  },
  {
   "cell_type": "code",
   "execution_count": 1001,
   "metadata": {},
   "outputs": [],
   "source": [
    "N_docs = 300\n",
    "sqrt_N_vocab = 3\n",
    "N_words = 50\n",
    "\n",
    "ragged = True\n",
    "\n",
    "N_topics = int(2*sqrt_N_vocab)\n",
    "N_vocab = int(sqrt_N_vocab**2)"
   ]
  },
  {
   "cell_type": "code",
   "execution_count": 1002,
   "metadata": {},
   "outputs": [],
   "source": [
    "if ragged:\n",
    "    data = tp_data.squareLDDocuments(\n",
    "        N_docs=N_docs, \n",
    "        sqrt_N_vocab=sqrt_N_vocab, \n",
    "        N_words_rate=N_words)\n",
    "\n",
    "if not ragged:   \n",
    "    data = tp_data.squareLDDocuments(\n",
    "        N_docs=N_docs, \n",
    "        sqrt_N_vocab=sqrt_N_vocab, \n",
    "        N_words_fixed=N_words)\n"
   ]
  },
  {
   "cell_type": "code",
   "execution_count": 1003,
   "metadata": {},
   "outputs": [],
   "source": [
    "Theta, Pi, C_DId, C_DIdK, W_DId = data.extract_params()"
   ]
  },
  {
   "cell_type": "code",
   "execution_count": 1004,
   "metadata": {},
   "outputs": [
    {
     "data": {
      "image/png": "[encoded data removed]",
      "text/plain": [
       "<Figure size 900x600 with 6 Axes>"
      ]
     },
     "metadata": {},
     "output_type": "display_data"
    }
   ],
   "source": [
    "_ = tp_utils.visualize_topics(Theta, N_row=2, N_col=3)"
   ]
  },
  {
   "cell_type": "markdown",
   "metadata": {},
   "source": [
    "## Inference\n",
    "\n",
    "Thx to https://www.tensorflow.org/probability/examples/A_Tour_of_TensorFlow_Probability\n",
    "\n",
    "The Joint Model is:\n",
    "- $\\Theta$ fixed\n",
    "- $\\Pi \\sim \\textsf{Dirichlet}(\\alpha)$\n",
    "- $C \\vert \\Pi \\sim \\textsf{Categorical}(\\Pi)$ \n",
    "- $P(w_{di}=v \\vert c_{dik}, \\Theta) = \\prod_k \\Theta_{kv}^{c_{dik}}$, where $c_{dik}$ is one-hot encoded. This is equivalend to $W \\vert C, \\Theta \\sim \\textsf{Categorical}(\\texttt{tf.gather(} \\Theta, C \\texttt{)} )$\n",
    "\n",
    "The \"$C$-step\" can be integrated out using `tfp`'s `MixtureSameFamily`-distribution-class (see for gaussian mixture model in https://www.tensorflow.org/probability/examples/Bayesian_Gaussian_Mixture_Model)."
   ]
  },
  {
   "cell_type": "markdown",
   "metadata": {},
   "source": [
    "### Testing Behavior of `tfd.Sample(tfd.MixtureSameFamily(...))`"
   ]
  },
  {
   "cell_type": "code",
   "execution_count": 1005,
   "metadata": {},
   "outputs": [
    {
     "data": {
      "text/plain": [
       "TensorShape([6, 6])"
      ]
     },
     "execution_count": 1005,
     "metadata": {},
     "output_type": "execute_result"
    }
   ],
   "source": [
    "Pi_test = tf.one_hot(np.arange(0, N_topics), N_topics)\n",
    "Pi_test.shape"
   ]
  },
  {
   "cell_type": "code",
   "execution_count": 1006,
   "metadata": {},
   "outputs": [],
   "source": [
    "test0 = tfd.MixtureSameFamily(\n",
    "    mixture_distribution=tfd.Categorical(\n",
    "        probs=Pi_test\n",
    "    ),\n",
    "    components_distribution=tfd.Categorical(\n",
    "        probs=Theta\n",
    "    )\n",
    ").sample(N_words)"
   ]
  },
  {
   "cell_type": "code",
   "execution_count": 1007,
   "metadata": {},
   "outputs": [
    {
     "data": {
      "text/plain": [
       "TensorShape([6, 50])"
      ]
     },
     "execution_count": 1007,
     "metadata": {},
     "output_type": "execute_result"
    }
   ],
   "source": [
    "tf.transpose(test0).shape"
   ]
  },
  {
   "cell_type": "code",
   "execution_count": 1008,
   "metadata": {},
   "outputs": [],
   "source": [
    "test1 = tfd.Sample(  \n",
    "    tfd.MixtureSameFamily(\n",
    "        mixture_distribution=tfd.Categorical(\n",
    "            probs=Pi_test\n",
    "        ),\n",
    "        components_distribution=tfd.Categorical(\n",
    "            probs=Theta\n",
    "        )\n",
    "    ),\n",
    "    sample_shape=(N_words)\n",
    ").sample()"
   ]
  },
  {
   "cell_type": "code",
   "execution_count": 1009,
   "metadata": {},
   "outputs": [
    {
     "data": {
      "text/plain": [
       "TensorShape([6, 50])"
      ]
     },
     "execution_count": 1009,
     "metadata": {},
     "output_type": "execute_result"
    }
   ],
   "source": [
    "test1.shape"
   ]
  },
  {
   "cell_type": "code",
   "execution_count": 1010,
   "metadata": {},
   "outputs": [
    {
     "name": "stdout",
     "output_type": "stream",
     "text": [
      "Presenting documents [0 1 5 2 4 3]\n"
     ]
    },
    {
     "data": {
      "image/png": "[encoded data removed]",
      "text/plain": [
       "<Figure size 900x600 with 6 Axes>"
      ]
     },
     "metadata": {},
     "output_type": "display_data"
    }
   ],
   "source": [
    "_ = tp_utils.visualize_random_docs(test1, sqrt_N_vocab, 2, 3, False)"
   ]
  },
  {
   "cell_type": "markdown",
   "metadata": {},
   "source": [
    "### Defining the Joint"
   ]
  },
  {
   "cell_type": "code",
   "execution_count": 1011,
   "metadata": {},
   "outputs": [],
   "source": [
    "## Priors:\n",
    "alphas = tf.ones((N_docs, N_topics),  dtype=tf.float32)\n",
    "betas  = tf.ones((N_topics, N_vocab), dtype=tf.float32)\n",
    "N_words_max = N_words\n",
    "\n",
    "\n",
    "## Variable Lengths\n",
    "#  There is no capability for variable document length in tensorflow probability\n",
    "#  (as far as I know, 2022-11-14). Therefore I pad each document by sampling \n",
    "#  from the observed frequency of words in the document \"plain\"to the maximum \n",
    "#  doclength.\n",
    "if ragged:\n",
    "    pad_token = N_vocab + 1\n",
    "    single_doclengths = W_DId.nested_row_lengths()[0].numpy()\n",
    "    N_words_max = tf.reduce_max(single_doclengths)\n",
    "    N_words_mean = tf.cast(tf.reduce_mean(single_doclengths), tf.float32)\n",
    "\n",
    "    W_DId_ragged = W_DId.to_tensor(N_vocab+1).numpy()\n",
    "    W_DId = []\n",
    "\n",
    "    def pad_single_doc(doc, length, N_words_max=N_words_max):\n",
    "        pad_size    = N_words_max - length\n",
    "        doc_padded  = doc\n",
    "        doc         = doc[doc != pad_token]\n",
    "        idx, freq   = np.unique(doc, return_counts=True)\n",
    "        freq        = freq / np.sum(freq)\n",
    "        pad         = np.random.choice(idx, size=pad_size, p=freq)\n",
    "        doc_padded[doc_padded == pad_token] = pad\n",
    "        return doc_padded\n",
    "\n",
    "    for doc, length in zip(W_DId_ragged, single_doclengths):\n",
    "        W_DId.append(pad_single_doc(doc, length))\n",
    "    \n",
    "    W_DId = tf.constant(W_DId, dtype=tf.int32)\n",
    "        \n",
    "        \n",
    "## Joint\n",
    "joint = tfd.JointDistributionNamed(\n",
    "    dict(\n",
    "        Pi    = tfd.Dirichlet(alphas),\n",
    "        Theta = tfd.Dirichlet(betas),\n",
    "        W     = lambda Pi, Theta: tfd.Sample(  \n",
    "            tfd.MixtureSameFamily(\n",
    "                mixture_distribution=tfd.Categorical(\n",
    "                    probs=Pi\n",
    "                ),\n",
    "                components_distribution=tfd.Categorical(\n",
    "                    probs=Theta\n",
    "                )\n",
    "            ),\n",
    "            sample_shape=(N_words_max)\n",
    "        )\n",
    "    ),\n",
    "    batch_ndims=0,\n",
    "    use_vectorized_map=True\n",
    ")\n",
    "\n"
   ]
  },
  {
   "cell_type": "code",
   "execution_count": 1012,
   "metadata": {},
   "outputs": [
    {
     "data": {
      "text/plain": [
       "TensorShape([300, 74])"
      ]
     },
     "execution_count": 1012,
     "metadata": {},
     "output_type": "execute_result"
    }
   ],
   "source": [
    "joint.sample()['W'].shape"
   ]
  },
  {
   "cell_type": "code",
   "execution_count": 1013,
   "metadata": {},
   "outputs": [
    {
     "data": {
      "text/plain": [
       "<tf.Tensor: shape=(), dtype=float32, numpy=-43818.113>"
      ]
     },
     "execution_count": 1013,
     "metadata": {},
     "output_type": "execute_result"
    }
   ],
   "source": [
    "## Testing\n",
    "joint.log_prob(W=W_DId, Pi=Pi, Theta=Theta)"
   ]
  },
  {
   "cell_type": "code",
   "execution_count": 1014,
   "metadata": {},
   "outputs": [
    {
     "name": "stdout",
     "output_type": "stream",
     "text": [
      "Presenting documents [195 273  19 107  81  94   4 159 257 188]\n"
     ]
    },
    {
     "data": {
      "image/png": "[encoded data removed]",
      "text/plain": [
       "<Figure size 1500x600 with 10 Axes>"
      ]
     },
     "metadata": {},
     "output_type": "display_data"
    }
   ],
   "source": [
    "## Visualize draw from the prior-joint\n",
    "_ = tp_utils.visualize_random_docs(joint.sample()['W'], sqrt_V=sqrt_N_vocab)"
   ]
  },
  {
   "cell_type": "markdown",
   "metadata": {},
   "source": [
    "### Defining the unnormalized Posterior by introducing the Data:"
   ]
  },
  {
   "cell_type": "code",
   "execution_count": 1015,
   "metadata": {},
   "outputs": [],
   "source": [
    "def unnormalized_posterior(Pi, Theta):\n",
    "    return joint.log_prob(W=W_DId, Pi=Pi, Theta=Theta) # Incorporate data with W_DId"
   ]
  },
  {
   "cell_type": "markdown",
   "metadata": {},
   "source": [
    "### HMC-Chain"
   ]
  },
  {
   "cell_type": "code",
   "execution_count": 1016,
   "metadata": {},
   "outputs": [],
   "source": [
    "## tf-magic\n",
    "tf.config.experimental.enable_tensor_float_32_execution(False)"
   ]
  },
  {
   "cell_type": "code",
   "execution_count": 1017,
   "metadata": {},
   "outputs": [],
   "source": [
    "## Constraining the Dirichlet-Samples to discrete probability vectors\n",
    "unconstraining_bijectors = [\n",
    "    tfb.SoftmaxCentered(),\n",
    "    tfb.SoftmaxCentered()\n",
    "]"
   ]
  },
  {
   "cell_type": "code",
   "execution_count": 1018,
   "metadata": {},
   "outputs": [],
   "source": [
    "# Create an HMC TransitionKernel\n",
    "kernel = tfp.mcmc.SimpleStepSizeAdaptation(\n",
    "    tfp.mcmc.TransformedTransitionKernel(\n",
    "        inner_kernel=tfp.mcmc.HamiltonianMonteCarlo(\n",
    "            target_log_prob_fn=unnormalized_posterior,\n",
    "            step_size=0.065,\n",
    "            num_leapfrog_steps=5\n",
    "        ),\n",
    "    bijector=unconstraining_bijectors\n",
    "    ),\n",
    "    num_adaptation_steps=400\n",
    ")"
   ]
  },
  {
   "cell_type": "code",
   "execution_count": 1019,
   "metadata": {},
   "outputs": [],
   "source": [
    "# We wrap sample_chain in tf.function, telling TF to precompile a reusable\n",
    "# computation graph, which will dramatically improve performance.\n",
    "@tf.function\n",
    "def run_chain(initial_state, num_results=1000, num_burnin_steps=500):\n",
    "    return tfp.mcmc.sample_chain(\n",
    "        num_results=num_results,\n",
    "        num_burnin_steps=num_burnin_steps,\n",
    "        current_state=initial_state,\n",
    "        kernel=kernel,\n",
    "        trace_fn=lambda _, pkr: pkr.inner_results.inner_results.is_accepted\n",
    "    )"
   ]
  },
  {
   "cell_type": "code",
   "execution_count": 1020,
   "metadata": {},
   "outputs": [],
   "source": [
    "initial_state = [\n",
    "    tf.ones_like(Pi,    dtype=tf.float32), \n",
    "    tf.ones_like(Theta, dtype=tf.float32)\n",
    "]\n",
    "samples, is_accepted = run_chain(initial_state)"
   ]
  },
  {
   "cell_type": "code",
   "execution_count": 1021,
   "metadata": {},
   "outputs": [
    {
     "name": "stdout",
     "output_type": "stream",
     "text": [
      "Acceptance rate: 0.559\n"
     ]
    }
   ],
   "source": [
    "print(\"Acceptance rate:\", tf.reduce_sum(tf.cast(is_accepted, dtype=tf.int16)/is_accepted.shape[0]).numpy())"
   ]
  },
  {
   "cell_type": "code",
   "execution_count": 1022,
   "metadata": {},
   "outputs": [],
   "source": [
    "Pi_fit    = tf.reduce_mean(samples[0], axis=0)\n",
    "Theta_fit = tf.reduce_mean(samples[1], axis=0)"
   ]
  },
  {
   "cell_type": "code",
   "execution_count": 1023,
   "metadata": {},
   "outputs": [
    {
     "data": {
      "image/png": "[encoded data removed]",
      "text/plain": [
       "<Figure size 900x600 with 6 Axes>"
      ]
     },
     "metadata": {},
     "output_type": "display_data"
    }
   ],
   "source": [
    "_ = tp_utils.visualize_topics(Theta_fit, N_row=2, N_col=3)"
   ]
  },
  {
   "cell_type": "code",
   "execution_count": 1024,
   "metadata": {},
   "outputs": [],
   "source": [
    "initial_state = [\n",
    "    Pi_fit, \n",
    "    Theta_fit\n",
    "]\n",
    "samples, is_accepted = run_chain(initial_state)"
   ]
  },
  {
   "cell_type": "code",
   "execution_count": 1025,
   "metadata": {},
   "outputs": [],
   "source": [
    "Pi_fit    = tf.reduce_mean(samples[0], axis=0)\n",
    "Theta_fit = tf.reduce_mean(samples[1], axis=0)"
   ]
  },
  {
   "cell_type": "code",
   "execution_count": 1026,
   "metadata": {},
   "outputs": [
    {
     "data": {
      "image/png": "[encoded data removed]",
      "text/plain": [
       "<Figure size 900x600 with 6 Axes>"
      ]
     },
     "metadata": {},
     "output_type": "display_data"
    }
   ],
   "source": [
    "_ = tp_utils.visualize_topics(samples[1][-1, :], N_row=2, N_col=3)"
   ]
  },
  {
   "cell_type": "code",
   "execution_count": null,
   "metadata": {},
   "outputs": [],
   "source": []
  }
 ],
 "metadata": {
  "kernelspec": {
   "display_name": "Python 3.10.4 ('tfa-gpu')",
   "language": "python",
   "name": "python3"
  },
  "language_info": {
   "codemirror_mode": {
    "name": "ipython",
    "version": 3
   },
   "file_extension": ".py",
   "mimetype": "text/x-python",
   "name": "python",
   "nbconvert_exporter": "python",
   "pygments_lexer": "ipython3",
   "version": "3.10.4"
  },
  "orig_nbformat": 4,
  "vscode": {
   "interpreter": {
    "hash": "b28dcc1f87ebe436630d7ecff3a3c61833e6c22febb81b1e7cd0d34da649d2b8"
   }
  }
 },
 "nbformat": 4,
 "nbformat_minor": 2
}
