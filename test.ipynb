{
 "cells": [
  {
   "cell_type": "markdown",
   "metadata": {},
   "source": [
    "# Toy Model\n",
    "\n",
    "Trying toy model inspired by [Griffiths & Steyvers, 2004](https://doi.org/10.1073/pnas.0307752101)."
   ]
  },
  {
   "cell_type": "code",
   "execution_count": 430,
   "metadata": {},
   "outputs": [],
   "source": [
    "import tensorflow_probability as tfp\n",
    "import tensorflow as tf\n",
    "tfd = tfp.distributions\n",
    "import numpy as np\n",
    "import matplotlib.pyplot as plt\n",
    "\n",
    "np.random.seed(42)\n",
    "tf.random.set_seed(42)"
   ]
  },
  {
   "cell_type": "markdown",
   "metadata": {},
   "source": [
    "### Setting up Topics and Data\n",
    "\n",
    "1. Specify global parameters"
   ]
  },
  {
   "cell_type": "code",
   "execution_count": 431,
   "metadata": {},
   "outputs": [],
   "source": [
    "## Number of Topics\n",
    "K = 10\n",
    "\n",
    "## Square Root of the Number of \"Vocabulary\" (must be sqrt such that pictorial interpretation is possible)\n",
    "sqrtV = 5\n",
    "\n",
    "## Number of words per document\n",
    "N = 100\n",
    "\n",
    "## Number of documents\n",
    "D = 1000"
   ]
  },
  {
   "cell_type": "markdown",
   "metadata": {},
   "source": [
    "2. Define Topic-Word relations"
   ]
  },
  {
   "cell_type": "code",
   "execution_count": 432,
   "metadata": {},
   "outputs": [],
   "source": [
    "## Word grid\n",
    "V_grid = np.reshape(np.arange(0, sqrtV**2), newshape=(sqrtV, sqrtV))\n",
    "\n",
    "## Topic-Word Distribution\n",
    "#  Words belonging to a topic are rows and columns\n",
    "Theta_idx = [row for row in V_grid] + [col for col in V_grid.T]\n",
    "Theta = np.zeros((K, sqrtV**2))\n",
    "for k, idx in enumerate(Theta_idx):\n",
    "    Theta[k, idx] = 1. / sqrtV\n",
    "\n",
    "## Document topic prior\n",
    "Alpha = 1"
   ]
  },
  {
   "cell_type": "markdown",
   "metadata": {},
   "source": [
    "3. Generating Data"
   ]
  },
  {
   "cell_type": "code",
   "execution_count": 433,
   "metadata": {},
   "outputs": [
    {
     "data": {
      "text/plain": [
       "TensorShape([1000, 100])"
      ]
     },
     "execution_count": 433,
     "metadata": {},
     "output_type": "execute_result"
    }
   ],
   "source": [
    "## Topic-Word Distibution is omitted because Theta is fixed\n",
    "\n",
    "## Document-Topic Distribution\n",
    "dist_Pi = tfd.Dirichlet(K*[Alpha])\n",
    "Pi      = dist_Pi.sample(D)\n",
    "\n",
    "## Topic Assignments of word c_{dik} of word w_{di}\n",
    "dist_C    = tfd.Categorical(probs=Pi)\n",
    "C         = tf.reshape(dist_C.sample(N), shape=(D, -1)) ## Its more efficient to reshape before converting to one_hot vectors\n",
    "C_one_hot = tf.one_hot(C, depth=K, axis=-1)\n",
    "assert tf.reduce_all(tf.reduce_sum(C_one_hot, axis=-1) == 1)\n",
    "\n",
    "## Draw words w_{di}\n",
    "dist_W = tfd.Categorical(Theta[C, :])\n",
    "W = dist_W.sample()\n",
    "W.shape"
   ]
  },
  {
   "cell_type": "code",
   "execution_count": 434,
   "metadata": {},
   "outputs": [
    {
     "name": "stdout",
     "output_type": "stream",
     "text": [
      "(1000, 10)\n",
      "(1000, 100)\n",
      "(1000, 100)\n"
     ]
    }
   ],
   "source": [
    "print(Pi.shape)\n",
    "print(C.shape)\n",
    "print(W.shape)"
   ]
  },
  {
   "cell_type": "markdown",
   "metadata": {},
   "source": [
    "## Visualization"
   ]
  },
  {
   "cell_type": "code",
   "execution_count": 435,
   "metadata": {},
   "outputs": [],
   "source": [
    "def format_to_img(arr, sqrtV=5):\n",
    "    vals = dict(zip(*np.unique(arr, return_counts=True)))\n",
    "    img = []\n",
    "\n",
    "    for i in range(sqrtV**2):\n",
    "        if i in vals:\n",
    "            img.append(vals[i])\n",
    "        else:\n",
    "            img.append(0)\n",
    "\n",
    "    img = np.array(img).reshape(sqrtV, sqrtV)\n",
    "\n",
    "    return img"
   ]
  },
  {
   "cell_type": "code",
   "execution_count": 436,
   "metadata": {},
   "outputs": [
    {
     "data": {
      "text/plain": [
       "<matplotlib.image.AxesImage at 0x1767590c6a0>"
      ]
     },
     "execution_count": 436,
     "metadata": {},
     "output_type": "execute_result"
    },
    {
     "data": {
      "image/png": "[encoded data removed]",
      "text/plain": [
       "<Figure size 640x480 with 1 Axes>"
      ]
     },
     "metadata": {},
     "output_type": "display_data"
    }
   ],
   "source": [
    "plt.imshow(format_to_img(W[10]), cmap=\"Greys\")"
   ]
  },
  {
   "cell_type": "markdown",
   "metadata": {},
   "source": [
    "## Gibbs Sampler"
   ]
  },
  {
   "cell_type": "code",
   "execution_count": 451,
   "metadata": {},
   "outputs": [],
   "source": [
    "def n_tensor(W, C_one_hot, V=25):\n",
    "    W = W.numpy()\n",
    "    C_one_hot = C_one_hot.numpy()\n",
    "    n = np.zeros(shape=(C_one_hot.shape[0], C_one_hot.shape[2], V))\n",
    "    for v in range(V):\n",
    "        # print(v)\n",
    "        for i in range(C_one_hot.shape[1]):\n",
    "            for d in range(C_one_hot.shape[0]):\n",
    "                for k in range(C_one_hot.shape[2]):\n",
    "                    if W[d, i] == v and C_one_hot[d, i, k] == 1:\n",
    "                        n[d, k, v] += 1\n",
    "    return n\n",
    "\n",
    "@tf.function\n",
    "def tf_N_tensor(W, C_one_hot, V=25):\n",
    "    \n",
    "    N_tensor = tf.Variable(tf.zeros(shape=(C_one_hot.shape[0], C_one_hot.shape[2], V)))\n",
    "\n",
    "    # W = tf.cast(W, dtype=tf.float32) + 1. ## Adding 1 shifting vocab to 1:26, s. t. vectorized removal is possible by product\n",
    "    # for k in range(C_one_hot.shape[-1]):\n",
    "    #     temp = W * C_one_hot[:, :, k]\n",
    "    #     for v in range(1, V+1):\n",
    "    #         if temp == v:\n",
    "    #             N_tensor\n",
    "\n",
    "    for v in range(V):\n",
    "        # print(v)\n",
    "        for i in range(C_one_hot.shape[1]):\n",
    "            for d in range(C_one_hot.shape[0]):\n",
    "                for k in range(C_one_hot.shape[2]):\n",
    "                    if W[d, i] == v and C_one_hot[d, i, k] == 1:\n",
    "                        N_tensor[d, k, v].assign(1.)\n",
    "\n",
    "\n"
   ]
  },
  {
   "cell_type": "code",
   "execution_count": 438,
   "metadata": {},
   "outputs": [
    {
     "data": {
      "text/plain": [
       "<tf.Tensor: shape=(1000, 100), dtype=int32, numpy=\n",
       "array([[12, 10, 22, ..., 19, 14, 16],\n",
       "       [18, 16,  8, ..., 17,  3, 14],\n",
       "       [10, 18,  4, ...,  3, 13,  0],\n",
       "       ...,\n",
       "       [13,  8, 19, ..., 16,  1, 21],\n",
       "       [10, 10,  3, ..., 11, 19, 21],\n",
       "       [10, 12, 10, ..., 24, 18, 23]])>"
      ]
     },
     "execution_count": 438,
     "metadata": {},
     "output_type": "execute_result"
    }
   ],
   "source": [
    "W "
   ]
  },
  {
   "cell_type": "code",
   "execution_count": 439,
   "metadata": {},
   "outputs": [],
   "source": [
    "N_iter = 100\n",
    "Theta_store = []\n",
    "W_ = W"
   ]
  },
  {
   "cell_type": "code",
   "execution_count": 440,
   "metadata": {},
   "outputs": [],
   "source": [
    "C0  = np.random.randint(0, 10,  size=(D, N))\n",
    "C0_one_hot = tf.one_hot(C0, depth=K, axis=-1)\n",
    "\n",
    "alpha0 = np.random.randint(0, 10,  size=(D, N))\n",
    "\n",
    "beta0 = np.random.normal(size=(D, K))\n",
    "\n",
    "\n",
    "# Pi0 = np.random.normal(size=(D, K))"
   ]
  },
  {
   "cell_type": "code",
   "execution_count": 441,
   "metadata": {},
   "outputs": [
    {
     "data": {
      "text/plain": [
       "TensorShape([1000, 100, 10])"
      ]
     },
     "execution_count": 441,
     "metadata": {},
     "output_type": "execute_result"
    }
   ],
   "source": [
    "C0_one_hot.shape"
   ]
  },
  {
   "cell_type": "code",
   "execution_count": 442,
   "metadata": {},
   "outputs": [
    {
     "data": {
      "text/plain": [
       "<tf.Tensor: shape=(1000, 100), dtype=float32, numpy=\n",
       "array([[ 0.,  0.,  0., ..., 20.,  0.,  0.],\n",
       "       [ 0.,  0.,  0., ...,  0.,  0.,  0.],\n",
       "       [ 0.,  0.,  0., ...,  4.,  0.,  0.],\n",
       "       ...,\n",
       "       [ 0.,  0.,  0., ...,  0.,  0.,  0.],\n",
       "       [ 0.,  0.,  4., ...,  0.,  0.,  0.],\n",
       "       [ 0., 13.,  0., ...,  0.,  0.,  0.]], dtype=float32)>"
      ]
     },
     "execution_count": 442,
     "metadata": {},
     "output_type": "execute_result"
    }
   ],
   "source": [
    "W1 = tf.cast(W_, dtype=tf.float32) + 1.\n",
    "W1 * C_one_hot[:, :, 0]"
   ]
  },
  {
   "cell_type": "code",
   "execution_count": 443,
   "metadata": {},
   "outputs": [
    {
     "data": {
      "text/plain": [
       "array([[[0., 0., 0., ..., 0., 0., 0.],\n",
       "        [1., 0., 1., ..., 0., 0., 2.],\n",
       "        [0., 0., 0., ..., 0., 1., 1.],\n",
       "        ...,\n",
       "        [0., 0., 1., ..., 1., 0., 1.],\n",
       "        [0., 0., 0., ..., 0., 0., 2.],\n",
       "        [1., 1., 0., ..., 0., 0., 0.]],\n",
       "\n",
       "       [[0., 1., 0., ..., 3., 0., 1.],\n",
       "        [1., 0., 0., ..., 1., 0., 0.],\n",
       "        [1., 2., 0., ..., 0., 0., 0.],\n",
       "        ...,\n",
       "        [1., 0., 0., ..., 1., 0., 0.],\n",
       "        [0., 1., 0., ..., 0., 0., 1.],\n",
       "        [0., 0., 0., ..., 1., 1., 0.]],\n",
       "\n",
       "       [[1., 0., 1., ..., 0., 0., 0.],\n",
       "        [0., 0., 1., ..., 1., 0., 0.],\n",
       "        [0., 1., 1., ..., 1., 1., 0.],\n",
       "        ...,\n",
       "        [0., 0., 0., ..., 0., 0., 0.],\n",
       "        [1., 0., 0., ..., 0., 0., 0.],\n",
       "        [0., 0., 0., ..., 0., 0., 0.]],\n",
       "\n",
       "       ...,\n",
       "\n",
       "       [[0., 2., 0., ..., 0., 1., 0.],\n",
       "        [1., 1., 0., ..., 1., 0., 0.],\n",
       "        [0., 0., 1., ..., 1., 0., 2.],\n",
       "        ...,\n",
       "        [0., 0., 2., ..., 0., 0., 0.],\n",
       "        [1., 1., 2., ..., 0., 0., 0.],\n",
       "        [1., 0., 1., ..., 0., 1., 0.]],\n",
       "\n",
       "       [[0., 0., 1., ..., 1., 0., 0.],\n",
       "        [0., 0., 1., ..., 0., 0., 0.],\n",
       "        [0., 1., 0., ..., 0., 1., 0.],\n",
       "        ...,\n",
       "        [0., 0., 1., ..., 0., 0., 1.],\n",
       "        [0., 1., 0., ..., 0., 0., 1.],\n",
       "        [1., 0., 0., ..., 0., 0., 0.]],\n",
       "\n",
       "       [[1., 0., 1., ..., 0., 2., 2.],\n",
       "        [1., 0., 0., ..., 0., 1., 1.],\n",
       "        [1., 1., 0., ..., 0., 0., 0.],\n",
       "        ...,\n",
       "        [0., 0., 0., ..., 1., 2., 2.],\n",
       "        [0., 0., 1., ..., 0., 0., 0.],\n",
       "        [0., 1., 1., ..., 0., 0., 0.]]])"
      ]
     },
     "execution_count": 443,
     "metadata": {},
     "output_type": "execute_result"
    }
   ],
   "source": [
    "n_tensor(W_, C0_one_hot)"
   ]
  },
  {
   "cell_type": "code",
   "execution_count": null,
   "metadata": {},
   "outputs": [],
   "source": [
    "for iter in range(N_iter):\n",
    "    Ndkv = \n",
    "    Theta_it = tfd.Dirichlet()"
   ]
  }
 ],
 "metadata": {
  "kernelspec": {
   "display_name": "Python 3.10.4 ('tfa-gpu')",
   "language": "python",
   "name": "python3"
  },
  "language_info": {
   "codemirror_mode": {
    "name": "ipython",
    "version": 3
   },
   "file_extension": ".py",
   "mimetype": "text/x-python",
   "name": "python",
   "nbconvert_exporter": "python",
   "pygments_lexer": "ipython3",
   "version": "3.10.4"
  },
  "orig_nbformat": 4,
  "vscode": {
   "interpreter": {
    "hash": "b28dcc1f87ebe436630d7ecff3a3c61833e6c22febb81b1e7cd0d34da649d2b8"
   }
  }
 },
 "nbformat": 4,
 "nbformat_minor": 2
}
